{
 "cells": [
  {
   "cell_type": "markdown",
   "metadata": {},
   "source": [
    "# <p style=\"text-align:center;\"> Machine Learning & Statistics- Assessment 2019</p>"
   ]
  },
  {
   "cell_type": "markdown",
   "metadata": {},
   "source": [
    "# <p style=\"text-align:center;\"> The Boston House Price Dataset</p>"
   ]
  },
  {
   "cell_type": "markdown",
   "metadata": {},
   "source": [
    "## <font color=red> Setting up the environment</font>"
   ]
  },
  {
   "cell_type": "code",
   "execution_count": 2,
   "metadata": {},
   "outputs": [
    {
     "name": "stderr",
     "output_type": "stream",
     "text": [
      "Using TensorFlow backend.\n"
     ]
    }
   ],
   "source": [
    "import pandas as pd #import the pandas library\n",
    "import numpy as np #import the numpy library\n",
    "import matplotlib.pyplot as plt #import the matplot library\n",
    "import seaborn as sns #import seaborn library\n",
    "import scipy as sp #import scipy\n",
    "from sklearn.datasets import load_boston #load the boston house proce index from the sklearn library\n",
    "from string import ascii_letters #from the string module import concatenation of the ascii upper & lower constants[3]\n",
    "import scipy.stats as ss #from scipy import the statistics module\n",
    "from matplotlib import figure\n",
    "from pylab import rcParams\n",
    "import keras as kr"
   ]
  },
  {
   "cell_type": "code",
   "execution_count": 3,
   "metadata": {},
   "outputs": [],
   "source": [
    "#rename the load_boston dataset to boston_dataset\n",
    "#create a pandas dataframe from the dataset and call it boston\n",
    "boston_dataset = load_boston()\n",
    "boston = pd.DataFrame(boston_dataset.data, columns=boston_dataset.feature_names)"
   ]
  },
  {
   "cell_type": "code",
   "execution_count": 4,
   "metadata": {},
   "outputs": [],
   "source": [
    "#Add the MEDV to the dataset\n",
    "boston['MEDV'] = boston_dataset.target "
   ]
  },
  {
   "cell_type": "code",
   "execution_count": 5,
   "metadata": {
    "scrolled": true
   },
   "outputs": [
    {
     "data": {
      "text/html": [
       "<div>\n",
       "<style scoped>\n",
       "    .dataframe tbody tr th:only-of-type {\n",
       "        vertical-align: middle;\n",
       "    }\n",
       "\n",
       "    .dataframe tbody tr th {\n",
       "        vertical-align: top;\n",
       "    }\n",
       "\n",
       "    .dataframe thead th {\n",
       "        text-align: right;\n",
       "    }\n",
       "</style>\n",
       "<table border=\"1\" class=\"dataframe\">\n",
       "  <thead>\n",
       "    <tr style=\"text-align: right;\">\n",
       "      <th></th>\n",
       "      <th>CRIM</th>\n",
       "      <th>ZN</th>\n",
       "      <th>INDUS</th>\n",
       "      <th>CHAS</th>\n",
       "      <th>NOX</th>\n",
       "      <th>RM</th>\n",
       "      <th>AGE</th>\n",
       "      <th>DIS</th>\n",
       "      <th>RAD</th>\n",
       "      <th>TAX</th>\n",
       "      <th>PTRATIO</th>\n",
       "      <th>B</th>\n",
       "      <th>LSTAT</th>\n",
       "      <th>MEDV</th>\n",
       "    </tr>\n",
       "  </thead>\n",
       "  <tbody>\n",
       "    <tr>\n",
       "      <td>0</td>\n",
       "      <td>0.00632</td>\n",
       "      <td>18.0</td>\n",
       "      <td>2.31</td>\n",
       "      <td>0.0</td>\n",
       "      <td>0.538</td>\n",
       "      <td>6.575</td>\n",
       "      <td>65.2</td>\n",
       "      <td>4.0900</td>\n",
       "      <td>1.0</td>\n",
       "      <td>296.0</td>\n",
       "      <td>15.3</td>\n",
       "      <td>396.90</td>\n",
       "      <td>4.98</td>\n",
       "      <td>24.0</td>\n",
       "    </tr>\n",
       "    <tr>\n",
       "      <td>1</td>\n",
       "      <td>0.02731</td>\n",
       "      <td>0.0</td>\n",
       "      <td>7.07</td>\n",
       "      <td>0.0</td>\n",
       "      <td>0.469</td>\n",
       "      <td>6.421</td>\n",
       "      <td>78.9</td>\n",
       "      <td>4.9671</td>\n",
       "      <td>2.0</td>\n",
       "      <td>242.0</td>\n",
       "      <td>17.8</td>\n",
       "      <td>396.90</td>\n",
       "      <td>9.14</td>\n",
       "      <td>21.6</td>\n",
       "    </tr>\n",
       "    <tr>\n",
       "      <td>2</td>\n",
       "      <td>0.02729</td>\n",
       "      <td>0.0</td>\n",
       "      <td>7.07</td>\n",
       "      <td>0.0</td>\n",
       "      <td>0.469</td>\n",
       "      <td>7.185</td>\n",
       "      <td>61.1</td>\n",
       "      <td>4.9671</td>\n",
       "      <td>2.0</td>\n",
       "      <td>242.0</td>\n",
       "      <td>17.8</td>\n",
       "      <td>392.83</td>\n",
       "      <td>4.03</td>\n",
       "      <td>34.7</td>\n",
       "    </tr>\n",
       "    <tr>\n",
       "      <td>3</td>\n",
       "      <td>0.03237</td>\n",
       "      <td>0.0</td>\n",
       "      <td>2.18</td>\n",
       "      <td>0.0</td>\n",
       "      <td>0.458</td>\n",
       "      <td>6.998</td>\n",
       "      <td>45.8</td>\n",
       "      <td>6.0622</td>\n",
       "      <td>3.0</td>\n",
       "      <td>222.0</td>\n",
       "      <td>18.7</td>\n",
       "      <td>394.63</td>\n",
       "      <td>2.94</td>\n",
       "      <td>33.4</td>\n",
       "    </tr>\n",
       "    <tr>\n",
       "      <td>4</td>\n",
       "      <td>0.06905</td>\n",
       "      <td>0.0</td>\n",
       "      <td>2.18</td>\n",
       "      <td>0.0</td>\n",
       "      <td>0.458</td>\n",
       "      <td>7.147</td>\n",
       "      <td>54.2</td>\n",
       "      <td>6.0622</td>\n",
       "      <td>3.0</td>\n",
       "      <td>222.0</td>\n",
       "      <td>18.7</td>\n",
       "      <td>396.90</td>\n",
       "      <td>5.33</td>\n",
       "      <td>36.2</td>\n",
       "    </tr>\n",
       "    <tr>\n",
       "      <td>...</td>\n",
       "      <td>...</td>\n",
       "      <td>...</td>\n",
       "      <td>...</td>\n",
       "      <td>...</td>\n",
       "      <td>...</td>\n",
       "      <td>...</td>\n",
       "      <td>...</td>\n",
       "      <td>...</td>\n",
       "      <td>...</td>\n",
       "      <td>...</td>\n",
       "      <td>...</td>\n",
       "      <td>...</td>\n",
       "      <td>...</td>\n",
       "      <td>...</td>\n",
       "    </tr>\n",
       "    <tr>\n",
       "      <td>501</td>\n",
       "      <td>0.06263</td>\n",
       "      <td>0.0</td>\n",
       "      <td>11.93</td>\n",
       "      <td>0.0</td>\n",
       "      <td>0.573</td>\n",
       "      <td>6.593</td>\n",
       "      <td>69.1</td>\n",
       "      <td>2.4786</td>\n",
       "      <td>1.0</td>\n",
       "      <td>273.0</td>\n",
       "      <td>21.0</td>\n",
       "      <td>391.99</td>\n",
       "      <td>9.67</td>\n",
       "      <td>22.4</td>\n",
       "    </tr>\n",
       "    <tr>\n",
       "      <td>502</td>\n",
       "      <td>0.04527</td>\n",
       "      <td>0.0</td>\n",
       "      <td>11.93</td>\n",
       "      <td>0.0</td>\n",
       "      <td>0.573</td>\n",
       "      <td>6.120</td>\n",
       "      <td>76.7</td>\n",
       "      <td>2.2875</td>\n",
       "      <td>1.0</td>\n",
       "      <td>273.0</td>\n",
       "      <td>21.0</td>\n",
       "      <td>396.90</td>\n",
       "      <td>9.08</td>\n",
       "      <td>20.6</td>\n",
       "    </tr>\n",
       "    <tr>\n",
       "      <td>503</td>\n",
       "      <td>0.06076</td>\n",
       "      <td>0.0</td>\n",
       "      <td>11.93</td>\n",
       "      <td>0.0</td>\n",
       "      <td>0.573</td>\n",
       "      <td>6.976</td>\n",
       "      <td>91.0</td>\n",
       "      <td>2.1675</td>\n",
       "      <td>1.0</td>\n",
       "      <td>273.0</td>\n",
       "      <td>21.0</td>\n",
       "      <td>396.90</td>\n",
       "      <td>5.64</td>\n",
       "      <td>23.9</td>\n",
       "    </tr>\n",
       "    <tr>\n",
       "      <td>504</td>\n",
       "      <td>0.10959</td>\n",
       "      <td>0.0</td>\n",
       "      <td>11.93</td>\n",
       "      <td>0.0</td>\n",
       "      <td>0.573</td>\n",
       "      <td>6.794</td>\n",
       "      <td>89.3</td>\n",
       "      <td>2.3889</td>\n",
       "      <td>1.0</td>\n",
       "      <td>273.0</td>\n",
       "      <td>21.0</td>\n",
       "      <td>393.45</td>\n",
       "      <td>6.48</td>\n",
       "      <td>22.0</td>\n",
       "    </tr>\n",
       "    <tr>\n",
       "      <td>505</td>\n",
       "      <td>0.04741</td>\n",
       "      <td>0.0</td>\n",
       "      <td>11.93</td>\n",
       "      <td>0.0</td>\n",
       "      <td>0.573</td>\n",
       "      <td>6.030</td>\n",
       "      <td>80.8</td>\n",
       "      <td>2.5050</td>\n",
       "      <td>1.0</td>\n",
       "      <td>273.0</td>\n",
       "      <td>21.0</td>\n",
       "      <td>396.90</td>\n",
       "      <td>7.88</td>\n",
       "      <td>11.9</td>\n",
       "    </tr>\n",
       "  </tbody>\n",
       "</table>\n",
       "<p>506 rows × 14 columns</p>\n",
       "</div>"
      ],
      "text/plain": [
       "        CRIM    ZN  INDUS  CHAS    NOX     RM   AGE     DIS  RAD    TAX  \\\n",
       "0    0.00632  18.0   2.31   0.0  0.538  6.575  65.2  4.0900  1.0  296.0   \n",
       "1    0.02731   0.0   7.07   0.0  0.469  6.421  78.9  4.9671  2.0  242.0   \n",
       "2    0.02729   0.0   7.07   0.0  0.469  7.185  61.1  4.9671  2.0  242.0   \n",
       "3    0.03237   0.0   2.18   0.0  0.458  6.998  45.8  6.0622  3.0  222.0   \n",
       "4    0.06905   0.0   2.18   0.0  0.458  7.147  54.2  6.0622  3.0  222.0   \n",
       "..       ...   ...    ...   ...    ...    ...   ...     ...  ...    ...   \n",
       "501  0.06263   0.0  11.93   0.0  0.573  6.593  69.1  2.4786  1.0  273.0   \n",
       "502  0.04527   0.0  11.93   0.0  0.573  6.120  76.7  2.2875  1.0  273.0   \n",
       "503  0.06076   0.0  11.93   0.0  0.573  6.976  91.0  2.1675  1.0  273.0   \n",
       "504  0.10959   0.0  11.93   0.0  0.573  6.794  89.3  2.3889  1.0  273.0   \n",
       "505  0.04741   0.0  11.93   0.0  0.573  6.030  80.8  2.5050  1.0  273.0   \n",
       "\n",
       "     PTRATIO       B  LSTAT  MEDV  \n",
       "0       15.3  396.90   4.98  24.0  \n",
       "1       17.8  396.90   9.14  21.6  \n",
       "2       17.8  392.83   4.03  34.7  \n",
       "3       18.7  394.63   2.94  33.4  \n",
       "4       18.7  396.90   5.33  36.2  \n",
       "..       ...     ...    ...   ...  \n",
       "501     21.0  391.99   9.67  22.4  \n",
       "502     21.0  396.90   9.08  20.6  \n",
       "503     21.0  396.90   5.64  23.9  \n",
       "504     21.0  393.45   6.48  22.0  \n",
       "505     21.0  396.90   7.88  11.9  \n",
       "\n",
       "[506 rows x 14 columns]"
      ]
     },
     "execution_count": 5,
     "metadata": {},
     "output_type": "execute_result"
    }
   ],
   "source": [
    "boston"
   ]
  },
  {
   "cell_type": "markdown",
   "metadata": {},
   "source": [
    "<h3 style=\"text-align: center;\"> The Datasets Variables</h3>\n",
    "\n",
    "\n",
    "|s.No |Attributes     |Description                                                         |\n",
    "|----:---------------:-------------------------------------------------------------------:-\n",
    "|1.   |CRIM           |per capita crime rate by town                                       |\n",
    "|2.   |ZN             |the proportion of residential land zoned for lots over 25,000 sq.ft.|\n",
    "|3.   |INDUS          |the proportion of non-retail business acres per town                |\n",
    "|4.   |CHAS           |Charles River dummy variable (1 if tract bounds river; 0 otherwise) |\n",
    "|5.   |NOX            |nitric oxides concentration (parts per 10 million)                  |\n",
    "|6.   |RM             |the average number of rooms per dwelling                            |\n",
    "|7.   |AGE            |the proportion of owner-occupied units built prior to 1940          |\n",
    "|8.   |DIS            |weighted distances to five Boston employment centres                |\n",
    "|9.   |RAD            |index of accessibility to radial highways                           |\n",
    "|10.  |TAX            |full-value property-tax rate per 10,000                             |\n",
    "|11.  |PTRATIO        |the pupil-teacher ration by the town                                |\n",
    "|12.  |B-1000(BK-0.63)|Where Bk is the proportion of blacks by the town                    | \n",
    "|13.  |LSTAT          |percentage lower status of the population                           |\n",
    "|14.  |MEDV           |the median value of owner-occupied homes in  1000's                 |\n",
    "\n",
    "\n",
    "The dataset variables can be categorised as follows :<br>\n",
    "\n",
    "**Dependent**<br>\n",
    "<br>\n",
    "*target*<br>\n",
    "The median value of owner-occupied houses.<br>\n",
    "<br>\n",
    "**Structural**<br>\n",
    "<br>\n",
    "*RM*<br>\n",
    "The average number of rooms in owner units, it represents spaciousness and can also represent a better quality home.<br>\n",
    "<br>\n",
    "*AGE*<br>\n",
    "This represents the proportion of houses completed before 1940.<br>\n",
    "<br>\n",
    "**Area**<br>\n",
    "<br>\n",
    "*B*<br>\n",
    "This variable indicates the black proportion of the population. In 1970 you would expect where an increase in B exists would have a negative impact on house value.<br>\n",
    "<br>\n",
    "*LSTAT*<br>\n",
    "Proportion of adults without some high-school education and proportion of male workers classified as labourers.<br>\n",
    "<br>\n",
    "*CRIM*<br>\n",
    "Crime rate by town. We would expect that high levels of this variable would have an negative impact on prices.<br>\n",
    "<br>\n",
    "*ZN*<br>\n",
    "Proportion of town's residential land zoned for units over 25,000 sq ft. As this restricts the construction of small lot houses, we would expect to see a positive correlation with the median value.<br>\n",
    "<br>\n",
    "*INDUS*<br>\n",
    "This variable is the proportion of nonretail business acres per town. Noise and heavy traffic should negatively effect the house values.<br>\n",
    "<br>\n",
    "*TAX*<br>\n",
    "Full value property tax rate ($10,000). It measures the cost of public services in each community.<br>\n",
    "<br>\n",
    "*PTRATIO*<br>\n",
    "Measures public sector benefits in each town. A low ration should imply that each student receives more individual attention.<br>\n",
    "<br>\n",
    "*CHAS*<br>\n",
    "This variable captures the amenities of a riverside location and therefore the coefficient should be positive.<br>\n",
    "<br>\n",
    "**Accessibility**<br>\n",
    "<br>\n",
    "*DIS*<br>\n",
    "Weighted distance to 5 employment centres in the Boston region. House prices *should* be higher the nearer they are to employment centres.<br>\n",
    "<br>\n",
    "*RAD*<br>\n",
    "The highway access index was calculate on a town basis.<br>\n",
    "<br>\n",
    "**Air Pollution**<br>\n",
    "<br>\n",
    "*NOX*<br>\n",
    "Nitrogen oxide concentration in pphm (annual average concentration in parts per hundred million).<br>\n",
    "<br> \n"
   ]
  },
  {
   "cell_type": "markdown",
   "metadata": {},
   "source": [
    "# <font color=red> Interesting Highlights</font>"
   ]
  },
  {
   "cell_type": "markdown",
   "metadata": {},
   "source": [
    "<p> I was interested to investigate if there was a pattern in relation to the median house values. As you can see from the bar chart below, it is clear that the median value of the house prices are normally distributed, half of the values fall to the left of the mean and half are to the right.</p>\n",
    "<p>\n",
    "It is worth noting that the variable **target** appears to be censored at 50.00. Censoring is suggested by the fact that in 16 instances, the median value is exactly €50,000, while there are 15 instances have a prices between €40,000 - €50,000 [2].\n",
    "</p>"
   ]
  },
  {
   "cell_type": "code",
   "execution_count": 5,
   "metadata": {},
   "outputs": [
    {
     "data": {
      "image/png": "[encoded data removed]",
      "text/plain": [
       "<Figure size 576x360 with 1 Axes>"
      ]
     },
     "metadata": {},
     "output_type": "display_data"
    }
   ],
   "source": [
    "#Generate a histogram detailing the count of houses in each range\n",
    "plt.figure(figsize=(8, 5))\n",
    "plt.hist(boston_dataset.target)\n",
    "plt.xlabel('price ($1000s)')\n",
    "plt.ylabel('No of Houses')\n",
    "plt.tight_layout()\n",
    "plt.show()"
   ]
  },
  {
   "cell_type": "code",
   "execution_count": 5,
   "metadata": {},
   "outputs": [
    {
     "data": {
      "image/png": "[encoded data removed]",
      "text/plain": [
       "<Figure size 1152x720 with 2 Axes>"
      ]
     },
     "metadata": {},
     "output_type": "display_data"
    }
   ],
   "source": [
    "ax, fig = plt.subplots(figsize = (16, 10))\n",
    "sns.heatmap(boston.corr(), annot= True, cmap = 'RdYlGn')\n",
    "plt.show()"
   ]
  },
  {
   "cell_type": "markdown",
   "metadata": {},
   "source": [
    "<p>The heat map highlights the attributes that are closely correlated, and those that display little or no correlation at all. Correlation can be described as the degree of association between two variables</p> \n",
    "<p>The most attributes most closely linked to the median house price are average rooms per house and LSTAT- Proportion of adults without some high-school education and proportion of male workers classified as labourers. Neither of these are surprising as we would expect the number of rooms. Again it is not surprising to see that areas where the population have no high-school education live in less expensive than those who achieved a higher level of education. </p> \n",
    "<p>\n",
    "It is easy to identify that houses that bound the river, or not, has the least correlation with all of the other attributes. The closer an attribute is to 0 indicates no correlation. At 0.0074 the distance to employment centres has the least impact on house prices. The strength of the linear relationship between index of accessibility to radial highways and full-value property tax-rate are the attributes is very strong at 0.91.\n",
    "</p>"
   ]
  },
  {
   "cell_type": "code",
   "execution_count": 6,
   "metadata": {},
   "outputs": [
    {
     "data": {
      "image/png": "[encoded data removed]",
      "text/plain": [
       "<Figure size 576x360 with 1 Axes>"
      ]
     },
     "metadata": {},
     "output_type": "display_data"
    }
   ],
   "source": [
    "plt.figure(figsize=(8, 5))\n",
    "plt.scatter(boston_dataset.data[:,5], boston_dataset.target)\n",
    "plt.xlabel('Average no. of rooms')\n",
    "plt.ylabel('Median Price in $1000s')\n",
    "plt.show()"
   ]
  },
  {
   "cell_type": "markdown",
   "metadata": {},
   "source": [
    "The scatter plot above clearly shows that the as the number of rooms increases the price of the house increases. This graphic also indicates that the vast majority of houses have been 5.5 and 6.5 rooms per house. We can also determine that a house with 6 rooms would likely sell for around $20,000."
   ]
  },
  {
   "cell_type": "code",
   "execution_count": 6,
   "metadata": {},
   "outputs": [
    {
     "data": {
      "image/png": "[encoded data removed]",
      "text/plain": [
       "<Figure size 576x360 with 1 Axes>"
      ]
     },
     "metadata": {},
     "output_type": "display_data"
    }
   ],
   "source": [
    "plt.figure(figsize=(8, 5))\n",
    "plt.scatter(boston_dataset.data[:,12], boston_dataset.target)\n",
    "plt.xlabel('Without High-School Education/Labourers')\n",
    "plt.ylabel('Median Price in $1000s')\n",
    "plt.show()"
   ]
  },
  {
   "cell_type": "markdown",
   "metadata": {},
   "source": [
    "It is not surprising to see learn that areas where a high proportion of the residents have a low level of education or low skilled jobs live in less expensive houses than those areas where residents have achieved a high level of high-school education."
   ]
  },
  {
   "cell_type": "markdown",
   "metadata": {},
   "source": [
    "## Environmental impacts\n",
    "\n",
    "I think it would be interesting to investigate if there is any correlation between the median house value and the environmental variables recorded in the dataset. I will look at the nitric oxides as well as the proximity of houses to employment centres and accessibility of highways. I believe these variables will impact on air and noise quality which could influence house prices."
   ]
  },
  {
   "cell_type": "code",
   "execution_count": 7,
   "metadata": {},
   "outputs": [
    {
     "data": {
      "image/png": "[encoded data removed]",
      "text/plain": [
       "<Figure size 360x360 with 1 Axes>"
      ]
     },
     "metadata": {},
     "output_type": "display_data"
    }
   ],
   "source": [
    "sns.lmplot('NOX','MEDV',boston)\n",
    "plt.show()"
   ]
  },
  {
   "cell_type": "markdown",
   "metadata": {},
   "source": [
    "The above graph confirms that there is a direct negative linear relationship between the house price and the level of nitric oxides recorded in the town. We can see that as the levels increase above 0.6 parts per 10 million the value of the house is at the lower end of scale."
   ]
  },
  {
   "cell_type": "code",
   "execution_count": 8,
   "metadata": {},
   "outputs": [
    {
     "data": {
      "image/png": "[encoded data removed]",
      "text/plain": [
       "<Figure size 360x360 with 1 Axes>"
      ]
     },
     "metadata": {},
     "output_type": "display_data"
    }
   ],
   "source": [
    "sns.lmplot('NOX','DIS',boston)\n",
    "plt.show()"
   ]
  },
  {
   "cell_type": "markdown",
   "metadata": {},
   "source": [
    "From the above graph we can tell that the closer the house is to a business center the higher the levels of nitic oxides."
   ]
  },
  {
   "cell_type": "code",
   "execution_count": 9,
   "metadata": {},
   "outputs": [
    {
     "data": {
      "image/png": "[encoded data removed]",
      "text/plain": [
       "<Figure size 360x360 with 1 Axes>"
      ]
     },
     "metadata": {},
     "output_type": "display_data"
    }
   ],
   "source": [
    "sns.lmplot('DIS','MEDV',boston)\n",
    "plt.show()"
   ]
  },
  {
   "cell_type": "markdown",
   "metadata": {},
   "source": [
    "# <font color=red><p style=\"text-align:center;\">Prices along the Charles River</p></font>"
   ]
  },
  {
   "cell_type": "markdown",
   "metadata": {},
   "source": [
    "<img src=\"River.png\" width=\"600\">"
   ]
  },
  {
   "cell_type": "code",
   "execution_count": 8,
   "metadata": {},
   "outputs": [
    {
     "data": {
      "text/plain": [
       "0.0    471\n",
       "1.0     35\n",
       "Name: CHAS, dtype: int64"
      ]
     },
     "execution_count": 8,
     "metadata": {},
     "output_type": "execute_result"
    }
   ],
   "source": [
    "boston['CHAS'].value_counts()"
   ]
  },
  {
   "cell_type": "markdown",
   "metadata": {},
   "source": [
    "<p>As we can see from the above tables, the vast majority (93%) of the 506 listings in the dataset did not tract the river. I grouped the means of all variables split by properties that tract the river against those that did not, this meant that there was a large disparity in median values for each category- 28.44 was the median value for properties that faced the river and 22.09 for those that did not tract the river.</p>\n",
    "<p> Crime rates are also considerably lower in houses that face the river. The data would also suggest that the amenity of the river is the primary factory that drives the higher median value as the number of rooms per dwelling is only marginally higher for properties facing the river and these properties are on average 12% older that those properties that do not tract the river.</p>\n"
   ]
  },
  {
   "cell_type": "code",
   "execution_count": 13,
   "metadata": {},
   "outputs": [
    {
     "data": {
      "text/html": [
       "<div>\n",
       "<style scoped>\n",
       "    .dataframe tbody tr th:only-of-type {\n",
       "        vertical-align: middle;\n",
       "    }\n",
       "\n",
       "    .dataframe tbody tr th {\n",
       "        vertical-align: top;\n",
       "    }\n",
       "\n",
       "    .dataframe thead th {\n",
       "        text-align: right;\n",
       "    }\n",
       "</style>\n",
       "<table border=\"1\" class=\"dataframe\">\n",
       "  <thead>\n",
       "    <tr style=\"text-align: right;\">\n",
       "      <th></th>\n",
       "      <th>CRIM</th>\n",
       "      <th>ZN</th>\n",
       "      <th>INDUS</th>\n",
       "      <th>NOX</th>\n",
       "      <th>RM</th>\n",
       "      <th>AGE</th>\n",
       "      <th>DIS</th>\n",
       "      <th>RAD</th>\n",
       "      <th>TAX</th>\n",
       "      <th>PTRATIO</th>\n",
       "      <th>B</th>\n",
       "      <th>LSTAT</th>\n",
       "      <th>MEDV</th>\n",
       "    </tr>\n",
       "    <tr>\n",
       "      <th>CHAS</th>\n",
       "      <th></th>\n",
       "      <th></th>\n",
       "      <th></th>\n",
       "      <th></th>\n",
       "      <th></th>\n",
       "      <th></th>\n",
       "      <th></th>\n",
       "      <th></th>\n",
       "      <th></th>\n",
       "      <th></th>\n",
       "      <th></th>\n",
       "      <th></th>\n",
       "      <th></th>\n",
       "    </tr>\n",
       "  </thead>\n",
       "  <tbody>\n",
       "    <tr>\n",
       "      <th>0.0</th>\n",
       "      <td>4.0</td>\n",
       "      <td>12.0</td>\n",
       "      <td>11.0</td>\n",
       "      <td>1.0</td>\n",
       "      <td>6.0</td>\n",
       "      <td>68.0</td>\n",
       "      <td>4.0</td>\n",
       "      <td>10.0</td>\n",
       "      <td>410.0</td>\n",
       "      <td>19.0</td>\n",
       "      <td>355.0</td>\n",
       "      <td>13.0</td>\n",
       "      <td>22.0</td>\n",
       "    </tr>\n",
       "    <tr>\n",
       "      <th>1.0</th>\n",
       "      <td>2.0</td>\n",
       "      <td>8.0</td>\n",
       "      <td>13.0</td>\n",
       "      <td>1.0</td>\n",
       "      <td>7.0</td>\n",
       "      <td>78.0</td>\n",
       "      <td>3.0</td>\n",
       "      <td>9.0</td>\n",
       "      <td>386.0</td>\n",
       "      <td>17.0</td>\n",
       "      <td>373.0</td>\n",
       "      <td>11.0</td>\n",
       "      <td>28.0</td>\n",
       "    </tr>\n",
       "  </tbody>\n",
       "</table>\n",
       "</div>"
      ],
      "text/plain": [
       "      CRIM    ZN  INDUS  NOX   RM   AGE  DIS   RAD    TAX  PTRATIO      B  \\\n",
       "CHAS                                                                        \n",
       "0.0    4.0  12.0   11.0  1.0  6.0  68.0  4.0  10.0  410.0     19.0  355.0   \n",
       "1.0    2.0   8.0   13.0  1.0  7.0  78.0  3.0   9.0  386.0     17.0  373.0   \n",
       "\n",
       "      LSTAT  MEDV  \n",
       "CHAS               \n",
       "0.0    13.0  22.0  \n",
       "1.0    11.0  28.0  "
      ]
     },
     "execution_count": 13,
     "metadata": {},
     "output_type": "execute_result"
    }
   ],
   "source": [
    "boston.groupby('CHAS').mean().round()"
   ]
  },
  {
   "cell_type": "code",
   "execution_count": 9,
   "metadata": {},
   "outputs": [
    {
     "data": {
      "text/plain": [
       "<function scipy.stats.stats.ttest_ind(a, b, axis=0, equal_var=True, nan_policy='propagate')>"
      ]
     },
     "execution_count": 9,
     "metadata": {},
     "output_type": "execute_result"
    }
   ],
   "source": [
    "# calculate the t-test means of the two independent samples, in this case the house \n",
    "ss.ttest_ind"
   ]
  },
  {
   "cell_type": "markdown",
   "metadata": {},
   "source": [
    "Given the p-value, we can reject the null hypothesis, that the median house prices are equal, and therefore assume a significant difference in median house prices between houses that are along the Charles river and those that are not along the river."
   ]
  },
  {
   "cell_type": "code",
   "execution_count": 67,
   "metadata": {},
   "outputs": [],
   "source": [
    "#create a new Dataframe with just the median house value and the River Facing Prooperties\n",
    "old = pd.DataFrame(boston)\n",
    "new = old[['CHAS', 'MEDV']].copy()"
   ]
  },
  {
   "cell_type": "code",
   "execution_count": 29,
   "metadata": {},
   "outputs": [],
   "source": [
    "# Replace the variable indicator with string\n",
    "new['CHAS'].replace(0, 'Not River Facing',inplace=True)\n",
    "new['CHAS'].replace(1, 'River Facing',inplace=True)"
   ]
  },
  {
   "cell_type": "code",
   "execution_count": 89,
   "metadata": {
    "scrolled": true
   },
   "outputs": [],
   "source": [
    "Facing = old[['CHAS', 'MEDV']]"
   ]
  },
  {
   "cell_type": "code",
   "execution_count": 103,
   "metadata": {
    "scrolled": true
   },
   "outputs": [],
   "source": [
    "Facing1 = Facing[Facing.CHAS == 1]\n",
    "NotFacing = Facing[Facing.CHAS == 0]"
   ]
  },
  {
   "cell_type": "code",
   "execution_count": 102,
   "metadata": {
    "scrolled": true
   },
   "outputs": [
    {
     "data": {
      "text/html": [
       "<div>\n",
       "<style scoped>\n",
       "    .dataframe tbody tr th:only-of-type {\n",
       "        vertical-align: middle;\n",
       "    }\n",
       "\n",
       "    .dataframe tbody tr th {\n",
       "        vertical-align: top;\n",
       "    }\n",
       "\n",
       "    .dataframe thead th {\n",
       "        text-align: right;\n",
       "    }\n",
       "</style>\n",
       "<table border=\"1\" class=\"dataframe\">\n",
       "  <thead>\n",
       "    <tr style=\"text-align: right;\">\n",
       "      <th></th>\n",
       "      <th>CHAS</th>\n",
       "      <th>MEDV</th>\n",
       "    </tr>\n",
       "  </thead>\n",
       "  <tbody>\n",
       "    <tr>\n",
       "      <td>142</td>\n",
       "      <td>1.0</td>\n",
       "      <td>13.4</td>\n",
       "    </tr>\n",
       "    <tr>\n",
       "      <td>152</td>\n",
       "      <td>1.0</td>\n",
       "      <td>15.3</td>\n",
       "    </tr>\n",
       "    <tr>\n",
       "      <td>154</td>\n",
       "      <td>1.0</td>\n",
       "      <td>17.0</td>\n",
       "    </tr>\n",
       "    <tr>\n",
       "      <td>155</td>\n",
       "      <td>1.0</td>\n",
       "      <td>15.6</td>\n",
       "    </tr>\n",
       "    <tr>\n",
       "      <td>160</td>\n",
       "      <td>1.0</td>\n",
       "      <td>27.0</td>\n",
       "    </tr>\n",
       "    <tr>\n",
       "      <td>162</td>\n",
       "      <td>1.0</td>\n",
       "      <td>50.0</td>\n",
       "    </tr>\n",
       "    <tr>\n",
       "      <td>163</td>\n",
       "      <td>1.0</td>\n",
       "      <td>50.0</td>\n",
       "    </tr>\n",
       "    <tr>\n",
       "      <td>208</td>\n",
       "      <td>1.0</td>\n",
       "      <td>24.4</td>\n",
       "    </tr>\n",
       "    <tr>\n",
       "      <td>209</td>\n",
       "      <td>1.0</td>\n",
       "      <td>20.0</td>\n",
       "    </tr>\n",
       "    <tr>\n",
       "      <td>210</td>\n",
       "      <td>1.0</td>\n",
       "      <td>21.7</td>\n",
       "    </tr>\n",
       "    <tr>\n",
       "      <td>211</td>\n",
       "      <td>1.0</td>\n",
       "      <td>19.3</td>\n",
       "    </tr>\n",
       "    <tr>\n",
       "      <td>212</td>\n",
       "      <td>1.0</td>\n",
       "      <td>22.4</td>\n",
       "    </tr>\n",
       "    <tr>\n",
       "      <td>216</td>\n",
       "      <td>1.0</td>\n",
       "      <td>23.3</td>\n",
       "    </tr>\n",
       "    <tr>\n",
       "      <td>218</td>\n",
       "      <td>1.0</td>\n",
       "      <td>21.5</td>\n",
       "    </tr>\n",
       "    <tr>\n",
       "      <td>219</td>\n",
       "      <td>1.0</td>\n",
       "      <td>23.0</td>\n",
       "    </tr>\n",
       "    <tr>\n",
       "      <td>220</td>\n",
       "      <td>1.0</td>\n",
       "      <td>26.7</td>\n",
       "    </tr>\n",
       "    <tr>\n",
       "      <td>221</td>\n",
       "      <td>1.0</td>\n",
       "      <td>21.7</td>\n",
       "    </tr>\n",
       "    <tr>\n",
       "      <td>222</td>\n",
       "      <td>1.0</td>\n",
       "      <td>27.5</td>\n",
       "    </tr>\n",
       "    <tr>\n",
       "      <td>234</td>\n",
       "      <td>1.0</td>\n",
       "      <td>29.0</td>\n",
       "    </tr>\n",
       "    <tr>\n",
       "      <td>236</td>\n",
       "      <td>1.0</td>\n",
       "      <td>25.1</td>\n",
       "    </tr>\n",
       "    <tr>\n",
       "      <td>269</td>\n",
       "      <td>1.0</td>\n",
       "      <td>20.7</td>\n",
       "    </tr>\n",
       "    <tr>\n",
       "      <td>273</td>\n",
       "      <td>1.0</td>\n",
       "      <td>35.2</td>\n",
       "    </tr>\n",
       "    <tr>\n",
       "      <td>274</td>\n",
       "      <td>1.0</td>\n",
       "      <td>32.4</td>\n",
       "    </tr>\n",
       "    <tr>\n",
       "      <td>276</td>\n",
       "      <td>1.0</td>\n",
       "      <td>33.2</td>\n",
       "    </tr>\n",
       "    <tr>\n",
       "      <td>277</td>\n",
       "      <td>1.0</td>\n",
       "      <td>33.1</td>\n",
       "    </tr>\n",
       "    <tr>\n",
       "      <td>282</td>\n",
       "      <td>1.0</td>\n",
       "      <td>46.0</td>\n",
       "    </tr>\n",
       "    <tr>\n",
       "      <td>283</td>\n",
       "      <td>1.0</td>\n",
       "      <td>50.0</td>\n",
       "    </tr>\n",
       "    <tr>\n",
       "      <td>356</td>\n",
       "      <td>1.0</td>\n",
       "      <td>17.8</td>\n",
       "    </tr>\n",
       "    <tr>\n",
       "      <td>357</td>\n",
       "      <td>1.0</td>\n",
       "      <td>21.7</td>\n",
       "    </tr>\n",
       "    <tr>\n",
       "      <td>358</td>\n",
       "      <td>1.0</td>\n",
       "      <td>22.7</td>\n",
       "    </tr>\n",
       "    <tr>\n",
       "      <td>363</td>\n",
       "      <td>1.0</td>\n",
       "      <td>16.8</td>\n",
       "    </tr>\n",
       "    <tr>\n",
       "      <td>364</td>\n",
       "      <td>1.0</td>\n",
       "      <td>21.9</td>\n",
       "    </tr>\n",
       "    <tr>\n",
       "      <td>369</td>\n",
       "      <td>1.0</td>\n",
       "      <td>50.0</td>\n",
       "    </tr>\n",
       "    <tr>\n",
       "      <td>370</td>\n",
       "      <td>1.0</td>\n",
       "      <td>50.0</td>\n",
       "    </tr>\n",
       "    <tr>\n",
       "      <td>372</td>\n",
       "      <td>1.0</td>\n",
       "      <td>50.0</td>\n",
       "    </tr>\n",
       "  </tbody>\n",
       "</table>\n",
       "</div>"
      ],
      "text/plain": [
       "     CHAS  MEDV\n",
       "142   1.0  13.4\n",
       "152   1.0  15.3\n",
       "154   1.0  17.0\n",
       "155   1.0  15.6\n",
       "160   1.0  27.0\n",
       "162   1.0  50.0\n",
       "163   1.0  50.0\n",
       "208   1.0  24.4\n",
       "209   1.0  20.0\n",
       "210   1.0  21.7\n",
       "211   1.0  19.3\n",
       "212   1.0  22.4\n",
       "216   1.0  23.3\n",
       "218   1.0  21.5\n",
       "219   1.0  23.0\n",
       "220   1.0  26.7\n",
       "221   1.0  21.7\n",
       "222   1.0  27.5\n",
       "234   1.0  29.0\n",
       "236   1.0  25.1\n",
       "269   1.0  20.7\n",
       "273   1.0  35.2\n",
       "274   1.0  32.4\n",
       "276   1.0  33.2\n",
       "277   1.0  33.1\n",
       "282   1.0  46.0\n",
       "283   1.0  50.0\n",
       "356   1.0  17.8\n",
       "357   1.0  21.7\n",
       "358   1.0  22.7\n",
       "363   1.0  16.8\n",
       "364   1.0  21.9\n",
       "369   1.0  50.0\n",
       "370   1.0  50.0\n",
       "372   1.0  50.0"
      ]
     },
     "execution_count": 102,
     "metadata": {},
     "output_type": "execute_result"
    }
   ],
   "source": [
    "Facing1"
   ]
  },
  {
   "cell_type": "code",
   "execution_count": 104,
   "metadata": {},
   "outputs": [
    {
     "data": {
      "text/html": [
       "<div>\n",
       "<style scoped>\n",
       "    .dataframe tbody tr th:only-of-type {\n",
       "        vertical-align: middle;\n",
       "    }\n",
       "\n",
       "    .dataframe tbody tr th {\n",
       "        vertical-align: top;\n",
       "    }\n",
       "\n",
       "    .dataframe thead th {\n",
       "        text-align: right;\n",
       "    }\n",
       "</style>\n",
       "<table border=\"1\" class=\"dataframe\">\n",
       "  <thead>\n",
       "    <tr style=\"text-align: right;\">\n",
       "      <th></th>\n",
       "      <th>CHAS</th>\n",
       "      <th>MEDV</th>\n",
       "    </tr>\n",
       "  </thead>\n",
       "  <tbody>\n",
       "    <tr>\n",
       "      <td>0</td>\n",
       "      <td>0.0</td>\n",
       "      <td>24.0</td>\n",
       "    </tr>\n",
       "    <tr>\n",
       "      <td>1</td>\n",
       "      <td>0.0</td>\n",
       "      <td>21.6</td>\n",
       "    </tr>\n",
       "    <tr>\n",
       "      <td>2</td>\n",
       "      <td>0.0</td>\n",
       "      <td>34.7</td>\n",
       "    </tr>\n",
       "    <tr>\n",
       "      <td>3</td>\n",
       "      <td>0.0</td>\n",
       "      <td>33.4</td>\n",
       "    </tr>\n",
       "    <tr>\n",
       "      <td>4</td>\n",
       "      <td>0.0</td>\n",
       "      <td>36.2</td>\n",
       "    </tr>\n",
       "    <tr>\n",
       "      <td>...</td>\n",
       "      <td>...</td>\n",
       "      <td>...</td>\n",
       "    </tr>\n",
       "    <tr>\n",
       "      <td>501</td>\n",
       "      <td>0.0</td>\n",
       "      <td>22.4</td>\n",
       "    </tr>\n",
       "    <tr>\n",
       "      <td>502</td>\n",
       "      <td>0.0</td>\n",
       "      <td>20.6</td>\n",
       "    </tr>\n",
       "    <tr>\n",
       "      <td>503</td>\n",
       "      <td>0.0</td>\n",
       "      <td>23.9</td>\n",
       "    </tr>\n",
       "    <tr>\n",
       "      <td>504</td>\n",
       "      <td>0.0</td>\n",
       "      <td>22.0</td>\n",
       "    </tr>\n",
       "    <tr>\n",
       "      <td>505</td>\n",
       "      <td>0.0</td>\n",
       "      <td>11.9</td>\n",
       "    </tr>\n",
       "  </tbody>\n",
       "</table>\n",
       "<p>471 rows × 2 columns</p>\n",
       "</div>"
      ],
      "text/plain": [
       "     CHAS  MEDV\n",
       "0     0.0  24.0\n",
       "1     0.0  21.6\n",
       "2     0.0  34.7\n",
       "3     0.0  33.4\n",
       "4     0.0  36.2\n",
       "..    ...   ...\n",
       "501   0.0  22.4\n",
       "502   0.0  20.6\n",
       "503   0.0  23.9\n",
       "504   0.0  22.0\n",
       "505   0.0  11.9\n",
       "\n",
       "[471 rows x 2 columns]"
      ]
     },
     "execution_count": 104,
     "metadata": {},
     "output_type": "execute_result"
    }
   ],
   "source": [
    "NotFacing"
   ]
  },
  {
   "cell_type": "code",
   "execution_count": 105,
   "metadata": {},
   "outputs": [
    {
     "data": {
      "text/plain": [
       "Ttest_indResult(statistic=array([       inf, 3.99643747]), pvalue=array([0.00000000e+00, 7.39062317e-05]))"
      ]
     },
     "execution_count": 105,
     "metadata": {},
     "output_type": "execute_result"
    }
   ],
   "source": [
    "ss.ttest_ind(Facing1,NotFacing)"
   ]
  },
  {
   "cell_type": "code",
   "execution_count": 106,
   "metadata": {},
   "outputs": [
    {
     "name": "stderr",
     "output_type": "stream",
     "text": [
      "C:\\Users\\Ger\\Ana\\lib\\site-packages\\statsmodels\\stats\\weightstats.py:617: RuntimeWarning: divide by zero encountered in true_divide\n",
      "  tstat = (value1 - value2 - diff) / std_diff\n"
     ]
    },
    {
     "data": {
      "text/plain": [
       "(array([       inf, 3.99643747]),\n",
       " array([0.00000000e+00, 7.39062317e-05]),\n",
       " 504.0)"
      ]
     },
     "execution_count": 106,
     "metadata": {},
     "output_type": "execute_result"
    }
   ],
   "source": [
    "ws.ttest_ind(Facing1,NotFacing)"
   ]
  },
  {
   "cell_type": "markdown",
   "metadata": {},
   "source": [
    "Given the p-value of **7.39062317e-05**, we can reject the null hypothesis, that the median house prices are equal, and therefore assume a significant difference in median house prices between houses that are along the Charles river and those that are not along the river."
   ]
  },
  {
   "cell_type": "code",
   "execution_count": 108,
   "metadata": {},
   "outputs": [
    {
     "data": {
      "text/plain": [
       "<seaborn.axisgrid.FacetGrid at 0x20f21bd3ec8>"
      ]
     },
     "execution_count": 108,
     "metadata": {},
     "output_type": "execute_result"
    },
    {
     "data": {
      "image/png": "[encoded data removed]",
      "text/plain": [
       "<Figure size 360x360 with 1 Axes>"
      ]
     },
     "metadata": {
      "needs_background": "light"
     },
     "output_type": "display_data"
    }
   ],
   "source": [
    "sns.catplot(x='CHAS', y='MEDV', jitter=False, data=boston)"
   ]
  },
  {
   "cell_type": "code",
   "execution_count": null,
   "metadata": {},
   "outputs": [],
   "source": [
    "ss.ttest_ind(new[new['CHAS'] == 'Not River Facing']['MEDV'], new[new['CHAS'] == 'River Facing']['MEDV'])"
   ]
  },
  {
   "cell_type": "code",
   "execution_count": 30,
   "metadata": {},
   "outputs": [
    {
     "data": {
      "text/plain": [
       "Ttest_indResult(statistic=-3.996437466090509, pvalue=7.390623170519905e-05)"
      ]
     },
     "execution_count": 30,
     "metadata": {},
     "output_type": "execute_result"
    }
   ],
   "source": [
    "ss.ttest_ind(new[new['CHAS'] == 'Not River Facing']['MEDV'], new[new['CHAS'] == 'River Facing']['MEDV'])"
   ]
  },
  {
   "cell_type": "code",
   "execution_count": 31,
   "metadata": {},
   "outputs": [
    {
     "data": {
      "text/plain": [
       "(-3.9964374660905095, 7.390623170519883e-05, 504.0)"
      ]
     },
     "execution_count": 31,
     "metadata": {},
     "output_type": "execute_result"
    }
   ],
   "source": [
    "ws.ttest_ind(new[new['CHAS'] == 'Not River Facing']['MEDV'], new[new['CHAS'] == 'River Facing']['MEDV'])"
   ]
  },
  {
   "cell_type": "code",
   "execution_count": 19,
   "metadata": {},
   "outputs": [
    {
     "data": {
      "image/png": "[encoded data removed]",
      "text/plain": [
       "<Figure size 1440x720 with 2 Axes>"
      ]
     },
     "metadata": {
      "needs_background": "light"
     },
     "output_type": "display_data"
    }
   ],
   "source": [
    "#https://towardsdatascience.com/5-minute-guide-to-plotting-with-pandas-e8c0f40a1df4\n",
    "boston.groupby('CHAS').boxplot(fontsize=20,rot=90,figsize=(20,10),patch_artist=True)\n",
    "plt.show()"
   ]
  },
  {
   "cell_type": "code",
   "execution_count": 57,
   "metadata": {},
   "outputs": [
    {
     "data": {
      "text/plain": [
       "Text(0,0.5,'target')"
      ]
     },
     "execution_count": 57,
     "metadata": {},
     "output_type": "execute_result"
    }
   ],
   "source": [
    "boston.T.plot()\n",
    "plt.ylabel('target')"
   ]
  },
  {
   "cell_type": "code",
   "execution_count": 58,
   "metadata": {},
   "outputs": [
    {
     "ename": "NameError",
     "evalue": "name 'df' is not defined",
     "output_type": "error",
     "traceback": [
      "\u001b[1;31m---------------------------------------------------------------------------\u001b[0m",
      "\u001b[1;31mNameError\u001b[0m                                 Traceback (most recent call last)",
      "\u001b[1;32m<ipython-input-58-cea4f543d951>\u001b[0m in \u001b[0;36m<module>\u001b[1;34m()\u001b[0m\n\u001b[1;32m----> 1\u001b[1;33m \u001b[0msns\u001b[0m\u001b[1;33m.\u001b[0m\u001b[0mjointplot\u001b[0m\u001b[1;33m(\u001b[0m\u001b[0mx\u001b[0m\u001b[1;33m=\u001b[0m\u001b[1;34m'RM'\u001b[0m\u001b[1;33m,\u001b[0m \u001b[0my\u001b[0m\u001b[1;33m=\u001b[0m\u001b[1;34m'target'\u001b[0m\u001b[1;33m,\u001b[0m \u001b[0mdata\u001b[0m\u001b[1;33m=\u001b[0m\u001b[0mdf\u001b[0m\u001b[1;33m,\u001b[0m \u001b[0mkind\u001b[0m\u001b[1;33m=\u001b[0m\u001b[1;34m'reg'\u001b[0m\u001b[1;33m)\u001b[0m\u001b[1;33m;\u001b[0m\u001b[1;33m\u001b[0m\u001b[0m\n\u001b[0m",
      "\u001b[1;31mNameError\u001b[0m: name 'df' is not defined"
     ]
    }
   ],
   "source": [
    "sns.jointplot(x='RM', y='target', data=df, kind='reg');\n"
   ]
  },
  {
   "cell_type": "code",
   "execution_count": 15,
   "metadata": {},
   "outputs": [
    {
     "name": "stderr",
     "output_type": "stream",
     "text": [
      "C:\\Users\\gerardh\\AppData\\Local\\Continuum\\anaconda3\\lib\\site-packages\\matplotlib\\axes\\_axes.py:6462: UserWarning: The 'normed' kwarg is deprecated, and has been replaced by the 'density' kwarg.\n",
      "  warnings.warn(\"The 'normed' kwarg is deprecated, and has been \"\n"
     ]
    },
    {
     "data": {
      "image/png": "[encoded data removed]",
      "text/plain": [
       "<Figure size 432x432 with 3 Axes>"
      ]
     },
     "metadata": {},
     "output_type": "display_data"
    }
   ],
   "source": [
    "sns.jointplot(x='NOX', y='target', data=df, kind='reg');\n",
    "plt.show();"
   ]
  },
  {
   "cell_type": "code",
   "execution_count": 34,
   "metadata": {},
   "outputs": [
    {
     "name": "stderr",
     "output_type": "stream",
     "text": [
      "C:\\Users\\gerardh\\AppData\\Local\\Continuum\\anaconda3\\lib\\site-packages\\matplotlib\\axes\\_axes.py:6462: UserWarning: The 'normed' kwarg is deprecated, and has been replaced by the 'density' kwarg.\n",
      "  warnings.warn(\"The 'normed' kwarg is deprecated, and has been \"\n"
     ]
    },
    {
     "data": {
      "image/png": "[encoded data removed]",
      "text/plain": [
       "<Figure size 432x432 with 3 Axes>"
      ]
     },
     "metadata": {},
     "output_type": "display_data"
    }
   ],
   "source": [
    "sns.jointplot(x='B', y='target', data=df, kind='reg');\n",
    "plt.show();"
   ]
  },
  {
   "cell_type": "markdown",
   "metadata": {},
   "source": [
    "# Prediction"
   ]
  },
  {
   "cell_type": "code",
   "execution_count": 26,
   "metadata": {
    "collapsed": true
   },
   "outputs": [],
   "source": [
    "boston = load_boston()"
   ]
  },
  {
   "cell_type": "code",
   "execution_count": 27,
   "metadata": {
    "collapsed": true
   },
   "outputs": [],
   "source": [
    "boston_df = pd.DataFrame(boston.data)\n",
    "boston_df.columns = boston.feature_names\n",
    "boston_df['Price'] = boston.target"
   ]
  },
  {
   "cell_type": "code",
   "execution_count": 28,
   "metadata": {},
   "outputs": [
    {
     "data": {
      "image/png": "[encoded data removed]",
      "text/plain": [
       "<Figure size 360x360 with 1 Axes>"
      ]
     },
     "metadata": {},
     "output_type": "display_data"
    }
   ],
   "source": [
    "sns.lmplot(\"RM\",\"Price\",boston_df)\n",
    "plt.show()"
   ]
  },
  {
   "cell_type": "markdown",
   "metadata": {},
   "source": [
    "<p>As the RM(the average number of rooms per house) variable shows a linear upward relationship we will use this as a predictor for house values.</p>\n",
    "<p> To do this we will use sk learn to calculate Y = MX + c. Where X is the independant variable, m represents the slope of the line. C is the constant error. M is the slope coef and C is the intercept.</p>"
   ]
  },
  {
   "cell_type": "code",
   "execution_count": 29,
   "metadata": {
    "collapsed": true
   },
   "outputs": [],
   "source": [
    "X = boston.data[:,np.newaxis,5]\n",
    "Y = boston.target"
   ]
  },
  {
   "cell_type": "code",
   "execution_count": 35,
   "metadata": {},
   "outputs": [
    {
     "data": {
      "text/plain": [
       "LinearRegression(copy_X=True, fit_intercept=True, n_jobs=1, normalize=False)"
      ]
     },
     "execution_count": 35,
     "metadata": {},
     "output_type": "execute_result"
    }
   ],
   "source": [
    "from sklearn.linear_model import LinearRegression #import the linear Regression library from sklearn\n",
    "linreg = LinearRegression() #initialise the function to pass on the fit and predict methods\n",
    "linreg.fit(X,Y)"
   ]
  },
  {
   "cell_type": "code",
   "execution_count": 31,
   "metadata": {},
   "outputs": [
    {
     "data": {
      "text/plain": [
       "-34.67062077643857"
      ]
     },
     "execution_count": 31,
     "metadata": {},
     "output_type": "execute_result"
    }
   ],
   "source": [
    "linreg.intercept_ # this represents the \"C\" (constant error) part of the equation"
   ]
  },
  {
   "cell_type": "code",
   "execution_count": 36,
   "metadata": {},
   "outputs": [
    {
     "data": {
      "text/plain": [
       "array([9.10210898])"
      ]
     },
     "execution_count": 36,
     "metadata": {},
     "output_type": "execute_result"
    }
   ],
   "source": [
    "linreg.coef_ # this represents the \"M\" slope of the line"
   ]
  },
  {
   "cell_type": "code",
   "execution_count": 33,
   "metadata": {},
   "outputs": [
    {
     "data": {
      "text/plain": [
       "array([15.39097862])"
      ]
     },
     "execution_count": 33,
     "metadata": {},
     "output_type": "execute_result"
    }
   ],
   "source": [
    "linreg.predict(5.5) # use linreg to predict the house price on a given number of rooms"
   ]
  },
  {
   "cell_type": "markdown",
   "metadata": {},
   "source": [
    "Y = 9.102*5.5(5.5 rooms) - 34.67"
   ]
  },
  {
   "cell_type": "code",
   "execution_count": 42,
   "metadata": {},
   "outputs": [
    {
     "data": {
      "text/plain": [
       "15.390999999999998"
      ]
     },
     "execution_count": 42,
     "metadata": {},
     "output_type": "execute_result"
    }
   ],
   "source": [
    "9.102 * 5.5 - 34.67"
   ]
  },
  {
   "cell_type": "markdown",
   "metadata": {
    "collapsed": true
   },
   "source": [
    "We can see by looking at the plot above that the slope of 5.5 rooms is grouped around the $15,000 mark."
   ]
  },
  {
   "cell_type": "markdown",
   "metadata": {
    "collapsed": true
   },
   "source": [
    "# Training the Model"
   ]
  },
  {
   "cell_type": "code",
   "execution_count": 46,
   "metadata": {
    "scrolled": true
   },
   "outputs": [
    {
     "name": "stderr",
     "output_type": "stream",
     "text": [
      "C:\\Users\\gerardh\\AppData\\Local\\Continuum\\anaconda3\\lib\\site-packages\\h5py\\__init__.py:36: FutureWarning: Conversion of the second argument of issubdtype from `float` to `np.floating` is deprecated. In future, it will be treated as `np.float64 == np.dtype(float).type`.\n",
      "  from ._conv import register_converters as _register_converters\n",
      "Using TensorFlow backend.\n",
      "C:\\Users\\gerardh\\AppData\\Local\\Continuum\\anaconda3\\lib\\site-packages\\tensorflow\\python\\framework\\dtypes.py:526: FutureWarning: Passing (type, 1) or '1type' as a synonym of type is deprecated; in a future version of numpy, it will be understood as (type, (1,)) / '(1,)type'.\n",
      "  _np_qint8 = np.dtype([(\"qint8\", np.int8, 1)])\n",
      "C:\\Users\\gerardh\\AppData\\Local\\Continuum\\anaconda3\\lib\\site-packages\\tensorflow\\python\\framework\\dtypes.py:527: FutureWarning: Passing (type, 1) or '1type' as a synonym of type is deprecated; in a future version of numpy, it will be understood as (type, (1,)) / '(1,)type'.\n",
      "  _np_quint8 = np.dtype([(\"quint8\", np.uint8, 1)])\n",
      "C:\\Users\\gerardh\\AppData\\Local\\Continuum\\anaconda3\\lib\\site-packages\\tensorflow\\python\\framework\\dtypes.py:528: FutureWarning: Passing (type, 1) or '1type' as a synonym of type is deprecated; in a future version of numpy, it will be understood as (type, (1,)) / '(1,)type'.\n",
      "  _np_qint16 = np.dtype([(\"qint16\", np.int16, 1)])\n",
      "C:\\Users\\gerardh\\AppData\\Local\\Continuum\\anaconda3\\lib\\site-packages\\tensorflow\\python\\framework\\dtypes.py:529: FutureWarning: Passing (type, 1) or '1type' as a synonym of type is deprecated; in a future version of numpy, it will be understood as (type, (1,)) / '(1,)type'.\n",
      "  _np_quint16 = np.dtype([(\"quint16\", np.uint16, 1)])\n",
      "C:\\Users\\gerardh\\AppData\\Local\\Continuum\\anaconda3\\lib\\site-packages\\tensorflow\\python\\framework\\dtypes.py:530: FutureWarning: Passing (type, 1) or '1type' as a synonym of type is deprecated; in a future version of numpy, it will be understood as (type, (1,)) / '(1,)type'.\n",
      "  _np_qint32 = np.dtype([(\"qint32\", np.int32, 1)])\n",
      "C:\\Users\\gerardh\\AppData\\Local\\Continuum\\anaconda3\\lib\\site-packages\\tensorflow\\python\\framework\\dtypes.py:535: FutureWarning: Passing (type, 1) or '1type' as a synonym of type is deprecated; in a future version of numpy, it will be understood as (type, (1,)) / '(1,)type'.\n",
      "  np_resource = np.dtype([(\"resource\", np.ubyte, 1)])\n"
     ]
    }
   ],
   "source": [
    "# For neural networks.\n",
    "import keras as kr\n",
    "# For data frames.\n",
    "import pandas as pd\n",
    "# For numerical arrays.\n",
    "import numpy as np\n",
    "# For preprocessing data.\n",
    "import sklearn.preprocessing as pre\n",
    "# For splitting data sets.\n",
    "import sklearn.model_selection as mod\n",
    "# For whitening.\n",
    "import sklearn.decomposition as dec\n",
    "from sklearn.datasets import load_boston #load the boston house proce index from the sklearn library"
   ]
  },
  {
   "cell_type": "code",
   "execution_count": 47,
   "metadata": {
    "collapsed": true
   },
   "outputs": [],
   "source": [
    "boston_dataset = load_boston()\n",
    "boston = pd.DataFrame(boston_dataset.data, columns=boston_dataset.feature_names)"
   ]
  },
  {
   "cell_type": "code",
   "execution_count": 48,
   "metadata": {
    "collapsed": true
   },
   "outputs": [],
   "source": [
    "boston['MEDV'] = boston_dataset.target "
   ]
  },
  {
   "cell_type": "code",
   "execution_count": 49,
   "metadata": {
    "collapsed": true
   },
   "outputs": [],
   "source": [
    "x = boston.iloc[:,0:13]\n",
    "y = boston.iloc[:,13]"
   ]
  },
  {
   "cell_type": "code",
   "execution_count": 50,
   "metadata": {
    "collapsed": true
   },
   "outputs": [],
   "source": [
    "x_train, x_test, y_train, y_test = mod.train_test_split(x, y, test_size=0.3)"
   ]
  },
  {
   "cell_type": "code",
   "execution_count": 53,
   "metadata": {},
   "outputs": [],
   "source": [
    "m = kr.models.Sequential()\n",
    "\n",
    "m.add(kr.layers.Dense(20, input_dim=13, activation=\"relu\"))\n",
    "m.add(kr.layers.Dense(1, activation=\"linear\"))\n",
    "#m.add(kr.layers.Dense(1, activation=\"linear\"))\n",
    "\n",
    "m.compile(loss=\"mean_squared_logarithmic_error\", optimizer=\"adam\")"
   ]
  },
  {
   "cell_type": "code",
   "execution_count": 54,
   "metadata": {
    "scrolled": true
   },
   "outputs": [
    {
     "name": "stdout",
     "output_type": "stream",
     "text": [
      "Epoch 1/100\n",
      "354/354 [==============================] - 0s 463us/step - loss: 6.1491\n",
      "Epoch 2/100\n",
      "354/354 [==============================] - 0s 133us/step - loss: 2.0220\n",
      "Epoch 3/100\n",
      "354/354 [==============================] - 0s 141us/step - loss: 1.3413\n",
      "Epoch 4/100\n",
      "354/354 [==============================] - 0s 150us/step - loss: 1.1379\n",
      "Epoch 5/100\n",
      "354/354 [==============================] - 0s 184us/step - loss: 1.0046\n",
      "Epoch 6/100\n",
      "354/354 [==============================] - 0s 172us/step - loss: 0.8430\n",
      "Epoch 7/100\n",
      "354/354 [==============================] - 0s 167us/step - loss: 0.4432\n",
      "Epoch 8/100\n",
      "354/354 [==============================] - 0s 215us/step - loss: 0.2276\n",
      "Epoch 9/100\n",
      "354/354 [==============================] - 0s 209us/step - loss: 0.1954\n",
      "Epoch 10/100\n",
      "354/354 [==============================] - 0s 186us/step - loss: 0.1746\n",
      "Epoch 11/100\n",
      "354/354 [==============================] - 0s 195us/step - loss: 0.1603\n",
      "Epoch 12/100\n",
      "354/354 [==============================] - 0s 181us/step - loss: 0.1506\n",
      "Epoch 13/100\n",
      "354/354 [==============================] - 0s 186us/step - loss: 0.1437\n",
      "Epoch 14/100\n",
      "354/354 [==============================] - 0s 198us/step - loss: 0.1361\n",
      "Epoch 15/100\n",
      "354/354 [==============================] - 0s 186us/step - loss: 0.1334\n",
      "Epoch 16/100\n",
      "354/354 [==============================] - 0s 201us/step - loss: 0.1254\n",
      "Epoch 17/100\n",
      "354/354 [==============================] - 0s 192us/step - loss: 0.1214\n",
      "Epoch 18/100\n",
      "354/354 [==============================] - 0s 226us/step - loss: 0.1150\n",
      "Epoch 19/100\n",
      "354/354 [==============================] - 0s 223us/step - loss: 0.1088\n",
      "Epoch 20/100\n",
      "354/354 [==============================] - 0s 164us/step - loss: 0.1114\n",
      "Epoch 21/100\n",
      "354/354 [==============================] - 0s 223us/step - loss: 0.1054\n",
      "Epoch 22/100\n",
      "354/354 [==============================] - 0s 280us/step - loss: 0.1003\n",
      "Epoch 23/100\n",
      "354/354 [==============================] - 0s 347us/step - loss: 0.0952\n",
      "Epoch 24/100\n",
      "354/354 [==============================] - 0s 277us/step - loss: 0.0944\n",
      "Epoch 25/100\n",
      "354/354 [==============================] - 0s 345us/step - loss: 0.0942\n",
      "Epoch 26/100\n",
      "354/354 [==============================] - 0s 322us/step - loss: 0.0950\n",
      "Epoch 27/100\n",
      "354/354 [==============================] - 0s 537us/step - loss: 0.0862 0s - loss: 0.0\n",
      "Epoch 28/100\n",
      "354/354 [==============================] - 0s 381us/step - loss: 0.0860\n",
      "Epoch 29/100\n",
      "354/354 [==============================] - 0s 294us/step - loss: 0.0924\n",
      "Epoch 30/100\n",
      "354/354 [==============================] - 0s 178us/step - loss: 0.0832\n",
      "Epoch 31/100\n",
      "354/354 [==============================] - 0s 206us/step - loss: 0.0806\n",
      "Epoch 32/100\n",
      "354/354 [==============================] - 0s 212us/step - loss: 0.0837\n",
      "Epoch 33/100\n",
      "354/354 [==============================] - 0s 229us/step - loss: 0.0885\n",
      "Epoch 34/100\n",
      "354/354 [==============================] - 0s 220us/step - loss: 0.0820\n",
      "Epoch 35/100\n",
      "354/354 [==============================] - 0s 215us/step - loss: 0.0821\n",
      "Epoch 36/100\n",
      "354/354 [==============================] - 0s 246us/step - loss: 0.0803\n",
      "Epoch 37/100\n",
      "354/354 [==============================] - 0s 167us/step - loss: 0.0760\n",
      "Epoch 38/100\n",
      "354/354 [==============================] - 0s 254us/step - loss: 0.0738\n",
      "Epoch 39/100\n",
      "354/354 [==============================] - 0s 212us/step - loss: 0.0799\n",
      "Epoch 40/100\n",
      "354/354 [==============================] - 0s 249us/step - loss: 0.0789\n",
      "Epoch 41/100\n",
      "354/354 [==============================] - 0s 170us/step - loss: 0.0726\n",
      "Epoch 42/100\n",
      "354/354 [==============================] - 0s 234us/step - loss: 0.0701\n",
      "Epoch 43/100\n",
      "354/354 [==============================] - 0s 203us/step - loss: 0.0676\n",
      "Epoch 44/100\n",
      "354/354 [==============================] - 0s 223us/step - loss: 0.0688\n",
      "Epoch 45/100\n",
      "354/354 [==============================] - 0s 280us/step - loss: 0.0708\n",
      "Epoch 46/100\n",
      "354/354 [==============================] - 0s 266us/step - loss: 0.0678\n",
      "Epoch 47/100\n",
      "354/354 [==============================] - 0s 218us/step - loss: 0.0647\n",
      "Epoch 48/100\n",
      "354/354 [==============================] - 0s 192us/step - loss: 0.0717\n",
      "Epoch 49/100\n",
      "354/354 [==============================] - 0s 249us/step - loss: 0.0737\n",
      "Epoch 50/100\n",
      "354/354 [==============================] - 0s 175us/step - loss: 0.0661\n",
      "Epoch 51/100\n",
      "354/354 [==============================] - 0s 234us/step - loss: 0.0650\n",
      "Epoch 52/100\n",
      "354/354 [==============================] - 0s 302us/step - loss: 0.0746\n",
      "Epoch 53/100\n",
      "354/354 [==============================] - 0s 345us/step - loss: 0.0688\n",
      "Epoch 54/100\n",
      "354/354 [==============================] - 0s 260us/step - loss: 0.0690\n",
      "Epoch 55/100\n",
      "354/354 [==============================] - 0s 381us/step - loss: 0.0677\n",
      "Epoch 56/100\n",
      "354/354 [==============================] - 0s 387us/step - loss: 0.0726\n",
      "Epoch 57/100\n",
      "354/354 [==============================] - 0s 412us/step - loss: 0.0644\n",
      "Epoch 58/100\n",
      "354/354 [==============================] - 0s 441us/step - loss: 0.0664\n",
      "Epoch 59/100\n",
      "354/354 [==============================] - 0s 562us/step - loss: 0.0655\n",
      "Epoch 60/100\n",
      "354/354 [==============================] - 0s 528us/step - loss: 0.0640\n",
      "Epoch 61/100\n",
      "354/354 [==============================] - 0s 404us/step - loss: 0.0629\n",
      "Epoch 62/100\n",
      "354/354 [==============================] - 0s 305us/step - loss: 0.0659\n",
      "Epoch 63/100\n",
      "354/354 [==============================] - 0s 396us/step - loss: 0.0806\n",
      "Epoch 64/100\n",
      "354/354 [==============================] - 0s 689us/step - loss: 0.0686\n",
      "Epoch 65/100\n",
      "354/354 [==============================] - 0s 483us/step - loss: 0.0651\n",
      "Epoch 66/100\n",
      "354/354 [==============================] - 0s 460us/step - loss: 0.0626\n",
      "Epoch 67/100\n",
      "354/354 [==============================] - 0s 429us/step - loss: 0.0683\n",
      "Epoch 68/100\n",
      "354/354 [==============================] - 0s 509us/step - loss: 0.0651\n",
      "Epoch 69/100\n",
      "354/354 [==============================] - 0s 455us/step - loss: 0.0661\n",
      "Epoch 70/100\n",
      "354/354 [==============================] - 0s 396us/step - loss: 0.0678\n",
      "Epoch 71/100\n",
      "354/354 [==============================] - 0s 537us/step - loss: 0.0654\n",
      "Epoch 72/100\n",
      "354/354 [==============================] - 0s 384us/step - loss: 0.0654\n",
      "Epoch 73/100\n",
      "354/354 [==============================] - 0s 418us/step - loss: 0.0621\n",
      "Epoch 74/100\n",
      "354/354 [==============================] - 0s 537us/step - loss: 0.0674\n",
      "Epoch 75/100\n",
      "354/354 [==============================] - 0s 610us/step - loss: 0.0833 0s - loss: 0.085\n",
      "Epoch 76/100\n",
      "354/354 [==============================] - 0s 412us/step - loss: 0.0699\n",
      "Epoch 77/100\n",
      "354/354 [==============================] - 0s 548us/step - loss: 0.0702\n",
      "Epoch 78/100\n",
      "354/354 [==============================] - 0s 469us/step - loss: 0.0622\n",
      "Epoch 79/100\n",
      "354/354 [==============================] - 0s 452us/step - loss: 0.0586\n",
      "Epoch 80/100\n",
      "354/354 [==============================] - 0s 613us/step - loss: 0.0613\n",
      "Epoch 81/100\n",
      "354/354 [==============================] - 0s 381us/step - loss: 0.0696\n",
      "Epoch 82/100\n",
      "354/354 [==============================] - 0s 379us/step - loss: 0.0647\n",
      "Epoch 83/100\n",
      "354/354 [==============================] - 0s 291us/step - loss: 0.0632\n",
      "Epoch 84/100\n",
      "354/354 [==============================] - 0s 390us/step - loss: 0.0635\n",
      "Epoch 85/100\n",
      "354/354 [==============================] - 0s 475us/step - loss: 0.0773\n",
      "Epoch 86/100\n",
      "354/354 [==============================] - 0s 359us/step - loss: 0.0646\n",
      "Epoch 87/100\n",
      "354/354 [==============================] - 0s 559us/step - loss: 0.0635\n",
      "Epoch 88/100\n",
      "354/354 [==============================] - 0s 427us/step - loss: 0.0771\n",
      "Epoch 89/100\n",
      "354/354 [==============================] - 0s 379us/step - loss: 0.0750\n",
      "Epoch 90/100\n",
      "354/354 [==============================] - 0s 280us/step - loss: 0.0686\n",
      "Epoch 91/100\n",
      "354/354 [==============================] - 0s 393us/step - loss: 0.0663\n",
      "Epoch 92/100\n",
      "354/354 [==============================] - 0s 291us/step - loss: 0.0594\n",
      "Epoch 93/100\n",
      "354/354 [==============================] - 0s 381us/step - loss: 0.0634\n",
      "Epoch 94/100\n",
      "354/354 [==============================] - 0s 393us/step - loss: 0.0633\n",
      "Epoch 95/100\n",
      "354/354 [==============================] - 0s 302us/step - loss: 0.0597\n",
      "Epoch 96/100\n",
      "354/354 [==============================] - 0s 429us/step - loss: 0.0893\n",
      "Epoch 97/100\n"
     ]
    },
    {
     "name": "stdout",
     "output_type": "stream",
     "text": [
      "354/354 [==============================] - 0s 427us/step - loss: 0.0728\n",
      "Epoch 98/100\n",
      "354/354 [==============================] - 0s 429us/step - loss: 0.0636\n",
      "Epoch 99/100\n",
      "354/354 [==============================] - 0s 336us/step - loss: 0.0659\n",
      "Epoch 100/100\n",
      "354/354 [==============================] - 0s 297us/step - loss: 0.0719\n"
     ]
    },
    {
     "data": {
      "text/plain": [
       "<keras.callbacks.callbacks.History at 0x13299940>"
      ]
     },
     "execution_count": 54,
     "metadata": {},
     "output_type": "execute_result"
    }
   ],
   "source": [
    "m.fit(x_train, y_train, epochs=100, batch_size=10)"
   ]
  },
  {
   "cell_type": "code",
   "execution_count": 55,
   "metadata": {},
   "outputs": [
    {
     "data": {
      "text/plain": [
       "array([[26., 27., 23., 22., 19., 18., 25., 25., 22., 20., 21., 21., 35.,\n",
       "        18., 13., 12., 18., 24., 14., 18., 20., 20., 19., 16., 29., 24.,\n",
       "        25., 25., 21., 22., 18., 23., 12., 21., 23., 16., 16., 25., 27.,\n",
       "        21., 22., 28., 26.,  7., 14., 17., 17., 21., 21., 20., 16., 22.,\n",
       "        13., 12., 12., 21., 13., 28., 35., 25., 24., 27., 15., 20., 28.,\n",
       "        23., 19., 26., 26., 25.,  2., 20., 29., 22., 26., 11., 11., 20.,\n",
       "        22., 17., 25., 13., 25., 31., 35., 22., 13., 19., 12., 31., 22.,\n",
       "        11., 18., 24., 18., 21., 17., 10., 10., 12., 22., 13., 27., 23.,\n",
       "        20., 20., 18., 19., 23., 24., 22., 21., 12., 26., 24., 25., 18.,\n",
       "        20., 22., 22., 23., 26., 20., 26., 18., 18., 21., 28., 26., 22.,\n",
       "        23., 21., 16., 21., 23., 21., 24., 17., 27., 22., 16., 25.,  7.,\n",
       "        14., 24., 26., 17., 25., 26., 11., 19., 22.]], dtype=float32)"
      ]
     },
     "execution_count": 55,
     "metadata": {},
     "output_type": "execute_result"
    }
   ],
   "source": [
    "m.predict(x_test).round().T"
   ]
  },
  {
   "cell_type": "code",
   "execution_count": 56,
   "metadata": {},
   "outputs": [
    {
     "name": "stderr",
     "output_type": "stream",
     "text": [
      "C:\\Users\\gerardh\\AppData\\Local\\Continuum\\anaconda3\\lib\\site-packages\\ipykernel_launcher.py:1: FutureWarning: Method .as_matrix will be removed in a future version. Use .values instead.\n",
      "  \"\"\"Entry point for launching an IPython kernel.\n"
     ]
    },
    {
     "data": {
      "text/plain": [
       "array([33.2, 23.5, 19.9, 18.2, 19.3, 13.6, 21.6, 42.8, 23.2, 21.7, 16.8,\n",
       "       21.4, 44. , 19.8,  8.3,  9.7, 23.2, 50. , 15.6, 20.3, 15.2, 19.8,\n",
       "       27.1, 15.4, 32.4, 23.1, 20.1, 35.4, 20.3, 24.7, 19.9, 23.3, 14.5,\n",
       "       22.2, 28.4, 14.9, 23.2, 22.2, 22. , 23.3, 20.9, 36.2, 23.9,  8.8,\n",
       "       19.1, 12.7, 18.6, 20.5, 21.2, 20.1, 19.9, 21.2, 13.3, 10.8, 12.7,\n",
       "       16. , 11.8, 35.2, 37.3, 24.8, 30.1, 33.4, 11.5, 17.5, 31.1, 22. ,\n",
       "       20.5, 36.2, 35.1, 26.6,  7. , 16.6, 42.3, 19.6, 29.1,  7.5, 11.8,\n",
       "       24.5, 18.6, 13.1, 28.4, 13.5, 22.3, 37.9, 27.9, 20.7, 19.4, 17.8,\n",
       "       13.5, 37.2, 18.9, 10.9, 13.8, 29.4, 21.7, 24.1, 20. ,  6.3,  7.2,\n",
       "       23.1, 22.8, 12.3, 37.6, 23.9, 16.2, 20.2, 17.7, 14.3, 18.2, 31.7,\n",
       "       26.4, 18.7,  8.1, 34.9, 22.2, 50. , 27.9, 18.1, 16.2, 22. , 23.1,\n",
       "       50. , 22.6, 22.8, 17.2, 16.1, 18. , 33.1, 43.5, 30.7, 20.3, 23.1,\n",
       "       17.1, 27. , 19.6, 19.2, 22.6, 19.1, 50. , 19.3, 20. , 18.2,  7.4,\n",
       "       13.9, 25. , 43.1, 14.8, 25. , 23.9, 17.8, 19.6, 50. ],\n",
       "      dtype=float32)"
      ]
     },
     "execution_count": 56,
     "metadata": {},
     "output_type": "execute_result"
    }
   ],
   "source": [
    "y_test.as_matrix().astype(np.float32)"
   ]
  },
  {
   "cell_type": "code",
   "execution_count": 57,
   "metadata": {},
   "outputs": [
    {
     "name": "stdout",
     "output_type": "stream",
     "text": [
      "152/152 [==============================] - 0s 434us/step\n"
     ]
    },
    {
     "data": {
      "text/plain": [
       "0.06005213801798068"
      ]
     },
     "execution_count": 57,
     "metadata": {},
     "output_type": "execute_result"
    }
   ],
   "source": [
    "m.evaluate(x_test, y_test)"
   ]
  },
  {
   "cell_type": "markdown",
   "metadata": {},
   "source": [
    "# Scaling"
   ]
  },
  {
   "cell_type": "code",
   "execution_count": 58,
   "metadata": {
    "collapsed": true
   },
   "outputs": [],
   "source": [
    "scaler = pre.StandardScaler()\n",
    "scaler.fit(x_train)\n",
    "x_train_scaled = scaler.transform(x_train)"
   ]
  },
  {
   "cell_type": "code",
   "execution_count": 59,
   "metadata": {
    "collapsed": true
   },
   "outputs": [],
   "source": [
    "m = kr.models.Sequential()\n",
    "\n",
    "m.add(kr.layers.Dense(20, input_dim=13, activation=\"relu\"))\n",
    "m.add(kr.layers.Dense(1, activation=\"linear\"))\n",
    "#m.add(kr.layers.Dense(1, activation=\"linear\"))\n",
    "\n",
    "m.compile(loss=\"mean_squared_logarithmic_error\", optimizer=\"adam\")"
   ]
  },
  {
   "cell_type": "code",
   "execution_count": 73,
   "metadata": {},
   "outputs": [
    {
     "name": "stdout",
     "output_type": "stream",
     "text": [
      "Epoch 1/100\n",
      "354/354 [==============================] - 0s 254us/step - loss: 5.6356\n",
      "Epoch 2/100\n",
      "354/354 [==============================] - 0s 254us/step - loss: 2.8021\n",
      "Epoch 3/100\n",
      "354/354 [==============================] - 0s 226us/step - loss: 1.8707\n",
      "Epoch 4/100\n",
      "354/354 [==============================] - 0s 226us/step - loss: 1.3919\n",
      "Epoch 5/100\n",
      "354/354 [==============================] - 0s 198us/step - loss: 1.0935\n",
      "Epoch 6/100\n",
      "354/354 [==============================] - 0s 198us/step - loss: 0.8892\n",
      "Epoch 7/100\n",
      "354/354 [==============================] - 0s 169us/step - loss: 0.7406\n",
      "Epoch 8/100\n",
      "354/354 [==============================] - 0s 169us/step - loss: 0.6288\n",
      "Epoch 9/100\n",
      "354/354 [==============================] - 0s 226us/step - loss: 0.5417\n",
      "Epoch 10/100\n",
      "354/354 [==============================] - 0s 226us/step - loss: 0.4725\n",
      "Epoch 11/100\n",
      "354/354 [==============================] - 0s 198us/step - loss: 0.4172\n",
      "Epoch 12/100\n",
      "354/354 [==============================] - 0s 169us/step - loss: 0.3719\n",
      "Epoch 13/100\n",
      "354/354 [==============================] - 0s 198us/step - loss: 0.3343\n",
      "Epoch 14/100\n",
      "354/354 [==============================] - 0s 169us/step - loss: 0.3024\n",
      "Epoch 15/100\n",
      "354/354 [==============================] - 0s 198us/step - loss: 0.2753\n",
      "Epoch 16/100\n",
      "354/354 [==============================] - 0s 198us/step - loss: 0.2524\n",
      "Epoch 17/100\n",
      "354/354 [==============================] - 0s 206us/step - loss: 0.2328\n",
      "Epoch 18/100\n",
      "354/354 [==============================] - 0s 328us/step - loss: 0.2155\n",
      "Epoch 19/100\n",
      "354/354 [==============================] - 0s 198us/step - loss: 0.2007\n",
      "Epoch 20/100\n",
      "354/354 [==============================] - 0s 169us/step - loss: 0.1876\n",
      "Epoch 21/100\n",
      "354/354 [==============================] - 0s 169us/step - loss: 0.1761\n",
      "Epoch 22/100\n",
      "354/354 [==============================] - 0s 226us/step - loss: 0.1661\n",
      "Epoch 23/100\n",
      "354/354 [==============================] - 0s 169us/step - loss: 0.1573\n",
      "Epoch 24/100\n",
      "354/354 [==============================] - 0s 198us/step - loss: 0.1493\n",
      "Epoch 25/100\n",
      "354/354 [==============================] - 0s 169us/step - loss: 0.1422\n",
      "Epoch 26/100\n",
      "354/354 [==============================] - 0s 226us/step - loss: 0.1359\n",
      "Epoch 27/100\n",
      "354/354 [==============================] - 0s 169us/step - loss: 0.1300\n",
      "Epoch 28/100\n",
      "354/354 [==============================] - 0s 169us/step - loss: 0.1247\n",
      "Epoch 29/100\n",
      "354/354 [==============================] - 0s 198us/step - loss: 0.1200\n",
      "Epoch 30/100\n",
      "354/354 [==============================] - 0s 198us/step - loss: 0.1156\n",
      "Epoch 31/100\n",
      "354/354 [==============================] - 0s 254us/step - loss: 0.1116\n",
      "Epoch 32/100\n",
      "354/354 [==============================] - 0s 198us/step - loss: 0.1078\n",
      "Epoch 33/100\n",
      "354/354 [==============================] - 0s 226us/step - loss: 0.1045\n",
      "Epoch 34/100\n",
      "354/354 [==============================] - 0s 198us/step - loss: 0.1013\n",
      "Epoch 35/100\n",
      "354/354 [==============================] - 0s 226us/step - loss: 0.0983\n",
      "Epoch 36/100\n",
      "354/354 [==============================] - 0s 254us/step - loss: 0.0955\n",
      "Epoch 37/100\n",
      "354/354 [==============================] - 0s 198us/step - loss: 0.0930\n",
      "Epoch 38/100\n",
      "354/354 [==============================] - 0s 282us/step - loss: 0.0905\n",
      "Epoch 39/100\n",
      "354/354 [==============================] - 0s 169us/step - loss: 0.0883\n",
      "Epoch 40/100\n",
      "354/354 [==============================] - 0s 254us/step - loss: 0.0861\n",
      "Epoch 41/100\n",
      "354/354 [==============================] - 0s 169us/step - loss: 0.0841\n",
      "Epoch 42/100\n",
      "354/354 [==============================] - 0s 198us/step - loss: 0.0821\n",
      "Epoch 43/100\n",
      "354/354 [==============================] - 0s 198us/step - loss: 0.0803\n",
      "Epoch 44/100\n",
      "354/354 [==============================] - 0s 254us/step - loss: 0.0787\n",
      "Epoch 45/100\n",
      "354/354 [==============================] - 0s 226us/step - loss: 0.0769\n",
      "Epoch 46/100\n",
      "354/354 [==============================] - 0s 169us/step - loss: 0.0754\n",
      "Epoch 47/100\n",
      "354/354 [==============================] - 0s 226us/step - loss: 0.0740\n",
      "Epoch 48/100\n",
      "354/354 [==============================] - 0s 226us/step - loss: 0.0726\n",
      "Epoch 49/100\n",
      "354/354 [==============================] - 0s 198us/step - loss: 0.0712\n",
      "Epoch 50/100\n",
      "354/354 [==============================] - 0s 226us/step - loss: 0.0699\n",
      "Epoch 51/100\n",
      "354/354 [==============================] - 0s 254us/step - loss: 0.0688\n",
      "Epoch 52/100\n",
      "354/354 [==============================] - 0s 169us/step - loss: 0.0676\n",
      "Epoch 53/100\n",
      "354/354 [==============================] - 0s 311us/step - loss: 0.0665\n",
      "Epoch 54/100\n",
      "354/354 [==============================] - 0s 198us/step - loss: 0.0654\n",
      "Epoch 55/100\n",
      "354/354 [==============================] - 0s 198us/step - loss: 0.0644\n",
      "Epoch 56/100\n",
      "354/354 [==============================] - 0s 141us/step - loss: 0.0633\n",
      "Epoch 57/100\n",
      "354/354 [==============================] - 0s 141us/step - loss: 0.0623\n",
      "Epoch 58/100\n",
      "354/354 [==============================] - 0s 141us/step - loss: 0.0614\n",
      "Epoch 59/100\n",
      "354/354 [==============================] - 0s 169us/step - loss: 0.0605\n",
      "Epoch 60/100\n",
      "354/354 [==============================] - 0s 169us/step - loss: 0.0596\n",
      "Epoch 61/100\n",
      "354/354 [==============================] - 0s 169us/step - loss: 0.0589\n",
      "Epoch 62/100\n",
      "354/354 [==============================] - 0s 169us/step - loss: 0.0581\n",
      "Epoch 63/100\n",
      "354/354 [==============================] - 0s 175us/step - loss: 0.0573\n",
      "Epoch 64/100\n",
      "354/354 [==============================] - 0s 141us/step - loss: 0.0566\n",
      "Epoch 65/100\n",
      "354/354 [==============================] - 0s 169us/step - loss: 0.0559\n",
      "Epoch 66/100\n",
      "354/354 [==============================] - 0s 169us/step - loss: 0.0553\n",
      "Epoch 67/100\n",
      "354/354 [==============================] - 0s 198us/step - loss: 0.0546\n",
      "Epoch 68/100\n",
      "354/354 [==============================] - 0s 198us/step - loss: 0.0540\n",
      "Epoch 69/100\n",
      "354/354 [==============================] - 0s 141us/step - loss: 0.0534\n",
      "Epoch 70/100\n",
      "354/354 [==============================] - 0s 169us/step - loss: 0.0529\n",
      "Epoch 71/100\n",
      "354/354 [==============================] - 0s 198us/step - loss: 0.0523\n",
      "Epoch 72/100\n",
      "354/354 [==============================] - 0s 198us/step - loss: 0.0518\n",
      "Epoch 73/100\n",
      "354/354 [==============================] - 0s 141us/step - loss: 0.0513\n",
      "Epoch 74/100\n",
      "354/354 [==============================] - 0s 141us/step - loss: 0.0508\n",
      "Epoch 75/100\n",
      "354/354 [==============================] - 0s 141us/step - loss: 0.0503\n",
      "Epoch 76/100\n",
      "354/354 [==============================] - 0s 169us/step - loss: 0.0498\n",
      "Epoch 77/100\n",
      "354/354 [==============================] - 0s 198us/step - loss: 0.0494\n",
      "Epoch 78/100\n",
      "354/354 [==============================] - 0s 141us/step - loss: 0.0490\n",
      "Epoch 79/100\n",
      "354/354 [==============================] - 0s 198us/step - loss: 0.0485\n",
      "Epoch 80/100\n",
      "354/354 [==============================] - 0s 198us/step - loss: 0.0481\n",
      "Epoch 81/100\n",
      "354/354 [==============================] - 0s 169us/step - loss: 0.0477\n",
      "Epoch 82/100\n",
      "354/354 [==============================] - 0s 169us/step - loss: 0.0473\n",
      "Epoch 83/100\n",
      "354/354 [==============================] - 0s 169us/step - loss: 0.0469\n",
      "Epoch 84/100\n",
      "354/354 [==============================] - 0s 198us/step - loss: 0.0466\n",
      "Epoch 85/100\n",
      "354/354 [==============================] - 0s 141us/step - loss: 0.0462\n",
      "Epoch 86/100\n",
      "354/354 [==============================] - 0s 141us/step - loss: 0.0458\n",
      "Epoch 87/100\n",
      "354/354 [==============================] - 0s 169us/step - loss: 0.0455\n",
      "Epoch 88/100\n",
      "354/354 [==============================] - 0s 141us/step - loss: 0.0451\n",
      "Epoch 89/100\n",
      "354/354 [==============================] - 0s 141us/step - loss: 0.0448\n",
      "Epoch 90/100\n",
      "354/354 [==============================] - 0s 169us/step - loss: 0.0445\n",
      "Epoch 91/100\n",
      "354/354 [==============================] - 0s 169us/step - loss: 0.0441\n",
      "Epoch 92/100\n",
      "354/354 [==============================] - 0s 169us/step - loss: 0.0439\n",
      "Epoch 93/100\n",
      "354/354 [==============================] - 0s 169us/step - loss: 0.0435\n",
      "Epoch 94/100\n",
      "354/354 [==============================] - 0s 226us/step - loss: 0.0432\n",
      "Epoch 95/100\n",
      "354/354 [==============================] - 0s 141us/step - loss: 0.0430\n",
      "Epoch 96/100\n",
      "354/354 [==============================] - 0s 169us/step - loss: 0.0426\n",
      "Epoch 97/100\n",
      "354/354 [==============================] - 0s 226us/step - loss: 0.0423\n",
      "Epoch 98/100\n",
      "354/354 [==============================] - 0s 141us/step - loss: 0.0421\n",
      "Epoch 99/100\n",
      "354/354 [==============================] - 0s 141us/step - loss: 0.0417\n",
      "Epoch 100/100\n",
      "354/354 [==============================] - 0s 113us/step - loss: 0.0414\n"
     ]
    },
    {
     "data": {
      "text/plain": [
       "<keras.callbacks.callbacks.History at 0x174c2ba8>"
      ]
     },
     "execution_count": 73,
     "metadata": {},
     "output_type": "execute_result"
    }
   ],
   "source": [
    "m.fit(x_train_scaled, y_train, epochs=100, batch_size=10)"
   ]
  },
  {
   "cell_type": "code",
   "execution_count": 77,
   "metadata": {},
   "outputs": [
    {
     "data": {
      "text/plain": [
       "array([[37., 26., 19., 18., 21., 12., 28., 34., 26., 23., 18., 24., 34.,\n",
       "        22., 12., 13., 17., 33., 18., 20., 16., 18., 17., 16., 29., 25.,\n",
       "        25., 35., 23., 29., 17., 20., 14., 23., 31., 16., 16., 20., 29.,\n",
       "        22., 21., 31., 21., 11., 12., 11., 12., 17., 19., 20., 15., 26.,\n",
       "        14., 13., 14., 14., 12., 34., 28., 25., 27., 30., 15., 16., 34.,\n",
       "        24., 22., 33., 35., 28.,  8., 15., 35., 17., 26., 12., 13., 19.,\n",
       "        20., 17., 25., 11., 24., 37., 25., 22., 16., 18., 13., 37., 12.,\n",
       "        10., 17., 32., 19., 26., 16., 13., 11., 16., 26., 15., 37., 28.,\n",
       "        16., 18., 17., 15., 19., 32., 24., 15., 16., 29., 24., 28., 18.,\n",
       "        17., 20., 22., 25., 40., 25., 28., 20., 17., 19., 29., 37., 27.,\n",
       "        23., 23., 15., 27., 18., 21., 30., 20., 36., 19., 16., 16., 10.,\n",
       "        14., 26., 33., 13., 23., 25., 12., 17., 21.]], dtype=float32)"
      ]
     },
     "execution_count": 77,
     "metadata": {},
     "output_type": "execute_result"
    }
   ],
   "source": [
    "x_test_scaled = scaler.transform(x_test)\n",
    "m.predict(x_test_scaled).round().T"
   ]
  },
  {
   "cell_type": "code",
   "execution_count": 78,
   "metadata": {},
   "outputs": [
    {
     "name": "stderr",
     "output_type": "stream",
     "text": [
      "C:\\Users\\gerardh\\AppData\\Local\\Continuum\\anaconda3\\lib\\site-packages\\ipykernel_launcher.py:1: FutureWarning: Method .as_matrix will be removed in a future version. Use .values instead.\n",
      "  \"\"\"Entry point for launching an IPython kernel.\n"
     ]
    },
    {
     "data": {
      "text/plain": [
       "array([33.2, 23.5, 19.9, 18.2, 19.3, 13.6, 21.6, 42.8, 23.2, 21.7, 16.8,\n",
       "       21.4, 44. , 19.8,  8.3,  9.7, 23.2, 50. , 15.6, 20.3, 15.2, 19.8,\n",
       "       27.1, 15.4, 32.4, 23.1, 20.1, 35.4, 20.3, 24.7, 19.9, 23.3, 14.5,\n",
       "       22.2, 28.4, 14.9, 23.2, 22.2, 22. , 23.3, 20.9, 36.2, 23.9,  8.8,\n",
       "       19.1, 12.7, 18.6, 20.5, 21.2, 20.1, 19.9, 21.2, 13.3, 10.8, 12.7,\n",
       "       16. , 11.8, 35.2, 37.3, 24.8, 30.1, 33.4, 11.5, 17.5, 31.1, 22. ,\n",
       "       20.5, 36.2, 35.1, 26.6,  7. , 16.6, 42.3, 19.6, 29.1,  7.5, 11.8,\n",
       "       24.5, 18.6, 13.1, 28.4, 13.5, 22.3, 37.9, 27.9, 20.7, 19.4, 17.8,\n",
       "       13.5, 37.2, 18.9, 10.9, 13.8, 29.4, 21.7, 24.1, 20. ,  6.3,  7.2,\n",
       "       23.1, 22.8, 12.3, 37.6, 23.9, 16.2, 20.2, 17.7, 14.3, 18.2, 31.7,\n",
       "       26.4, 18.7,  8.1, 34.9, 22.2, 50. , 27.9, 18.1, 16.2, 22. , 23.1,\n",
       "       50. , 22.6, 22.8, 17.2, 16.1, 18. , 33.1, 43.5, 30.7, 20.3, 23.1,\n",
       "       17.1, 27. , 19.6, 19.2, 22.6, 19.1, 50. , 19.3, 20. , 18.2,  7.4,\n",
       "       13.9, 25. , 43.1, 14.8, 25. , 23.9, 17.8, 19.6, 50. ],\n",
       "      dtype=float32)"
      ]
     },
     "execution_count": 78,
     "metadata": {},
     "output_type": "execute_result"
    }
   ],
   "source": [
    "y_test.as_matrix().astype(np.float32)"
   ]
  },
  {
   "cell_type": "code",
   "execution_count": 80,
   "metadata": {},
   "outputs": [
    {
     "name": "stdout",
     "output_type": "stream",
     "text": [
      "152/152 [==============================] - 0s 132us/step\n"
     ]
    },
    {
     "data": {
      "text/plain": [
       "0.04057625504700761"
      ]
     },
     "execution_count": 80,
     "metadata": {},
     "output_type": "execute_result"
    }
   ],
   "source": [
    "m.evaluate(x_test_scaled, y_test)"
   ]
  },
  {
   "cell_type": "markdown",
   "metadata": {},
   "source": [
    "# Whitening"
   ]
  },
  {
   "cell_type": "code",
   "execution_count": 65,
   "metadata": {
    "scrolled": true
   },
   "outputs": [
    {
     "data": {
      "text/html": [
       "<div>\n",
       "<style scoped>\n",
       "    .dataframe tbody tr th:only-of-type {\n",
       "        vertical-align: middle;\n",
       "    }\n",
       "\n",
       "    .dataframe tbody tr th {\n",
       "        vertical-align: top;\n",
       "    }\n",
       "\n",
       "    .dataframe thead th {\n",
       "        text-align: right;\n",
       "    }\n",
       "</style>\n",
       "<table border=\"1\" class=\"dataframe\">\n",
       "  <thead>\n",
       "    <tr style=\"text-align: right;\">\n",
       "      <th></th>\n",
       "      <th>CRIM</th>\n",
       "      <th>ZN</th>\n",
       "      <th>INDUS</th>\n",
       "      <th>CHAS</th>\n",
       "      <th>NOX</th>\n",
       "      <th>RM</th>\n",
       "      <th>AGE</th>\n",
       "      <th>DIS</th>\n",
       "      <th>RAD</th>\n",
       "      <th>TAX</th>\n",
       "      <th>PTRATIO</th>\n",
       "      <th>B</th>\n",
       "      <th>LSTAT</th>\n",
       "    </tr>\n",
       "  </thead>\n",
       "  <tbody>\n",
       "    <tr>\n",
       "      <th>0</th>\n",
       "      <td>1.806020</td>\n",
       "      <td>2.184061</td>\n",
       "      <td>0.460051</td>\n",
       "      <td>-0.552365</td>\n",
       "      <td>-0.726048</td>\n",
       "      <td>0.534848</td>\n",
       "      <td>-0.686070</td>\n",
       "      <td>-0.317540</td>\n",
       "      <td>-0.086086</td>\n",
       "      <td>-0.574408</td>\n",
       "      <td>-0.522640</td>\n",
       "      <td>-0.074686</td>\n",
       "      <td>0.146102</td>\n",
       "    </tr>\n",
       "    <tr>\n",
       "      <th>1</th>\n",
       "      <td>-0.844209</td>\n",
       "      <td>0.205739</td>\n",
       "      <td>-0.230520</td>\n",
       "      <td>0.534136</td>\n",
       "      <td>0.098775</td>\n",
       "      <td>-0.906631</td>\n",
       "      <td>-0.566333</td>\n",
       "      <td>-0.129932</td>\n",
       "      <td>-2.600085</td>\n",
       "      <td>-1.332355</td>\n",
       "      <td>-2.311479</td>\n",
       "      <td>-0.886210</td>\n",
       "      <td>0.406703</td>\n",
       "    </tr>\n",
       "    <tr>\n",
       "      <th>2</th>\n",
       "      <td>-1.085169</td>\n",
       "      <td>0.245447</td>\n",
       "      <td>-0.606820</td>\n",
       "      <td>-0.654038</td>\n",
       "      <td>0.239714</td>\n",
       "      <td>-1.209934</td>\n",
       "      <td>-0.837649</td>\n",
       "      <td>0.403152</td>\n",
       "      <td>0.698229</td>\n",
       "      <td>1.234181</td>\n",
       "      <td>0.446213</td>\n",
       "      <td>-0.217752</td>\n",
       "      <td>0.420142</td>\n",
       "    </tr>\n",
       "    <tr>\n",
       "      <th>3</th>\n",
       "      <td>1.399989</td>\n",
       "      <td>-0.860649</td>\n",
       "      <td>-0.200533</td>\n",
       "      <td>0.288498</td>\n",
       "      <td>0.640340</td>\n",
       "      <td>0.887133</td>\n",
       "      <td>-0.894312</td>\n",
       "      <td>-0.299229</td>\n",
       "      <td>-0.156837</td>\n",
       "      <td>0.146886</td>\n",
       "      <td>0.650304</td>\n",
       "      <td>-0.297402</td>\n",
       "      <td>-1.233543</td>\n",
       "    </tr>\n",
       "    <tr>\n",
       "      <th>4</th>\n",
       "      <td>-1.075114</td>\n",
       "      <td>0.297399</td>\n",
       "      <td>-0.100265</td>\n",
       "      <td>-1.473573</td>\n",
       "      <td>0.393707</td>\n",
       "      <td>-0.382366</td>\n",
       "      <td>-0.533905</td>\n",
       "      <td>-0.690062</td>\n",
       "      <td>1.169228</td>\n",
       "      <td>1.078850</td>\n",
       "      <td>0.078306</td>\n",
       "      <td>-0.174282</td>\n",
       "      <td>1.787827</td>\n",
       "    </tr>\n",
       "    <tr>\n",
       "      <th>5</th>\n",
       "      <td>-0.464088</td>\n",
       "      <td>1.020301</td>\n",
       "      <td>-1.008658</td>\n",
       "      <td>0.312424</td>\n",
       "      <td>-0.111778</td>\n",
       "      <td>0.293965</td>\n",
       "      <td>-0.740950</td>\n",
       "      <td>0.787824</td>\n",
       "      <td>1.835657</td>\n",
       "      <td>0.414670</td>\n",
       "      <td>0.732539</td>\n",
       "      <td>0.066212</td>\n",
       "      <td>0.472758</td>\n",
       "    </tr>\n",
       "    <tr>\n",
       "      <th>6</th>\n",
       "      <td>-0.064023</td>\n",
       "      <td>-0.190511</td>\n",
       "      <td>-0.849049</td>\n",
       "      <td>0.355444</td>\n",
       "      <td>-0.729716</td>\n",
       "      <td>-1.783505</td>\n",
       "      <td>2.900075</td>\n",
       "      <td>-0.372533</td>\n",
       "      <td>-1.389872</td>\n",
       "      <td>0.625940</td>\n",
       "      <td>-0.802604</td>\n",
       "      <td>-0.955865</td>\n",
       "      <td>-0.771838</td>\n",
       "    </tr>\n",
       "    <tr>\n",
       "      <th>7</th>\n",
       "      <td>0.012688</td>\n",
       "      <td>0.343849</td>\n",
       "      <td>-0.964317</td>\n",
       "      <td>0.553355</td>\n",
       "      <td>-0.506819</td>\n",
       "      <td>-0.295500</td>\n",
       "      <td>2.106004</td>\n",
       "      <td>-0.059718</td>\n",
       "      <td>-1.591884</td>\n",
       "      <td>0.882761</td>\n",
       "      <td>0.122222</td>\n",
       "      <td>-0.747542</td>\n",
       "      <td>-1.083883</td>\n",
       "    </tr>\n",
       "    <tr>\n",
       "      <th>8</th>\n",
       "      <td>-1.227298</td>\n",
       "      <td>0.313632</td>\n",
       "      <td>-1.645392</td>\n",
       "      <td>0.869792</td>\n",
       "      <td>0.168099</td>\n",
       "      <td>-1.883192</td>\n",
       "      <td>-1.046551</td>\n",
       "      <td>-0.104865</td>\n",
       "      <td>0.476406</td>\n",
       "      <td>-0.534788</td>\n",
       "      <td>1.111837</td>\n",
       "      <td>-0.581368</td>\n",
       "      <td>-0.698796</td>\n",
       "    </tr>\n",
       "    <tr>\n",
       "      <th>9</th>\n",
       "      <td>-1.085067</td>\n",
       "      <td>0.232426</td>\n",
       "      <td>-0.174256</td>\n",
       "      <td>0.246683</td>\n",
       "      <td>0.243790</td>\n",
       "      <td>-0.298261</td>\n",
       "      <td>0.081054</td>\n",
       "      <td>-0.856732</td>\n",
       "      <td>0.748576</td>\n",
       "      <td>-0.925936</td>\n",
       "      <td>0.272073</td>\n",
       "      <td>-0.383426</td>\n",
       "      <td>-0.443003</td>\n",
       "    </tr>\n",
       "    <tr>\n",
       "      <th>10</th>\n",
       "      <td>-0.792220</td>\n",
       "      <td>0.010528</td>\n",
       "      <td>-0.868797</td>\n",
       "      <td>-0.035379</td>\n",
       "      <td>-0.118571</td>\n",
       "      <td>-1.763128</td>\n",
       "      <td>-0.441280</td>\n",
       "      <td>1.391397</td>\n",
       "      <td>0.262044</td>\n",
       "      <td>-0.556452</td>\n",
       "      <td>-2.235600</td>\n",
       "      <td>-0.366324</td>\n",
       "      <td>-0.632423</td>\n",
       "    </tr>\n",
       "    <tr>\n",
       "      <th>11</th>\n",
       "      <td>1.456649</td>\n",
       "      <td>-0.441574</td>\n",
       "      <td>-0.196231</td>\n",
       "      <td>0.295068</td>\n",
       "      <td>-0.350257</td>\n",
       "      <td>1.249314</td>\n",
       "      <td>-1.329278</td>\n",
       "      <td>-0.452402</td>\n",
       "      <td>-0.270704</td>\n",
       "      <td>-0.568213</td>\n",
       "      <td>-0.012021</td>\n",
       "      <td>-0.366080</td>\n",
       "      <td>-1.752254</td>\n",
       "    </tr>\n",
       "    <tr>\n",
       "      <th>12</th>\n",
       "      <td>-0.003969</td>\n",
       "      <td>0.204082</td>\n",
       "      <td>-1.100441</td>\n",
       "      <td>0.751267</td>\n",
       "      <td>-0.591552</td>\n",
       "      <td>-0.011142</td>\n",
       "      <td>1.871139</td>\n",
       "      <td>-0.058117</td>\n",
       "      <td>-1.660737</td>\n",
       "      <td>0.404362</td>\n",
       "      <td>1.985911</td>\n",
       "      <td>-0.684721</td>\n",
       "      <td>3.145444</td>\n",
       "    </tr>\n",
       "    <tr>\n",
       "      <th>13</th>\n",
       "      <td>-0.667914</td>\n",
       "      <td>-0.049124</td>\n",
       "      <td>1.195805</td>\n",
       "      <td>-0.385210</td>\n",
       "      <td>0.113762</td>\n",
       "      <td>1.226335</td>\n",
       "      <td>0.204676</td>\n",
       "      <td>1.027052</td>\n",
       "      <td>-0.369326</td>\n",
       "      <td>0.421648</td>\n",
       "      <td>0.629998</td>\n",
       "      <td>0.109155</td>\n",
       "      <td>-0.062135</td>\n",
       "    </tr>\n",
       "    <tr>\n",
       "      <th>14</th>\n",
       "      <td>-0.611632</td>\n",
       "      <td>-0.026094</td>\n",
       "      <td>-0.833086</td>\n",
       "      <td>-0.007804</td>\n",
       "      <td>-0.001121</td>\n",
       "      <td>-0.831633</td>\n",
       "      <td>-0.981441</td>\n",
       "      <td>-0.244606</td>\n",
       "      <td>-0.479118</td>\n",
       "      <td>-0.196424</td>\n",
       "      <td>-0.448122</td>\n",
       "      <td>3.397710</td>\n",
       "      <td>-0.890279</td>\n",
       "    </tr>\n",
       "    <tr>\n",
       "      <th>15</th>\n",
       "      <td>1.318574</td>\n",
       "      <td>-1.423446</td>\n",
       "      <td>-0.110905</td>\n",
       "      <td>0.110172</td>\n",
       "      <td>-0.663890</td>\n",
       "      <td>0.169699</td>\n",
       "      <td>-0.802866</td>\n",
       "      <td>-0.787456</td>\n",
       "      <td>-0.065633</td>\n",
       "      <td>0.160802</td>\n",
       "      <td>-0.959080</td>\n",
       "      <td>-0.591370</td>\n",
       "      <td>-0.857424</td>\n",
       "    </tr>\n",
       "    <tr>\n",
       "      <th>16</th>\n",
       "      <td>1.321414</td>\n",
       "      <td>-1.432077</td>\n",
       "      <td>-0.210383</td>\n",
       "      <td>0.297793</td>\n",
       "      <td>1.053442</td>\n",
       "      <td>-1.165310</td>\n",
       "      <td>0.278495</td>\n",
       "      <td>-0.508353</td>\n",
       "      <td>0.141926</td>\n",
       "      <td>-0.367924</td>\n",
       "      <td>-1.736359</td>\n",
       "      <td>-0.568040</td>\n",
       "      <td>0.132206</td>\n",
       "    </tr>\n",
       "    <tr>\n",
       "      <th>17</th>\n",
       "      <td>1.325660</td>\n",
       "      <td>-1.374844</td>\n",
       "      <td>-0.156806</td>\n",
       "      <td>0.223452</td>\n",
       "      <td>-0.815515</td>\n",
       "      <td>-2.667639</td>\n",
       "      <td>0.613882</td>\n",
       "      <td>-1.102375</td>\n",
       "      <td>0.506744</td>\n",
       "      <td>-0.414700</td>\n",
       "      <td>0.268506</td>\n",
       "      <td>3.242619</td>\n",
       "      <td>-0.998241</td>\n",
       "    </tr>\n",
       "    <tr>\n",
       "      <th>18</th>\n",
       "      <td>1.323215</td>\n",
       "      <td>-1.431148</td>\n",
       "      <td>-0.272440</td>\n",
       "      <td>0.350088</td>\n",
       "      <td>1.068546</td>\n",
       "      <td>1.906962</td>\n",
       "      <td>-1.336275</td>\n",
       "      <td>-0.193620</td>\n",
       "      <td>-0.510655</td>\n",
       "      <td>-0.542348</td>\n",
       "      <td>-0.044067</td>\n",
       "      <td>-0.305194</td>\n",
       "      <td>0.107805</td>\n",
       "    </tr>\n",
       "    <tr>\n",
       "      <th>19</th>\n",
       "      <td>-1.203516</td>\n",
       "      <td>0.651797</td>\n",
       "      <td>-1.818449</td>\n",
       "      <td>0.959585</td>\n",
       "      <td>0.384216</td>\n",
       "      <td>2.911548</td>\n",
       "      <td>1.880810</td>\n",
       "      <td>-3.717316</td>\n",
       "      <td>0.797950</td>\n",
       "      <td>-0.006804</td>\n",
       "      <td>-0.973198</td>\n",
       "      <td>-0.968532</td>\n",
       "      <td>-1.112803</td>\n",
       "    </tr>\n",
       "    <tr>\n",
       "      <th>20</th>\n",
       "      <td>-0.677275</td>\n",
       "      <td>-0.047556</td>\n",
       "      <td>-1.026304</td>\n",
       "      <td>0.271074</td>\n",
       "      <td>-0.109217</td>\n",
       "      <td>-1.134841</td>\n",
       "      <td>-0.998485</td>\n",
       "      <td>0.793166</td>\n",
       "      <td>-0.748907</td>\n",
       "      <td>-0.678341</td>\n",
       "      <td>0.790949</td>\n",
       "      <td>-0.470241</td>\n",
       "      <td>-0.767370</td>\n",
       "    </tr>\n",
       "    <tr>\n",
       "      <th>21</th>\n",
       "      <td>-0.799585</td>\n",
       "      <td>0.018962</td>\n",
       "      <td>-1.293853</td>\n",
       "      <td>0.558405</td>\n",
       "      <td>-0.241689</td>\n",
       "      <td>-1.212741</td>\n",
       "      <td>1.183467</td>\n",
       "      <td>-0.039478</td>\n",
       "      <td>2.188340</td>\n",
       "      <td>-1.148991</td>\n",
       "      <td>-0.493527</td>\n",
       "      <td>-0.356964</td>\n",
       "      <td>0.679637</td>\n",
       "    </tr>\n",
       "    <tr>\n",
       "      <th>22</th>\n",
       "      <td>1.328384</td>\n",
       "      <td>-1.393894</td>\n",
       "      <td>-0.288669</td>\n",
       "      <td>0.401789</td>\n",
       "      <td>0.993341</td>\n",
       "      <td>0.273300</td>\n",
       "      <td>-0.526742</td>\n",
       "      <td>-0.359653</td>\n",
       "      <td>-0.131475</td>\n",
       "      <td>-0.382335</td>\n",
       "      <td>-0.675939</td>\n",
       "      <td>-0.441639</td>\n",
       "      <td>-0.186259</td>\n",
       "    </tr>\n",
       "    <tr>\n",
       "      <th>23</th>\n",
       "      <td>1.325118</td>\n",
       "      <td>-1.431261</td>\n",
       "      <td>-0.315365</td>\n",
       "      <td>0.434136</td>\n",
       "      <td>1.957395</td>\n",
       "      <td>1.270320</td>\n",
       "      <td>-0.803165</td>\n",
       "      <td>-0.027296</td>\n",
       "      <td>-0.327991</td>\n",
       "      <td>-0.266925</td>\n",
       "      <td>1.536492</td>\n",
       "      <td>-0.191625</td>\n",
       "      <td>0.018663</td>\n",
       "    </tr>\n",
       "    <tr>\n",
       "      <th>24</th>\n",
       "      <td>0.280873</td>\n",
       "      <td>2.278762</td>\n",
       "      <td>-1.002619</td>\n",
       "      <td>0.731142</td>\n",
       "      <td>-0.741128</td>\n",
       "      <td>0.318794</td>\n",
       "      <td>1.692908</td>\n",
       "      <td>0.245030</td>\n",
       "      <td>-1.596261</td>\n",
       "      <td>0.268813</td>\n",
       "      <td>1.308707</td>\n",
       "      <td>-0.459439</td>\n",
       "      <td>3.022529</td>\n",
       "    </tr>\n",
       "    <tr>\n",
       "      <th>25</th>\n",
       "      <td>-1.240566</td>\n",
       "      <td>0.370944</td>\n",
       "      <td>-0.575639</td>\n",
       "      <td>-0.817627</td>\n",
       "      <td>0.373338</td>\n",
       "      <td>-1.219183</td>\n",
       "      <td>-0.662494</td>\n",
       "      <td>-0.205443</td>\n",
       "      <td>-0.145631</td>\n",
       "      <td>-1.360457</td>\n",
       "      <td>-1.763744</td>\n",
       "      <td>-0.507292</td>\n",
       "      <td>0.381462</td>\n",
       "    </tr>\n",
       "    <tr>\n",
       "      <th>26</th>\n",
       "      <td>-0.359792</td>\n",
       "      <td>0.025616</td>\n",
       "      <td>2.693877</td>\n",
       "      <td>0.350864</td>\n",
       "      <td>-0.160547</td>\n",
       "      <td>0.166198</td>\n",
       "      <td>0.130315</td>\n",
       "      <td>0.637595</td>\n",
       "      <td>-1.050146</td>\n",
       "      <td>0.248797</td>\n",
       "      <td>-0.505660</td>\n",
       "      <td>-0.014769</td>\n",
       "      <td>-0.091626</td>\n",
       "    </tr>\n",
       "    <tr>\n",
       "      <th>27</th>\n",
       "      <td>-0.632390</td>\n",
       "      <td>-0.080064</td>\n",
       "      <td>-1.098646</td>\n",
       "      <td>0.380559</td>\n",
       "      <td>-0.176129</td>\n",
       "      <td>-0.774638</td>\n",
       "      <td>0.200700</td>\n",
       "      <td>0.147940</td>\n",
       "      <td>0.512927</td>\n",
       "      <td>0.389815</td>\n",
       "      <td>-0.060032</td>\n",
       "      <td>-0.459438</td>\n",
       "      <td>0.014438</td>\n",
       "    </tr>\n",
       "    <tr>\n",
       "      <th>28</th>\n",
       "      <td>-0.618527</td>\n",
       "      <td>0.333751</td>\n",
       "      <td>1.360383</td>\n",
       "      <td>-0.608767</td>\n",
       "      <td>-0.011430</td>\n",
       "      <td>0.497967</td>\n",
       "      <td>0.647627</td>\n",
       "      <td>0.954866</td>\n",
       "      <td>-0.233209</td>\n",
       "      <td>0.366669</td>\n",
       "      <td>0.585999</td>\n",
       "      <td>0.113634</td>\n",
       "      <td>0.092759</td>\n",
       "    </tr>\n",
       "    <tr>\n",
       "      <th>29</th>\n",
       "      <td>1.322387</td>\n",
       "      <td>-1.418198</td>\n",
       "      <td>-0.266319</td>\n",
       "      <td>0.362025</td>\n",
       "      <td>-0.645886</td>\n",
       "      <td>-0.341396</td>\n",
       "      <td>-0.626569</td>\n",
       "      <td>-0.803166</td>\n",
       "      <td>0.100717</td>\n",
       "      <td>0.124482</td>\n",
       "      <td>-0.032433</td>\n",
       "      <td>-0.596076</td>\n",
       "      <td>1.149530</td>\n",
       "    </tr>\n",
       "    <tr>\n",
       "      <th>...</th>\n",
       "      <td>...</td>\n",
       "      <td>...</td>\n",
       "      <td>...</td>\n",
       "      <td>...</td>\n",
       "      <td>...</td>\n",
       "      <td>...</td>\n",
       "      <td>...</td>\n",
       "      <td>...</td>\n",
       "      <td>...</td>\n",
       "      <td>...</td>\n",
       "      <td>...</td>\n",
       "      <td>...</td>\n",
       "      <td>...</td>\n",
       "    </tr>\n",
       "    <tr>\n",
       "      <th>324</th>\n",
       "      <td>-0.195343</td>\n",
       "      <td>-0.356201</td>\n",
       "      <td>-1.092382</td>\n",
       "      <td>0.657959</td>\n",
       "      <td>-0.414958</td>\n",
       "      <td>0.101286</td>\n",
       "      <td>-0.748450</td>\n",
       "      <td>1.523560</td>\n",
       "      <td>1.425730</td>\n",
       "      <td>-1.370590</td>\n",
       "      <td>0.495168</td>\n",
       "      <td>-0.031209</td>\n",
       "      <td>-0.738069</td>\n",
       "    </tr>\n",
       "    <tr>\n",
       "      <th>325</th>\n",
       "      <td>-0.775853</td>\n",
       "      <td>0.045653</td>\n",
       "      <td>-1.334919</td>\n",
       "      <td>0.626010</td>\n",
       "      <td>-0.111212</td>\n",
       "      <td>-0.443880</td>\n",
       "      <td>0.684426</td>\n",
       "      <td>-1.270989</td>\n",
       "      <td>-0.517040</td>\n",
       "      <td>1.019221</td>\n",
       "      <td>0.311245</td>\n",
       "      <td>3.131980</td>\n",
       "      <td>-1.071573</td>\n",
       "    </tr>\n",
       "    <tr>\n",
       "      <th>326</th>\n",
       "      <td>-1.099899</td>\n",
       "      <td>0.254427</td>\n",
       "      <td>0.582757</td>\n",
       "      <td>0.122869</td>\n",
       "      <td>0.411773</td>\n",
       "      <td>-0.354638</td>\n",
       "      <td>-1.072824</td>\n",
       "      <td>-1.444109</td>\n",
       "      <td>0.399964</td>\n",
       "      <td>-1.940490</td>\n",
       "      <td>-0.651739</td>\n",
       "      <td>-0.432736</td>\n",
       "      <td>0.327502</td>\n",
       "    </tr>\n",
       "    <tr>\n",
       "      <th>327</th>\n",
       "      <td>1.351465</td>\n",
       "      <td>-1.201433</td>\n",
       "      <td>-0.193827</td>\n",
       "      <td>0.264329</td>\n",
       "      <td>-0.224632</td>\n",
       "      <td>-0.211111</td>\n",
       "      <td>-0.544545</td>\n",
       "      <td>-0.673145</td>\n",
       "      <td>0.052908</td>\n",
       "      <td>0.186187</td>\n",
       "      <td>-0.227913</td>\n",
       "      <td>3.472010</td>\n",
       "      <td>1.486656</td>\n",
       "    </tr>\n",
       "    <tr>\n",
       "      <th>328</th>\n",
       "      <td>0.051374</td>\n",
       "      <td>-0.520987</td>\n",
       "      <td>-0.307092</td>\n",
       "      <td>-0.388051</td>\n",
       "      <td>-0.570587</td>\n",
       "      <td>-0.162792</td>\n",
       "      <td>0.073237</td>\n",
       "      <td>1.679621</td>\n",
       "      <td>-0.541206</td>\n",
       "      <td>-0.657061</td>\n",
       "      <td>0.211913</td>\n",
       "      <td>-0.171705</td>\n",
       "      <td>-0.376066</td>\n",
       "    </tr>\n",
       "    <tr>\n",
       "      <th>329</th>\n",
       "      <td>1.323650</td>\n",
       "      <td>-1.431414</td>\n",
       "      <td>-0.331713</td>\n",
       "      <td>0.426001</td>\n",
       "      <td>0.424744</td>\n",
       "      <td>2.679715</td>\n",
       "      <td>-1.932408</td>\n",
       "      <td>-0.267188</td>\n",
       "      <td>-0.679945</td>\n",
       "      <td>-0.855094</td>\n",
       "      <td>0.228179</td>\n",
       "      <td>-0.322386</td>\n",
       "      <td>-0.711127</td>\n",
       "    </tr>\n",
       "    <tr>\n",
       "      <th>330</th>\n",
       "      <td>1.556718</td>\n",
       "      <td>-1.574252</td>\n",
       "      <td>0.033311</td>\n",
       "      <td>0.025874</td>\n",
       "      <td>-1.884514</td>\n",
       "      <td>1.334137</td>\n",
       "      <td>3.593246</td>\n",
       "      <td>3.683527</td>\n",
       "      <td>0.629289</td>\n",
       "      <td>-0.057817</td>\n",
       "      <td>-0.262202</td>\n",
       "      <td>0.263197</td>\n",
       "      <td>-1.158176</td>\n",
       "    </tr>\n",
       "    <tr>\n",
       "      <th>331</th>\n",
       "      <td>-0.596179</td>\n",
       "      <td>0.120311</td>\n",
       "      <td>-0.587863</td>\n",
       "      <td>-0.390310</td>\n",
       "      <td>0.060083</td>\n",
       "      <td>-0.331378</td>\n",
       "      <td>-1.070462</td>\n",
       "      <td>-0.192445</td>\n",
       "      <td>-0.612813</td>\n",
       "      <td>-0.069560</td>\n",
       "      <td>0.991663</td>\n",
       "      <td>-0.437838</td>\n",
       "      <td>-0.616708</td>\n",
       "    </tr>\n",
       "    <tr>\n",
       "      <th>332</th>\n",
       "      <td>1.449038</td>\n",
       "      <td>-0.458311</td>\n",
       "      <td>0.010628</td>\n",
       "      <td>-0.009254</td>\n",
       "      <td>-1.036209</td>\n",
       "      <td>-0.648098</td>\n",
       "      <td>-0.391173</td>\n",
       "      <td>-0.828233</td>\n",
       "      <td>0.163905</td>\n",
       "      <td>-0.221260</td>\n",
       "      <td>2.849367</td>\n",
       "      <td>-0.388213</td>\n",
       "      <td>0.480329</td>\n",
       "    </tr>\n",
       "    <tr>\n",
       "      <th>333</th>\n",
       "      <td>0.095309</td>\n",
       "      <td>-0.527967</td>\n",
       "      <td>-1.009913</td>\n",
       "      <td>0.644542</td>\n",
       "      <td>-0.642163</td>\n",
       "      <td>1.690163</td>\n",
       "      <td>1.644099</td>\n",
       "      <td>0.333719</td>\n",
       "      <td>1.540373</td>\n",
       "      <td>-0.802571</td>\n",
       "      <td>-0.760412</td>\n",
       "      <td>-0.213487</td>\n",
       "      <td>-0.042358</td>\n",
       "    </tr>\n",
       "    <tr>\n",
       "      <th>334</th>\n",
       "      <td>-0.588347</td>\n",
       "      <td>-0.067279</td>\n",
       "      <td>-0.990607</td>\n",
       "      <td>1.253409</td>\n",
       "      <td>-0.028585</td>\n",
       "      <td>0.933941</td>\n",
       "      <td>-1.218319</td>\n",
       "      <td>0.459495</td>\n",
       "      <td>-1.152603</td>\n",
       "      <td>2.901026</td>\n",
       "      <td>-1.006809</td>\n",
       "      <td>-0.563803</td>\n",
       "      <td>-0.274373</td>\n",
       "    </tr>\n",
       "    <tr>\n",
       "      <th>335</th>\n",
       "      <td>1.317416</td>\n",
       "      <td>-1.379177</td>\n",
       "      <td>0.254231</td>\n",
       "      <td>-0.452853</td>\n",
       "      <td>-0.564758</td>\n",
       "      <td>-0.187579</td>\n",
       "      <td>-0.379118</td>\n",
       "      <td>-0.835719</td>\n",
       "      <td>0.013319</td>\n",
       "      <td>1.031692</td>\n",
       "      <td>-0.062155</td>\n",
       "      <td>-0.493697</td>\n",
       "      <td>-0.891006</td>\n",
       "    </tr>\n",
       "    <tr>\n",
       "      <th>336</th>\n",
       "      <td>-0.347509</td>\n",
       "      <td>1.874051</td>\n",
       "      <td>-0.908433</td>\n",
       "      <td>0.185184</td>\n",
       "      <td>0.089913</td>\n",
       "      <td>2.184925</td>\n",
       "      <td>-1.609414</td>\n",
       "      <td>1.114915</td>\n",
       "      <td>1.347797</td>\n",
       "      <td>-0.345490</td>\n",
       "      <td>-1.362343</td>\n",
       "      <td>0.211550</td>\n",
       "      <td>0.370708</td>\n",
       "    </tr>\n",
       "    <tr>\n",
       "      <th>337</th>\n",
       "      <td>-0.172961</td>\n",
       "      <td>-0.412736</td>\n",
       "      <td>-0.486136</td>\n",
       "      <td>-0.290258</td>\n",
       "      <td>-0.175810</td>\n",
       "      <td>1.438185</td>\n",
       "      <td>-0.864292</td>\n",
       "      <td>1.250985</td>\n",
       "      <td>-0.040996</td>\n",
       "      <td>-1.003110</td>\n",
       "      <td>0.524770</td>\n",
       "      <td>-0.038242</td>\n",
       "      <td>0.418767</td>\n",
       "    </tr>\n",
       "    <tr>\n",
       "      <th>338</th>\n",
       "      <td>-0.607100</td>\n",
       "      <td>-0.078387</td>\n",
       "      <td>-1.440006</td>\n",
       "      <td>0.912417</td>\n",
       "      <td>0.054434</td>\n",
       "      <td>0.682972</td>\n",
       "      <td>-1.155443</td>\n",
       "      <td>0.768441</td>\n",
       "      <td>1.773169</td>\n",
       "      <td>0.377827</td>\n",
       "      <td>-0.043408</td>\n",
       "      <td>-0.112656</td>\n",
       "      <td>0.240965</td>\n",
       "    </tr>\n",
       "    <tr>\n",
       "      <th>339</th>\n",
       "      <td>-0.772602</td>\n",
       "      <td>0.097374</td>\n",
       "      <td>-0.845707</td>\n",
       "      <td>-0.143895</td>\n",
       "      <td>0.178407</td>\n",
       "      <td>1.123202</td>\n",
       "      <td>-0.387485</td>\n",
       "      <td>-0.233161</td>\n",
       "      <td>0.194858</td>\n",
       "      <td>0.575893</td>\n",
       "      <td>0.052814</td>\n",
       "      <td>-0.333607</td>\n",
       "      <td>-0.728721</td>\n",
       "    </tr>\n",
       "    <tr>\n",
       "      <th>340</th>\n",
       "      <td>-0.631591</td>\n",
       "      <td>-0.087709</td>\n",
       "      <td>-1.186850</td>\n",
       "      <td>0.511623</td>\n",
       "      <td>-0.154189</td>\n",
       "      <td>-0.411707</td>\n",
       "      <td>-0.019892</td>\n",
       "      <td>0.189453</td>\n",
       "      <td>0.393080</td>\n",
       "      <td>-0.243192</td>\n",
       "      <td>0.837123</td>\n",
       "      <td>-0.421171</td>\n",
       "      <td>-0.388918</td>\n",
       "    </tr>\n",
       "    <tr>\n",
       "      <th>341</th>\n",
       "      <td>1.382863</td>\n",
       "      <td>-0.923708</td>\n",
       "      <td>0.096713</td>\n",
       "      <td>-0.161353</td>\n",
       "      <td>-0.983133</td>\n",
       "      <td>-1.703524</td>\n",
       "      <td>0.243147</td>\n",
       "      <td>-1.001666</td>\n",
       "      <td>0.364831</td>\n",
       "      <td>-0.201843</td>\n",
       "      <td>6.489701</td>\n",
       "      <td>-0.333110</td>\n",
       "      <td>0.257059</td>\n",
       "    </tr>\n",
       "    <tr>\n",
       "      <th>342</th>\n",
       "      <td>-0.309676</td>\n",
       "      <td>-0.219397</td>\n",
       "      <td>1.916096</td>\n",
       "      <td>0.378806</td>\n",
       "      <td>-0.277653</td>\n",
       "      <td>-0.259122</td>\n",
       "      <td>0.189717</td>\n",
       "      <td>0.798953</td>\n",
       "      <td>0.370446</td>\n",
       "      <td>-0.441688</td>\n",
       "      <td>-0.232847</td>\n",
       "      <td>0.066695</td>\n",
       "      <td>1.078609</td>\n",
       "    </tr>\n",
       "    <tr>\n",
       "      <th>343</th>\n",
       "      <td>1.931252</td>\n",
       "      <td>3.082154</td>\n",
       "      <td>0.358192</td>\n",
       "      <td>-0.321638</td>\n",
       "      <td>-1.439912</td>\n",
       "      <td>-0.372207</td>\n",
       "      <td>-0.496369</td>\n",
       "      <td>-0.385441</td>\n",
       "      <td>0.387665</td>\n",
       "      <td>0.504255</td>\n",
       "      <td>0.583019</td>\n",
       "      <td>-0.043796</td>\n",
       "      <td>-0.245006</td>\n",
       "    </tr>\n",
       "    <tr>\n",
       "      <th>344</th>\n",
       "      <td>-0.734190</td>\n",
       "      <td>-0.043690</td>\n",
       "      <td>1.504981</td>\n",
       "      <td>0.510833</td>\n",
       "      <td>0.107199</td>\n",
       "      <td>0.238232</td>\n",
       "      <td>-0.040341</td>\n",
       "      <td>-0.886041</td>\n",
       "      <td>-0.061910</td>\n",
       "      <td>0.818874</td>\n",
       "      <td>0.824199</td>\n",
       "      <td>-0.250108</td>\n",
       "      <td>-0.583077</td>\n",
       "    </tr>\n",
       "    <tr>\n",
       "      <th>345</th>\n",
       "      <td>-0.766637</td>\n",
       "      <td>0.002204</td>\n",
       "      <td>0.535702</td>\n",
       "      <td>-0.232262</td>\n",
       "      <td>0.211866</td>\n",
       "      <td>0.073078</td>\n",
       "      <td>-0.914858</td>\n",
       "      <td>-0.955942</td>\n",
       "      <td>1.257450</td>\n",
       "      <td>1.936322</td>\n",
       "      <td>-0.973220</td>\n",
       "      <td>-0.228630</td>\n",
       "      <td>0.855878</td>\n",
       "    </tr>\n",
       "    <tr>\n",
       "      <th>346</th>\n",
       "      <td>-0.012700</td>\n",
       "      <td>0.185475</td>\n",
       "      <td>-0.794092</td>\n",
       "      <td>0.266356</td>\n",
       "      <td>-0.589147</td>\n",
       "      <td>0.061404</td>\n",
       "      <td>2.034578</td>\n",
       "      <td>-0.119841</td>\n",
       "      <td>-1.810909</td>\n",
       "      <td>0.151486</td>\n",
       "      <td>2.737014</td>\n",
       "      <td>3.377512</td>\n",
       "      <td>2.988679</td>\n",
       "    </tr>\n",
       "    <tr>\n",
       "      <th>347</th>\n",
       "      <td>-0.668382</td>\n",
       "      <td>0.141804</td>\n",
       "      <td>1.352181</td>\n",
       "      <td>-1.028569</td>\n",
       "      <td>0.142859</td>\n",
       "      <td>0.099356</td>\n",
       "      <td>-0.097518</td>\n",
       "      <td>-0.282042</td>\n",
       "      <td>-0.777683</td>\n",
       "      <td>0.092589</td>\n",
       "      <td>0.156208</td>\n",
       "      <td>-0.195099</td>\n",
       "      <td>-0.223781</td>\n",
       "    </tr>\n",
       "    <tr>\n",
       "      <th>348</th>\n",
       "      <td>-0.680836</td>\n",
       "      <td>-0.018003</td>\n",
       "      <td>-0.637430</td>\n",
       "      <td>-0.345062</td>\n",
       "      <td>-0.010867</td>\n",
       "      <td>-0.697642</td>\n",
       "      <td>-0.946246</td>\n",
       "      <td>0.785444</td>\n",
       "      <td>-1.000474</td>\n",
       "      <td>-1.008771</td>\n",
       "      <td>1.634411</td>\n",
       "      <td>-0.345602</td>\n",
       "      <td>-0.627526</td>\n",
       "    </tr>\n",
       "    <tr>\n",
       "      <th>349</th>\n",
       "      <td>-0.828914</td>\n",
       "      <td>0.044649</td>\n",
       "      <td>-0.568740</td>\n",
       "      <td>-0.540337</td>\n",
       "      <td>0.000656</td>\n",
       "      <td>-1.181158</td>\n",
       "      <td>-0.389654</td>\n",
       "      <td>1.213527</td>\n",
       "      <td>-0.083442</td>\n",
       "      <td>-0.858662</td>\n",
       "      <td>-0.599151</td>\n",
       "      <td>-0.256668</td>\n",
       "      <td>0.036248</td>\n",
       "    </tr>\n",
       "    <tr>\n",
       "      <th>350</th>\n",
       "      <td>-0.493812</td>\n",
       "      <td>0.059420</td>\n",
       "      <td>2.597843</td>\n",
       "      <td>1.201982</td>\n",
       "      <td>-0.095707</td>\n",
       "      <td>0.321072</td>\n",
       "      <td>-0.077347</td>\n",
       "      <td>0.374566</td>\n",
       "      <td>3.648015</td>\n",
       "      <td>1.381284</td>\n",
       "      <td>0.891703</td>\n",
       "      <td>0.612784</td>\n",
       "      <td>1.972694</td>\n",
       "    </tr>\n",
       "    <tr>\n",
       "      <th>351</th>\n",
       "      <td>-1.230756</td>\n",
       "      <td>0.331635</td>\n",
       "      <td>-1.339706</td>\n",
       "      <td>0.382407</td>\n",
       "      <td>0.271858</td>\n",
       "      <td>-1.315336</td>\n",
       "      <td>-1.122318</td>\n",
       "      <td>-0.096417</td>\n",
       "      <td>0.158345</td>\n",
       "      <td>-1.061581</td>\n",
       "      <td>-1.650090</td>\n",
       "      <td>-0.622122</td>\n",
       "      <td>-0.266658</td>\n",
       "    </tr>\n",
       "    <tr>\n",
       "      <th>352</th>\n",
       "      <td>-1.041303</td>\n",
       "      <td>0.175032</td>\n",
       "      <td>0.025447</td>\n",
       "      <td>-1.655413</td>\n",
       "      <td>0.434274</td>\n",
       "      <td>0.462334</td>\n",
       "      <td>-0.124125</td>\n",
       "      <td>-0.223449</td>\n",
       "      <td>-0.383163</td>\n",
       "      <td>0.198970</td>\n",
       "      <td>0.966290</td>\n",
       "      <td>-0.204484</td>\n",
       "      <td>-0.337764</td>\n",
       "    </tr>\n",
       "    <tr>\n",
       "      <th>353</th>\n",
       "      <td>-0.549003</td>\n",
       "      <td>-0.174844</td>\n",
       "      <td>2.203865</td>\n",
       "      <td>1.821876</td>\n",
       "      <td>-0.217881</td>\n",
       "      <td>-0.280371</td>\n",
       "      <td>0.333878</td>\n",
       "      <td>0.953809</td>\n",
       "      <td>-1.622830</td>\n",
       "      <td>0.367593</td>\n",
       "      <td>-0.385062</td>\n",
       "      <td>-0.242167</td>\n",
       "      <td>-0.661591</td>\n",
       "    </tr>\n",
       "  </tbody>\n",
       "</table>\n",
       "<p>354 rows × 13 columns</p>\n",
       "</div>"
      ],
      "text/plain": [
       "         CRIM        ZN     INDUS      CHAS       NOX        RM       AGE  \\\n",
       "0    1.806020  2.184061  0.460051 -0.552365 -0.726048  0.534848 -0.686070   \n",
       "1   -0.844209  0.205739 -0.230520  0.534136  0.098775 -0.906631 -0.566333   \n",
       "2   -1.085169  0.245447 -0.606820 -0.654038  0.239714 -1.209934 -0.837649   \n",
       "3    1.399989 -0.860649 -0.200533  0.288498  0.640340  0.887133 -0.894312   \n",
       "4   -1.075114  0.297399 -0.100265 -1.473573  0.393707 -0.382366 -0.533905   \n",
       "5   -0.464088  1.020301 -1.008658  0.312424 -0.111778  0.293965 -0.740950   \n",
       "6   -0.064023 -0.190511 -0.849049  0.355444 -0.729716 -1.783505  2.900075   \n",
       "7    0.012688  0.343849 -0.964317  0.553355 -0.506819 -0.295500  2.106004   \n",
       "8   -1.227298  0.313632 -1.645392  0.869792  0.168099 -1.883192 -1.046551   \n",
       "9   -1.085067  0.232426 -0.174256  0.246683  0.243790 -0.298261  0.081054   \n",
       "10  -0.792220  0.010528 -0.868797 -0.035379 -0.118571 -1.763128 -0.441280   \n",
       "11   1.456649 -0.441574 -0.196231  0.295068 -0.350257  1.249314 -1.329278   \n",
       "12  -0.003969  0.204082 -1.100441  0.751267 -0.591552 -0.011142  1.871139   \n",
       "13  -0.667914 -0.049124  1.195805 -0.385210  0.113762  1.226335  0.204676   \n",
       "14  -0.611632 -0.026094 -0.833086 -0.007804 -0.001121 -0.831633 -0.981441   \n",
       "15   1.318574 -1.423446 -0.110905  0.110172 -0.663890  0.169699 -0.802866   \n",
       "16   1.321414 -1.432077 -0.210383  0.297793  1.053442 -1.165310  0.278495   \n",
       "17   1.325660 -1.374844 -0.156806  0.223452 -0.815515 -2.667639  0.613882   \n",
       "18   1.323215 -1.431148 -0.272440  0.350088  1.068546  1.906962 -1.336275   \n",
       "19  -1.203516  0.651797 -1.818449  0.959585  0.384216  2.911548  1.880810   \n",
       "20  -0.677275 -0.047556 -1.026304  0.271074 -0.109217 -1.134841 -0.998485   \n",
       "21  -0.799585  0.018962 -1.293853  0.558405 -0.241689 -1.212741  1.183467   \n",
       "22   1.328384 -1.393894 -0.288669  0.401789  0.993341  0.273300 -0.526742   \n",
       "23   1.325118 -1.431261 -0.315365  0.434136  1.957395  1.270320 -0.803165   \n",
       "24   0.280873  2.278762 -1.002619  0.731142 -0.741128  0.318794  1.692908   \n",
       "25  -1.240566  0.370944 -0.575639 -0.817627  0.373338 -1.219183 -0.662494   \n",
       "26  -0.359792  0.025616  2.693877  0.350864 -0.160547  0.166198  0.130315   \n",
       "27  -0.632390 -0.080064 -1.098646  0.380559 -0.176129 -0.774638  0.200700   \n",
       "28  -0.618527  0.333751  1.360383 -0.608767 -0.011430  0.497967  0.647627   \n",
       "29   1.322387 -1.418198 -0.266319  0.362025 -0.645886 -0.341396 -0.626569   \n",
       "..        ...       ...       ...       ...       ...       ...       ...   \n",
       "324 -0.195343 -0.356201 -1.092382  0.657959 -0.414958  0.101286 -0.748450   \n",
       "325 -0.775853  0.045653 -1.334919  0.626010 -0.111212 -0.443880  0.684426   \n",
       "326 -1.099899  0.254427  0.582757  0.122869  0.411773 -0.354638 -1.072824   \n",
       "327  1.351465 -1.201433 -0.193827  0.264329 -0.224632 -0.211111 -0.544545   \n",
       "328  0.051374 -0.520987 -0.307092 -0.388051 -0.570587 -0.162792  0.073237   \n",
       "329  1.323650 -1.431414 -0.331713  0.426001  0.424744  2.679715 -1.932408   \n",
       "330  1.556718 -1.574252  0.033311  0.025874 -1.884514  1.334137  3.593246   \n",
       "331 -0.596179  0.120311 -0.587863 -0.390310  0.060083 -0.331378 -1.070462   \n",
       "332  1.449038 -0.458311  0.010628 -0.009254 -1.036209 -0.648098 -0.391173   \n",
       "333  0.095309 -0.527967 -1.009913  0.644542 -0.642163  1.690163  1.644099   \n",
       "334 -0.588347 -0.067279 -0.990607  1.253409 -0.028585  0.933941 -1.218319   \n",
       "335  1.317416 -1.379177  0.254231 -0.452853 -0.564758 -0.187579 -0.379118   \n",
       "336 -0.347509  1.874051 -0.908433  0.185184  0.089913  2.184925 -1.609414   \n",
       "337 -0.172961 -0.412736 -0.486136 -0.290258 -0.175810  1.438185 -0.864292   \n",
       "338 -0.607100 -0.078387 -1.440006  0.912417  0.054434  0.682972 -1.155443   \n",
       "339 -0.772602  0.097374 -0.845707 -0.143895  0.178407  1.123202 -0.387485   \n",
       "340 -0.631591 -0.087709 -1.186850  0.511623 -0.154189 -0.411707 -0.019892   \n",
       "341  1.382863 -0.923708  0.096713 -0.161353 -0.983133 -1.703524  0.243147   \n",
       "342 -0.309676 -0.219397  1.916096  0.378806 -0.277653 -0.259122  0.189717   \n",
       "343  1.931252  3.082154  0.358192 -0.321638 -1.439912 -0.372207 -0.496369   \n",
       "344 -0.734190 -0.043690  1.504981  0.510833  0.107199  0.238232 -0.040341   \n",
       "345 -0.766637  0.002204  0.535702 -0.232262  0.211866  0.073078 -0.914858   \n",
       "346 -0.012700  0.185475 -0.794092  0.266356 -0.589147  0.061404  2.034578   \n",
       "347 -0.668382  0.141804  1.352181 -1.028569  0.142859  0.099356 -0.097518   \n",
       "348 -0.680836 -0.018003 -0.637430 -0.345062 -0.010867 -0.697642 -0.946246   \n",
       "349 -0.828914  0.044649 -0.568740 -0.540337  0.000656 -1.181158 -0.389654   \n",
       "350 -0.493812  0.059420  2.597843  1.201982 -0.095707  0.321072 -0.077347   \n",
       "351 -1.230756  0.331635 -1.339706  0.382407  0.271858 -1.315336 -1.122318   \n",
       "352 -1.041303  0.175032  0.025447 -1.655413  0.434274  0.462334 -0.124125   \n",
       "353 -0.549003 -0.174844  2.203865  1.821876 -0.217881 -0.280371  0.333878   \n",
       "\n",
       "          DIS       RAD       TAX   PTRATIO         B     LSTAT  \n",
       "0   -0.317540 -0.086086 -0.574408 -0.522640 -0.074686  0.146102  \n",
       "1   -0.129932 -2.600085 -1.332355 -2.311479 -0.886210  0.406703  \n",
       "2    0.403152  0.698229  1.234181  0.446213 -0.217752  0.420142  \n",
       "3   -0.299229 -0.156837  0.146886  0.650304 -0.297402 -1.233543  \n",
       "4   -0.690062  1.169228  1.078850  0.078306 -0.174282  1.787827  \n",
       "5    0.787824  1.835657  0.414670  0.732539  0.066212  0.472758  \n",
       "6   -0.372533 -1.389872  0.625940 -0.802604 -0.955865 -0.771838  \n",
       "7   -0.059718 -1.591884  0.882761  0.122222 -0.747542 -1.083883  \n",
       "8   -0.104865  0.476406 -0.534788  1.111837 -0.581368 -0.698796  \n",
       "9   -0.856732  0.748576 -0.925936  0.272073 -0.383426 -0.443003  \n",
       "10   1.391397  0.262044 -0.556452 -2.235600 -0.366324 -0.632423  \n",
       "11  -0.452402 -0.270704 -0.568213 -0.012021 -0.366080 -1.752254  \n",
       "12  -0.058117 -1.660737  0.404362  1.985911 -0.684721  3.145444  \n",
       "13   1.027052 -0.369326  0.421648  0.629998  0.109155 -0.062135  \n",
       "14  -0.244606 -0.479118 -0.196424 -0.448122  3.397710 -0.890279  \n",
       "15  -0.787456 -0.065633  0.160802 -0.959080 -0.591370 -0.857424  \n",
       "16  -0.508353  0.141926 -0.367924 -1.736359 -0.568040  0.132206  \n",
       "17  -1.102375  0.506744 -0.414700  0.268506  3.242619 -0.998241  \n",
       "18  -0.193620 -0.510655 -0.542348 -0.044067 -0.305194  0.107805  \n",
       "19  -3.717316  0.797950 -0.006804 -0.973198 -0.968532 -1.112803  \n",
       "20   0.793166 -0.748907 -0.678341  0.790949 -0.470241 -0.767370  \n",
       "21  -0.039478  2.188340 -1.148991 -0.493527 -0.356964  0.679637  \n",
       "22  -0.359653 -0.131475 -0.382335 -0.675939 -0.441639 -0.186259  \n",
       "23  -0.027296 -0.327991 -0.266925  1.536492 -0.191625  0.018663  \n",
       "24   0.245030 -1.596261  0.268813  1.308707 -0.459439  3.022529  \n",
       "25  -0.205443 -0.145631 -1.360457 -1.763744 -0.507292  0.381462  \n",
       "26   0.637595 -1.050146  0.248797 -0.505660 -0.014769 -0.091626  \n",
       "27   0.147940  0.512927  0.389815 -0.060032 -0.459438  0.014438  \n",
       "28   0.954866 -0.233209  0.366669  0.585999  0.113634  0.092759  \n",
       "29  -0.803166  0.100717  0.124482 -0.032433 -0.596076  1.149530  \n",
       "..        ...       ...       ...       ...       ...       ...  \n",
       "324  1.523560  1.425730 -1.370590  0.495168 -0.031209 -0.738069  \n",
       "325 -1.270989 -0.517040  1.019221  0.311245  3.131980 -1.071573  \n",
       "326 -1.444109  0.399964 -1.940490 -0.651739 -0.432736  0.327502  \n",
       "327 -0.673145  0.052908  0.186187 -0.227913  3.472010  1.486656  \n",
       "328  1.679621 -0.541206 -0.657061  0.211913 -0.171705 -0.376066  \n",
       "329 -0.267188 -0.679945 -0.855094  0.228179 -0.322386 -0.711127  \n",
       "330  3.683527  0.629289 -0.057817 -0.262202  0.263197 -1.158176  \n",
       "331 -0.192445 -0.612813 -0.069560  0.991663 -0.437838 -0.616708  \n",
       "332 -0.828233  0.163905 -0.221260  2.849367 -0.388213  0.480329  \n",
       "333  0.333719  1.540373 -0.802571 -0.760412 -0.213487 -0.042358  \n",
       "334  0.459495 -1.152603  2.901026 -1.006809 -0.563803 -0.274373  \n",
       "335 -0.835719  0.013319  1.031692 -0.062155 -0.493697 -0.891006  \n",
       "336  1.114915  1.347797 -0.345490 -1.362343  0.211550  0.370708  \n",
       "337  1.250985 -0.040996 -1.003110  0.524770 -0.038242  0.418767  \n",
       "338  0.768441  1.773169  0.377827 -0.043408 -0.112656  0.240965  \n",
       "339 -0.233161  0.194858  0.575893  0.052814 -0.333607 -0.728721  \n",
       "340  0.189453  0.393080 -0.243192  0.837123 -0.421171 -0.388918  \n",
       "341 -1.001666  0.364831 -0.201843  6.489701 -0.333110  0.257059  \n",
       "342  0.798953  0.370446 -0.441688 -0.232847  0.066695  1.078609  \n",
       "343 -0.385441  0.387665  0.504255  0.583019 -0.043796 -0.245006  \n",
       "344 -0.886041 -0.061910  0.818874  0.824199 -0.250108 -0.583077  \n",
       "345 -0.955942  1.257450  1.936322 -0.973220 -0.228630  0.855878  \n",
       "346 -0.119841 -1.810909  0.151486  2.737014  3.377512  2.988679  \n",
       "347 -0.282042 -0.777683  0.092589  0.156208 -0.195099 -0.223781  \n",
       "348  0.785444 -1.000474 -1.008771  1.634411 -0.345602 -0.627526  \n",
       "349  1.213527 -0.083442 -0.858662 -0.599151 -0.256668  0.036248  \n",
       "350  0.374566  3.648015  1.381284  0.891703  0.612784  1.972694  \n",
       "351 -0.096417  0.158345 -1.061581 -1.650090 -0.622122 -0.266658  \n",
       "352 -0.223449 -0.383163  0.198970  0.966290 -0.204484 -0.337764  \n",
       "353  0.953809 -1.622830  0.367593 -0.385062 -0.242167 -0.661591  \n",
       "\n",
       "[354 rows x 13 columns]"
      ]
     },
     "execution_count": 65,
     "metadata": {},
     "output_type": "execute_result"
    }
   ],
   "source": [
    "pca = dec.PCA(n_components=13, whiten=True)\n",
    "pca.fit(x_train)\n",
    "x_train_white = pd.DataFrame(pca.transform(x_train), columns=x.columns)\n",
    "x_train_white"
   ]
  },
  {
   "cell_type": "code",
   "execution_count": 68,
   "metadata": {
    "collapsed": true
   },
   "outputs": [],
   "source": [
    "m = kr.models.Sequential()\n",
    "\n",
    "m.add(kr.layers.Dense(20, input_dim=13, activation=\"relu\"))\n",
    "m.add(kr.layers.Dense(1, activation=\"linear\"))\n",
    "#m.add(kr.layers.Dense(1, activation=\"linear\"))\n",
    "\n",
    "m.compile(loss=\"mean_squared_logarithmic_error\", optimizer=\"adam\")"
   ]
  },
  {
   "cell_type": "code",
   "execution_count": 81,
   "metadata": {},
   "outputs": [
    {
     "name": "stdout",
     "output_type": "stream",
     "text": [
      "Epoch 1/100\n",
      "354/354 [==============================] - 0s 282us/step - loss: 0.4555\n",
      "Epoch 2/100\n",
      "354/354 [==============================] - 0s 198us/step - loss: 0.3168\n",
      "Epoch 3/100\n",
      "354/354 [==============================] - 0s 226us/step - loss: 0.2355\n",
      "Epoch 4/100\n",
      "354/354 [==============================] - 0s 169us/step - loss: 0.1840\n",
      "Epoch 5/100\n",
      "354/354 [==============================] - 0s 198us/step - loss: 0.1508\n",
      "Epoch 6/100\n",
      "354/354 [==============================] - 0s 198us/step - loss: 0.1280\n",
      "Epoch 7/100\n",
      "354/354 [==============================] - 0s 198us/step - loss: 0.1112\n",
      "Epoch 8/100\n",
      "354/354 [==============================] - 0s 254us/step - loss: 0.0988\n",
      "Epoch 9/100\n",
      "354/354 [==============================] - 0s 198us/step - loss: 0.0885\n",
      "Epoch 10/100\n",
      "354/354 [==============================] - 0s 198us/step - loss: 0.0806\n",
      "Epoch 11/100\n",
      "354/354 [==============================] - 0s 198us/step - loss: 0.0742\n",
      "Epoch 12/100\n",
      "354/354 [==============================] - 0s 198us/step - loss: 0.0690\n",
      "Epoch 13/100\n",
      "354/354 [==============================] - 0s 198us/step - loss: 0.0645\n",
      "Epoch 14/100\n",
      "354/354 [==============================] - 0s 226us/step - loss: 0.0608\n",
      "Epoch 15/100\n",
      "354/354 [==============================] - 0s 198us/step - loss: 0.0575\n",
      "Epoch 16/100\n",
      "354/354 [==============================] - 0s 169us/step - loss: 0.0548\n",
      "Epoch 17/100\n",
      "354/354 [==============================] - 0s 198us/step - loss: 0.0523\n",
      "Epoch 18/100\n",
      "354/354 [==============================] - 0s 198us/step - loss: 0.0503\n",
      "Epoch 19/100\n",
      "354/354 [==============================] - 0s 198us/step - loss: 0.0483\n",
      "Epoch 20/100\n",
      "354/354 [==============================] - 0s 198us/step - loss: 0.0466\n",
      "Epoch 21/100\n",
      "354/354 [==============================] - 0s 198us/step - loss: 0.0452\n",
      "Epoch 22/100\n",
      "354/354 [==============================] - 0s 198us/step - loss: 0.0439\n",
      "Epoch 23/100\n",
      "354/354 [==============================] - 0s 198us/step - loss: 0.0427\n",
      "Epoch 24/100\n",
      "354/354 [==============================] - 0s 198us/step - loss: 0.0417\n",
      "Epoch 25/100\n",
      "354/354 [==============================] - 0s 226us/step - loss: 0.0408\n",
      "Epoch 26/100\n",
      "354/354 [==============================] - 0s 198us/step - loss: 0.0400\n",
      "Epoch 27/100\n",
      "354/354 [==============================] - 0s 226us/step - loss: 0.0392\n",
      "Epoch 28/100\n",
      "354/354 [==============================] - 0s 254us/step - loss: 0.0386\n",
      "Epoch 29/100\n",
      "354/354 [==============================] - 0s 226us/step - loss: 0.0380\n",
      "Epoch 30/100\n",
      "354/354 [==============================] - 0s 198us/step - loss: 0.0373\n",
      "Epoch 31/100\n",
      "354/354 [==============================] - 0s 198us/step - loss: 0.0367\n",
      "Epoch 32/100\n",
      "354/354 [==============================] - 0s 226us/step - loss: 0.0362\n",
      "Epoch 33/100\n",
      "354/354 [==============================] - 0s 226us/step - loss: 0.0357\n",
      "Epoch 34/100\n",
      "354/354 [==============================] - 0s 226us/step - loss: 0.0353\n",
      "Epoch 35/100\n",
      "354/354 [==============================] - 0s 169us/step - loss: 0.0348\n",
      "Epoch 36/100\n",
      "354/354 [==============================] - 0s 226us/step - loss: 0.0344\n",
      "Epoch 37/100\n",
      "354/354 [==============================] - 0s 169us/step - loss: 0.0340\n",
      "Epoch 38/100\n",
      "354/354 [==============================] - 0s 198us/step - loss: 0.0336\n",
      "Epoch 39/100\n",
      "354/354 [==============================] - 0s 198us/step - loss: 0.0332\n",
      "Epoch 40/100\n",
      "354/354 [==============================] - 0s 254us/step - loss: 0.0329\n",
      "Epoch 41/100\n",
      "354/354 [==============================] - 0s 198us/step - loss: 0.0325\n",
      "Epoch 42/100\n",
      "354/354 [==============================] - 0s 169us/step - loss: 0.0322\n",
      "Epoch 43/100\n",
      "354/354 [==============================] - 0s 198us/step - loss: 0.0319\n",
      "Epoch 44/100\n",
      "354/354 [==============================] - 0s 169us/step - loss: 0.0316\n",
      "Epoch 45/100\n",
      "354/354 [==============================] - 0s 226us/step - loss: 0.0313\n",
      "Epoch 46/100\n",
      "354/354 [==============================] - 0s 226us/step - loss: 0.0311\n",
      "Epoch 47/100\n",
      "354/354 [==============================] - 0s 198us/step - loss: 0.0308\n",
      "Epoch 48/100\n",
      "354/354 [==============================] - 0s 198us/step - loss: 0.0305\n",
      "Epoch 49/100\n",
      "354/354 [==============================] - 0s 169us/step - loss: 0.0302\n",
      "Epoch 50/100\n",
      "354/354 [==============================] - 0s 198us/step - loss: 0.0300\n",
      "Epoch 51/100\n",
      "354/354 [==============================] - 0s 226us/step - loss: 0.0298\n",
      "Epoch 52/100\n",
      "354/354 [==============================] - 0s 198us/step - loss: 0.0296\n",
      "Epoch 53/100\n",
      "354/354 [==============================] - 0s 206us/step - loss: 0.0294\n",
      "Epoch 54/100\n",
      "354/354 [==============================] - 0s 215us/step - loss: 0.0291\n",
      "Epoch 55/100\n",
      "354/354 [==============================] - 0s 169us/step - loss: 0.0289\n",
      "Epoch 56/100\n",
      "354/354 [==============================] - 0s 141us/step - loss: 0.0287\n",
      "Epoch 57/100\n",
      "354/354 [==============================] - 0s 141us/step - loss: 0.0286\n",
      "Epoch 58/100\n",
      "354/354 [==============================] - 0s 113us/step - loss: 0.0283\n",
      "Epoch 59/100\n",
      "354/354 [==============================] - 0s 169us/step - loss: 0.0282\n",
      "Epoch 60/100\n",
      "354/354 [==============================] - 0s 169us/step - loss: 0.0280\n",
      "Epoch 61/100\n",
      "354/354 [==============================] - 0s 226us/step - loss: 0.0278\n",
      "Epoch 62/100\n",
      "354/354 [==============================] - 0s 254us/step - loss: 0.0277\n",
      "Epoch 63/100\n",
      "354/354 [==============================] - 0s 169us/step - loss: 0.0274\n",
      "Epoch 64/100\n",
      "354/354 [==============================] - 0s 141us/step - loss: 0.0273\n",
      "Epoch 65/100\n",
      "354/354 [==============================] - 0s 141us/step - loss: 0.0271\n",
      "Epoch 66/100\n",
      "354/354 [==============================] - 0s 198us/step - loss: 0.0270\n",
      "Epoch 67/100\n",
      "354/354 [==============================] - 0s 169us/step - loss: 0.0268\n",
      "Epoch 68/100\n",
      "354/354 [==============================] - 0s 198us/step - loss: 0.0267\n",
      "Epoch 69/100\n",
      "354/354 [==============================] - 0s 141us/step - loss: 0.0265\n",
      "Epoch 70/100\n",
      "354/354 [==============================] - 0s 113us/step - loss: 0.0264\n",
      "Epoch 71/100\n",
      "354/354 [==============================] - 0s 141us/step - loss: 0.0263\n",
      "Epoch 72/100\n",
      "354/354 [==============================] - 0s 169us/step - loss: 0.0261\n",
      "Epoch 73/100\n",
      "354/354 [==============================] - 0s 141us/step - loss: 0.0260\n",
      "Epoch 74/100\n",
      "354/354 [==============================] - 0s 113us/step - loss: 0.0258\n",
      "Epoch 75/100\n",
      "354/354 [==============================] - 0s 113us/step - loss: 0.0257\n",
      "Epoch 76/100\n",
      "354/354 [==============================] - 0s 169us/step - loss: 0.0256\n",
      "Epoch 77/100\n",
      "354/354 [==============================] - 0s 169us/step - loss: 0.0254\n",
      "Epoch 78/100\n",
      "354/354 [==============================] - 0s 141us/step - loss: 0.0253\n",
      "Epoch 79/100\n",
      "354/354 [==============================] - 0s 141us/step - loss: 0.0253\n",
      "Epoch 80/100\n",
      "354/354 [==============================] - 0s 113us/step - loss: 0.0251\n",
      "Epoch 81/100\n",
      "354/354 [==============================] - 0s 141us/step - loss: 0.0250\n",
      "Epoch 82/100\n",
      "354/354 [==============================] - 0s 113us/step - loss: 0.0249\n",
      "Epoch 83/100\n",
      "354/354 [==============================] - 0s 169us/step - loss: 0.0248\n",
      "Epoch 84/100\n",
      "354/354 [==============================] - 0s 141us/step - loss: 0.0246\n",
      "Epoch 85/100\n",
      "354/354 [==============================] - 0s 141us/step - loss: 0.0245\n",
      "Epoch 86/100\n",
      "354/354 [==============================] - 0s 141us/step - loss: 0.0244\n",
      "Epoch 87/100\n",
      "354/354 [==============================] - 0s 113us/step - loss: 0.0243\n",
      "Epoch 88/100\n",
      "354/354 [==============================] - 0s 141us/step - loss: 0.0242\n",
      "Epoch 89/100\n",
      "354/354 [==============================] - 0s 169us/step - loss: 0.0241\n",
      "Epoch 90/100\n",
      "354/354 [==============================] - 0s 141us/step - loss: 0.0240\n",
      "Epoch 91/100\n",
      "354/354 [==============================] - 0s 141us/step - loss: 0.0239\n",
      "Epoch 92/100\n",
      "354/354 [==============================] - 0s 169us/step - loss: 0.0238\n",
      "Epoch 93/100\n",
      "354/354 [==============================] - 0s 198us/step - loss: 0.0237\n",
      "Epoch 94/100\n",
      "354/354 [==============================] - 0s 169us/step - loss: 0.0236\n",
      "Epoch 95/100\n",
      "354/354 [==============================] - 0s 169us/step - loss: 0.0234\n",
      "Epoch 96/100\n",
      "354/354 [==============================] - 0s 141us/step - loss: 0.0234\n",
      "Epoch 97/100\n",
      "354/354 [==============================] - 0s 169us/step - loss: 0.0232\n",
      "Epoch 98/100\n",
      "354/354 [==============================] - 0s 141us/step - loss: 0.0231\n",
      "Epoch 99/100\n",
      "354/354 [==============================] - 0s 169us/step - loss: 0.0230\n",
      "Epoch 100/100\n",
      "354/354 [==============================] - 0s 169us/step - loss: 0.0229\n"
     ]
    },
    {
     "data": {
      "text/plain": [
       "<keras.callbacks.callbacks.History at 0x174e9358>"
      ]
     },
     "execution_count": 81,
     "metadata": {},
     "output_type": "execute_result"
    }
   ],
   "source": [
    "m.fit(x_train_white, y_train, epochs=100, batch_size=10)"
   ]
  },
  {
   "cell_type": "code",
   "execution_count": 82,
   "metadata": {},
   "outputs": [
    {
     "data": {
      "text/plain": [
       "array([[25., 33., 25., 26., 29., 25., 29., 25., 30., 31., 24., 33., 34.,\n",
       "        27., 26., 29., 25., 23., 22., 35., 22., 28., 28., 23., 27., 26.,\n",
       "        35., 31., 33., 30., 25., 26., 23., 28., 28., 24., 25., 24., 22.,\n",
       "        24., 29., 31., 24., 30., 24., 24., 21., 25., 25., 31., 25., 31.,\n",
       "        26., 24., 24., 24., 30., 24., 30., 27., 26., 23., 29., 27., 35.,\n",
       "        27., 33., 27., 32., 29., 23., 24., 34., 24., 28., 20., 21., 25.,\n",
       "        31., 24., 25., 21., 31., 26., 30., 29., 28., 27., 22., 26., 24.,\n",
       "        19., 26., 28., 29., 30., 25., 24., 20., 37., 31., 28., 19., 28.,\n",
       "        28., 24., 25., 27., 23., 21., 29., 25., 34., 27., 24., 30., 29.,\n",
       "        24., 30., 29., 26., 18., 27., 26., 28., 33., 24., 28., 26., 23.,\n",
       "        29., 33., 23., 32., 25., 28., 28., 32., 24., 24., 32., 30., 26.,\n",
       "        21., 25., 22., 22., 30., 25., 29., 28., 36.]], dtype=float32)"
      ]
     },
     "execution_count": 82,
     "metadata": {},
     "output_type": "execute_result"
    }
   ],
   "source": [
    "x_test_white = scaler.transform(x_test)\n",
    "m.predict(x_test_white).round().T"
   ]
  },
  {
   "cell_type": "code",
   "execution_count": 83,
   "metadata": {},
   "outputs": [
    {
     "name": "stderr",
     "output_type": "stream",
     "text": [
      "C:\\Users\\gerardh\\AppData\\Local\\Continuum\\anaconda3\\lib\\site-packages\\ipykernel_launcher.py:1: FutureWarning: Method .as_matrix will be removed in a future version. Use .values instead.\n",
      "  \"\"\"Entry point for launching an IPython kernel.\n"
     ]
    },
    {
     "data": {
      "text/plain": [
       "array([33.2, 23.5, 19.9, 18.2, 19.3, 13.6, 21.6, 42.8, 23.2, 21.7, 16.8,\n",
       "       21.4, 44. , 19.8,  8.3,  9.7, 23.2, 50. , 15.6, 20.3, 15.2, 19.8,\n",
       "       27.1, 15.4, 32.4, 23.1, 20.1, 35.4, 20.3, 24.7, 19.9, 23.3, 14.5,\n",
       "       22.2, 28.4, 14.9, 23.2, 22.2, 22. , 23.3, 20.9, 36.2, 23.9,  8.8,\n",
       "       19.1, 12.7, 18.6, 20.5, 21.2, 20.1, 19.9, 21.2, 13.3, 10.8, 12.7,\n",
       "       16. , 11.8, 35.2, 37.3, 24.8, 30.1, 33.4, 11.5, 17.5, 31.1, 22. ,\n",
       "       20.5, 36.2, 35.1, 26.6,  7. , 16.6, 42.3, 19.6, 29.1,  7.5, 11.8,\n",
       "       24.5, 18.6, 13.1, 28.4, 13.5, 22.3, 37.9, 27.9, 20.7, 19.4, 17.8,\n",
       "       13.5, 37.2, 18.9, 10.9, 13.8, 29.4, 21.7, 24.1, 20. ,  6.3,  7.2,\n",
       "       23.1, 22.8, 12.3, 37.6, 23.9, 16.2, 20.2, 17.7, 14.3, 18.2, 31.7,\n",
       "       26.4, 18.7,  8.1, 34.9, 22.2, 50. , 27.9, 18.1, 16.2, 22. , 23.1,\n",
       "       50. , 22.6, 22.8, 17.2, 16.1, 18. , 33.1, 43.5, 30.7, 20.3, 23.1,\n",
       "       17.1, 27. , 19.6, 19.2, 22.6, 19.1, 50. , 19.3, 20. , 18.2,  7.4,\n",
       "       13.9, 25. , 43.1, 14.8, 25. , 23.9, 17.8, 19.6, 50. ],\n",
       "      dtype=float32)"
      ]
     },
     "execution_count": 83,
     "metadata": {},
     "output_type": "execute_result"
    }
   ],
   "source": [
    "y_test.as_matrix().astype(np.float32)"
   ]
  },
  {
   "cell_type": "code",
   "execution_count": 84,
   "metadata": {},
   "outputs": [
    {
     "name": "stdout",
     "output_type": "stream",
     "text": [
      "152/152 [==============================] - 0s 66us/step\n"
     ]
    },
    {
     "data": {
      "text/plain": [
       "0.20802313089370728"
      ]
     },
     "execution_count": 84,
     "metadata": {},
     "output_type": "execute_result"
    }
   ],
   "source": [
    "m.evaluate(x_test_white, y_test)"
   ]
  },
  {
   "cell_type": "code",
   "execution_count": null,
   "metadata": {
    "collapsed": true
   },
   "outputs": [],
   "source": []
  }
 ],
 "metadata": {
  "kernelspec": {
   "display_name": "Python 3",
   "language": "python",
   "name": "python3"
  },
  "language_info": {
   "codemirror_mode": {
    "name": "ipython",
    "version": 3
   },
   "file_extension": ".py",
   "mimetype": "text/x-python",
   "name": "python",
   "nbconvert_exporter": "python",
   "pygments_lexer": "ipython3",
   "version": "3.7.4"
  }
 },
 "nbformat": 4,
 "nbformat_minor": 2
}
