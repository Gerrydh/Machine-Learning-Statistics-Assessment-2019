{
 "cells": [
  {
   "cell_type": "markdown",
   "metadata": {},
   "source": [
    "# Machine Learning & Statistics- Assessment 2019"
   ]
  },
  {
   "cell_type": "markdown",
   "metadata": {},
   "source": [
    "![title](img/Image2.png)"
   ]
  },
  {
   "cell_type": "markdown",
   "metadata": {},
   "source": [
    "# The Boston House Price Dataset"
   ]
  },
  {
   "cell_type": "code",
   "execution_count": 8,
   "metadata": {
    "collapsed": true
   },
   "outputs": [],
   "source": [
    "import pandas as pd\n",
    "import numpy as np\n",
    "import matplotlib.pyplot as plt\n",
    "import seaborn as sns\n",
    "import scipy as sp\n",
    "from sklearn.datasets import load_boston "
   ]
  },
  {
   "cell_type": "code",
   "execution_count": 4,
   "metadata": {},
   "outputs": [
    {
     "name": "stdout",
     "output_type": "stream",
     "text": [
      "(506, 13)\n"
     ]
    }
   ],
   "source": [
    "boston = load_boston()\n",
    "print(boston.data.shape)\n"
   ]
  },
  {
   "cell_type": "markdown",
   "metadata": {},
   "source": [
    "<h3 style=\"text-align: center;\"> The Datasets Variables</h3>\n",
    "\n",
    "\n",
    "|s.No|Attributes      |Description                                                         |\n",
    "|----:---------------:-------------------------------------------------------------------:-\n",
    "|1.   |CRIM           |per capita crime rate by town                                       |\n",
    "|2.   |ZN             |the proportion of residential land zoned for lots over 25,000 sq.ft.|\n",
    "|3.   |INDUS          |the proportion of non-retail business acres per town                |\n",
    "|4.   |CHAS           |Charles River dummy variable (1 if tract bounds river; 0 otherwise) |\n",
    "|5.   |NOX            |nitric oxides concentration (parts per 10 million)                  |\n",
    "|6.   |RM             |the average number of rooms per dwelling                            |\n",
    "|7.   |AGE            |the proportion of owner-occupied units built prior to 1940          |\n",
    "|8.   |DIS            |weighted distances to five Boston employment centres                |\n",
    "|9.   |RAD            |index of accessibility to radial highways                           |\n",
    "|10.  |TAX            |full-value property-tax rate per 10,000                             |\n",
    "|11.  |PTRATIO        |the pupil-teacher ration by the town                                |\n",
    "|12.  |B-1000(BK-0.63)|Where Bk is the proportion of blacks by the town                    | \n",
    "|13.  |LSTAT          |percentage lower status of the population                           |\n",
    "|14.  |MEDV           |the median value of owner-occupied homes in  1000's                 |"
   ]
  },
  {
   "cell_type": "code",
   "execution_count": 5,
   "metadata": {},
   "outputs": [],
   "source": [
    "from sklearn.datasets import load_boston\n",
    "data = load_boston()"
   ]
  },
  {
   "cell_type": "code",
   "execution_count": 10,
   "metadata": {},
   "outputs": [
    {
     "data": {
      "image/png": "[encoded data removed]",
      "text/plain": [
       "<Figure size 288x216 with 1 Axes>"
      ]
     },
     "metadata": {},
     "output_type": "display_data"
    },
    {
     "data": {
      "image/png": "[encoded data removed]",
      "text/plain": [
       "<Figure size 288x216 with 1 Axes>"
      ]
     },
     "metadata": {},
     "output_type": "display_data"
    }
   ],
   "source": [
    "plt.figure(figsize=(4, 3))\n",
    "plt.hist(data.target)\n",
    "plt.xlabel('price ($1000s)')\n",
    "plt.ylabel('count')\n",
    "plt.tight_layout()\n",
    "plt.show()"
   ]
  },
  {
   "cell_type": "code",
   "execution_count": null,
   "metadata": {
    "collapsed": true
   },
   "outputs": [],
   "source": []
  }
 ],
 "metadata": {
  "kernelspec": {
   "display_name": "Python 3",
   "language": "python",
   "name": "python3"
  },
  "language_info": {
   "codemirror_mode": {
    "name": "ipython",
    "version": 3
   },
   "file_extension": ".py",
   "mimetype": "text/x-python",
   "name": "python",
   "nbconvert_exporter": "python",
   "pygments_lexer": "ipython3",
   "version": "3.6.3"
  }
 },
 "nbformat": 4,
 "nbformat_minor": 2
}
