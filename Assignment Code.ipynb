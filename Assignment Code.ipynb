{
 "cells": [
  {
   "cell_type": "code",
   "execution_count": 1,
   "metadata": {
    "collapsed": true
   },
   "outputs": [],
   "source": [
    "from sklearn import datasets\n",
    "boston = datasets.load_boston()"
   ]
  },
  {
   "cell_type": "code",
   "execution_count": 2,
   "metadata": {},
   "outputs": [
    {
     "data": {
      "text/plain": [
       "sklearn.utils.Bunch"
      ]
     },
     "execution_count": 2,
     "metadata": {},
     "output_type": "execute_result"
    }
   ],
   "source": [
    "type(boston)"
   ]
  },
  {
   "cell_type": "code",
   "execution_count": 3,
   "metadata": {
    "collapsed": true
   },
   "outputs": [],
   "source": [
    "import matplotlib.pyplot as plt\n",
    "import pandas as pd\n",
    "from sklearn.datasets import load_boston\n",
    "\n",
    "boston = load_boston()\n",
    "\n",
    "dataFrame_x = pd.DataFrame(boston.data, columns = boston.feature_names)\n",
    "dataFrame_y = pd.DataFrame(boston.target)"
   ]
  },
  {
   "cell_type": "code",
   "execution_count": 8,
   "metadata": {},
   "outputs": [
    {
     "name": "stderr",
     "output_type": "stream",
     "text": [
      "C:\\Users\\Ger\\Ana\\lib\\site-packages\\numpy\\lib\\polynomial.py:627: RuntimeWarning: invalid value encountered in true_divide\n",
      "  lhs /= scale\n"
     ]
    },
    {
     "ename": "LinAlgError",
     "evalue": "SVD did not converge in Linear Least Squares",
     "output_type": "error",
     "traceback": [
      "\u001b[1;31m---------------------------------------------------------------------------\u001b[0m",
      "\u001b[1;31mLinAlgError\u001b[0m                               Traceback (most recent call last)",
      "\u001b[1;32m<ipython-input-8-b6125e76138e>\u001b[0m in \u001b[0;36m<module>\u001b[1;34m\u001b[0m\n\u001b[0;32m      4\u001b[0m \u001b[0mxmesh\u001b[0m \u001b[1;33m=\u001b[0m \u001b[0mnp\u001b[0m\u001b[1;33m.\u001b[0m\u001b[0mlinspace\u001b[0m\u001b[1;33m(\u001b[0m\u001b[0mmin\u001b[0m\u001b[1;33m(\u001b[0m\u001b[0mxdata\u001b[0m\u001b[1;33m)\u001b[0m\u001b[1;33m,\u001b[0m \u001b[0mmax\u001b[0m\u001b[1;33m(\u001b[0m\u001b[0mxdata\u001b[0m\u001b[1;33m)\u001b[0m\u001b[1;33m,\u001b[0m \u001b[1;36m50\u001b[0m\u001b[1;33m)\u001b[0m\u001b[1;33m\u001b[0m\u001b[1;33m\u001b[0m\u001b[0m\n\u001b[0;32m      5\u001b[0m \u001b[1;33m\u001b[0m\u001b[0m\n\u001b[1;32m----> 6\u001b[1;33m \u001b[0mfit\u001b[0m \u001b[1;33m=\u001b[0m \u001b[0mnp\u001b[0m\u001b[1;33m.\u001b[0m\u001b[0mpoly1d\u001b[0m\u001b[1;33m(\u001b[0m\u001b[0mnp\u001b[0m\u001b[1;33m.\u001b[0m\u001b[0mpolyfit\u001b[0m\u001b[1;33m(\u001b[0m\u001b[0mxdata\u001b[0m\u001b[1;33m,\u001b[0m \u001b[0mydata\u001b[0m\u001b[1;33m,\u001b[0m \u001b[1;36m1\u001b[0m\u001b[1;33m)\u001b[0m\u001b[1;33m)\u001b[0m\u001b[1;33m\u001b[0m\u001b[1;33m\u001b[0m\u001b[0m\n\u001b[0m\u001b[0;32m      7\u001b[0m \u001b[1;33m\u001b[0m\u001b[0m\n\u001b[0;32m      8\u001b[0m \u001b[0mplt\u001b[0m\u001b[1;33m.\u001b[0m\u001b[0mplot\u001b[0m\u001b[1;33m(\u001b[0m\u001b[0mxdata\u001b[0m\u001b[1;33m,\u001b[0m \u001b[0mydata\u001b[0m\u001b[1;33m,\u001b[0m \u001b[1;34m'bo'\u001b[0m\u001b[1;33m,\u001b[0m \u001b[0mlabel\u001b[0m\u001b[1;33m=\u001b[0m\u001b[1;34m'Data'\u001b[0m\u001b[1;33m)\u001b[0m\u001b[1;33m\u001b[0m\u001b[1;33m\u001b[0m\u001b[0m\n",
      "\u001b[1;32m~\\Ana\\lib\\site-packages\\numpy\\lib\\polynomial.py\u001b[0m in \u001b[0;36mpolyfit\u001b[1;34m(x, y, deg, rcond, full, w, cov)\u001b[0m\n\u001b[0;32m    626\u001b[0m     \u001b[0mscale\u001b[0m \u001b[1;33m=\u001b[0m \u001b[0mNX\u001b[0m\u001b[1;33m.\u001b[0m\u001b[0msqrt\u001b[0m\u001b[1;33m(\u001b[0m\u001b[1;33m(\u001b[0m\u001b[0mlhs\u001b[0m\u001b[1;33m*\u001b[0m\u001b[0mlhs\u001b[0m\u001b[1;33m)\u001b[0m\u001b[1;33m.\u001b[0m\u001b[0msum\u001b[0m\u001b[1;33m(\u001b[0m\u001b[0maxis\u001b[0m\u001b[1;33m=\u001b[0m\u001b[1;36m0\u001b[0m\u001b[1;33m)\u001b[0m\u001b[1;33m)\u001b[0m\u001b[1;33m\u001b[0m\u001b[1;33m\u001b[0m\u001b[0m\n\u001b[0;32m    627\u001b[0m     \u001b[0mlhs\u001b[0m \u001b[1;33m/=\u001b[0m \u001b[0mscale\u001b[0m\u001b[1;33m\u001b[0m\u001b[1;33m\u001b[0m\u001b[0m\n\u001b[1;32m--> 628\u001b[1;33m     \u001b[0mc\u001b[0m\u001b[1;33m,\u001b[0m \u001b[0mresids\u001b[0m\u001b[1;33m,\u001b[0m \u001b[0mrank\u001b[0m\u001b[1;33m,\u001b[0m \u001b[0ms\u001b[0m \u001b[1;33m=\u001b[0m \u001b[0mlstsq\u001b[0m\u001b[1;33m(\u001b[0m\u001b[0mlhs\u001b[0m\u001b[1;33m,\u001b[0m \u001b[0mrhs\u001b[0m\u001b[1;33m,\u001b[0m \u001b[0mrcond\u001b[0m\u001b[1;33m)\u001b[0m\u001b[1;33m\u001b[0m\u001b[1;33m\u001b[0m\u001b[0m\n\u001b[0m\u001b[0;32m    629\u001b[0m     \u001b[0mc\u001b[0m \u001b[1;33m=\u001b[0m \u001b[1;33m(\u001b[0m\u001b[0mc\u001b[0m\u001b[1;33m.\u001b[0m\u001b[0mT\u001b[0m\u001b[1;33m/\u001b[0m\u001b[0mscale\u001b[0m\u001b[1;33m)\u001b[0m\u001b[1;33m.\u001b[0m\u001b[0mT\u001b[0m  \u001b[1;31m# broadcast scale coefficients\u001b[0m\u001b[1;33m\u001b[0m\u001b[1;33m\u001b[0m\u001b[0m\n\u001b[0;32m    630\u001b[0m \u001b[1;33m\u001b[0m\u001b[0m\n",
      "\u001b[1;32m~\\Ana\\lib\\site-packages\\numpy\\linalg\\linalg.py\u001b[0m in \u001b[0;36mlstsq\u001b[1;34m(a, b, rcond)\u001b[0m\n\u001b[0;32m   2234\u001b[0m         \u001b[1;31m# lapack can't handle n_rhs = 0 - so allocate the array one larger in that axis\u001b[0m\u001b[1;33m\u001b[0m\u001b[1;33m\u001b[0m\u001b[1;33m\u001b[0m\u001b[0m\n\u001b[0;32m   2235\u001b[0m         \u001b[0mb\u001b[0m \u001b[1;33m=\u001b[0m \u001b[0mzeros\u001b[0m\u001b[1;33m(\u001b[0m\u001b[0mb\u001b[0m\u001b[1;33m.\u001b[0m\u001b[0mshape\u001b[0m\u001b[1;33m[\u001b[0m\u001b[1;33m:\u001b[0m\u001b[1;33m-\u001b[0m\u001b[1;36m2\u001b[0m\u001b[1;33m]\u001b[0m \u001b[1;33m+\u001b[0m \u001b[1;33m(\u001b[0m\u001b[0mm\u001b[0m\u001b[1;33m,\u001b[0m \u001b[0mn_rhs\u001b[0m \u001b[1;33m+\u001b[0m \u001b[1;36m1\u001b[0m\u001b[1;33m)\u001b[0m\u001b[1;33m,\u001b[0m \u001b[0mdtype\u001b[0m\u001b[1;33m=\u001b[0m\u001b[0mb\u001b[0m\u001b[1;33m.\u001b[0m\u001b[0mdtype\u001b[0m\u001b[1;33m)\u001b[0m\u001b[1;33m\u001b[0m\u001b[1;33m\u001b[0m\u001b[0m\n\u001b[1;32m-> 2236\u001b[1;33m     \u001b[0mx\u001b[0m\u001b[1;33m,\u001b[0m \u001b[0mresids\u001b[0m\u001b[1;33m,\u001b[0m \u001b[0mrank\u001b[0m\u001b[1;33m,\u001b[0m \u001b[0ms\u001b[0m \u001b[1;33m=\u001b[0m \u001b[0mgufunc\u001b[0m\u001b[1;33m(\u001b[0m\u001b[0ma\u001b[0m\u001b[1;33m,\u001b[0m \u001b[0mb\u001b[0m\u001b[1;33m,\u001b[0m \u001b[0mrcond\u001b[0m\u001b[1;33m,\u001b[0m \u001b[0msignature\u001b[0m\u001b[1;33m=\u001b[0m\u001b[0msignature\u001b[0m\u001b[1;33m,\u001b[0m \u001b[0mextobj\u001b[0m\u001b[1;33m=\u001b[0m\u001b[0mextobj\u001b[0m\u001b[1;33m)\u001b[0m\u001b[1;33m\u001b[0m\u001b[1;33m\u001b[0m\u001b[0m\n\u001b[0m\u001b[0;32m   2237\u001b[0m     \u001b[1;32mif\u001b[0m \u001b[0mm\u001b[0m \u001b[1;33m==\u001b[0m \u001b[1;36m0\u001b[0m\u001b[1;33m:\u001b[0m\u001b[1;33m\u001b[0m\u001b[1;33m\u001b[0m\u001b[0m\n\u001b[0;32m   2238\u001b[0m         \u001b[0mx\u001b[0m\u001b[1;33m[\u001b[0m\u001b[1;33m...\u001b[0m\u001b[1;33m]\u001b[0m \u001b[1;33m=\u001b[0m \u001b[1;36m0\u001b[0m\u001b[1;33m\u001b[0m\u001b[1;33m\u001b[0m\u001b[0m\n",
      "\u001b[1;32m~\\Ana\\lib\\site-packages\\numpy\\linalg\\linalg.py\u001b[0m in \u001b[0;36m_raise_linalgerror_lstsq\u001b[1;34m(err, flag)\u001b[0m\n\u001b[0;32m    107\u001b[0m \u001b[1;33m\u001b[0m\u001b[0m\n\u001b[0;32m    108\u001b[0m \u001b[1;32mdef\u001b[0m \u001b[0m_raise_linalgerror_lstsq\u001b[0m\u001b[1;33m(\u001b[0m\u001b[0merr\u001b[0m\u001b[1;33m,\u001b[0m \u001b[0mflag\u001b[0m\u001b[1;33m)\u001b[0m\u001b[1;33m:\u001b[0m\u001b[1;33m\u001b[0m\u001b[1;33m\u001b[0m\u001b[0m\n\u001b[1;32m--> 109\u001b[1;33m     \u001b[1;32mraise\u001b[0m \u001b[0mLinAlgError\u001b[0m\u001b[1;33m(\u001b[0m\u001b[1;34m\"SVD did not converge in Linear Least Squares\"\u001b[0m\u001b[1;33m)\u001b[0m\u001b[1;33m\u001b[0m\u001b[1;33m\u001b[0m\u001b[0m\n\u001b[0m\u001b[0;32m    110\u001b[0m \u001b[1;33m\u001b[0m\u001b[0m\n\u001b[0;32m    111\u001b[0m \u001b[1;32mdef\u001b[0m \u001b[0mget_linalg_error_extobj\u001b[0m\u001b[1;33m(\u001b[0m\u001b[0mcallback\u001b[0m\u001b[1;33m)\u001b[0m\u001b[1;33m:\u001b[0m\u001b[1;33m\u001b[0m\u001b[1;33m\u001b[0m\u001b[0m\n",
      "\u001b[1;31mLinAlgError\u001b[0m: SVD did not converge in Linear Least Squares"
     ]
    }
   ],
   "source": [
    "xdata = dataFrame_x['CHAS'][dataFrame_x['CHAS'] < 1].values\n",
    "ydata = dataFrame_y[dataFrame_x['CHAS'] < 1].values.flatten()\n",
    "\n",
    "xmesh = np.linspace(min(xdata), max(xdata), 50)\n",
    "\n",
    "fit = np.poly1d(np.polyfit(xdata, ydata, 1))\n",
    "\n",
    "plt.plot(xdata, ydata, 'bo', label='Data')\n",
    "plt.plot(xmesh, fit(xmesh), '-r', label='Fit')\n",
    "plt.legend(fontsize=16)\n",
    "plt.xlabel('CHAS', fontsize=18)\n",
    "plt.ylabel('Target',fontsize=18)\n",
    "plt.show()"
   ]
  },
  {
   "cell_type": "code",
   "execution_count": null,
   "metadata": {
    "collapsed": true
   },
   "outputs": [],
   "source": []
  },
  {
   "cell_type": "code",
   "execution_count": 4,
   "metadata": {
    "collapsed": true
   },
   "outputs": [],
   "source": [
    "import pandas as pd\n",
    "import numpy as np\n",
    "import matplotlib.pyplot as plt\n",
    "import seaborn as sns\n",
    "import scipy as sp\n",
    "from sklearn.datasets import load_boston \n",
    "from string import ascii_letters"
   ]
  },
  {
   "cell_type": "code",
   "execution_count": 5,
   "metadata": {
    "collapsed": true
   },
   "outputs": [],
   "source": [
    "from sklearn.model_selection import ShuffleSplit"
   ]
  },
  {
   "cell_type": "code",
   "execution_count": 6,
   "metadata": {},
   "outputs": [
    {
     "ename": "NameError",
     "evalue": "name 'df' is not defined",
     "output_type": "error",
     "traceback": [
      "\u001b[1;31m---------------------------------------------------------------------------\u001b[0m",
      "\u001b[1;31mNameError\u001b[0m                                 Traceback (most recent call last)",
      "\u001b[1;32m<ipython-input-6-1a1acf0e1610>\u001b[0m in \u001b[0;36m<module>\u001b[1;34m()\u001b[0m\n\u001b[1;32m----> 1\u001b[1;33m \u001b[0mprint\u001b[0m\u001b[1;33m(\u001b[0m\u001b[1;34m\"Boston housing dataset has {} data points with {} variables each.\"\u001b[0m\u001b[1;33m.\u001b[0m\u001b[0mformat\u001b[0m\u001b[1;33m(\u001b[0m\u001b[1;33m*\u001b[0m\u001b[0mdf\u001b[0m\u001b[1;33m.\u001b[0m\u001b[0mshape\u001b[0m\u001b[1;33m)\u001b[0m\u001b[1;33m)\u001b[0m\u001b[1;33m\u001b[0m\u001b[0m\n\u001b[0m",
      "\u001b[1;31mNameError\u001b[0m: name 'df' is not defined"
     ]
    }
   ],
   "source": [
    "print(\"Boston housing dataset has {} data points with {} variables each.\".format(*df.shape))"
   ]
  },
  {
   "cell_type": "code",
   "execution_count": 7,
   "metadata": {
    "collapsed": true
   },
   "outputs": [],
   "source": [
    "from sklearn.datasets import load_boston"
   ]
  },
  {
   "cell_type": "code",
   "execution_count": 8,
   "metadata": {
    "collapsed": true
   },
   "outputs": [],
   "source": [
    "import numpy as np\n",
    "import pandas as pd\n",
    "import matplotlib.pyplot as plt\n",
    "import seaborn as sns"
   ]
  },
  {
   "cell_type": "code",
   "execution_count": 9,
   "metadata": {
    "collapsed": true
   },
   "outputs": [],
   "source": [
    "boston = load_boston()"
   ]
  },
  {
   "cell_type": "code",
   "execution_count": 10,
   "metadata": {},
   "outputs": [
    {
     "ename": "ValueError",
     "evalue": "Shape of passed values is (13, 506), indices imply (1, 506)",
     "output_type": "error",
     "traceback": [
      "\u001b[1;31m---------------------------------------------------------------------------\u001b[0m",
      "\u001b[1;31mValueError\u001b[0m                                Traceback (most recent call last)",
      "\u001b[1;32m~\\AppData\\Local\\Continuum\\anaconda3\\lib\\site-packages\\pandas\\core\\internals.py\u001b[0m in \u001b[0;36mcreate_block_manager_from_blocks\u001b[1;34m(blocks, axes)\u001b[0m\n\u001b[0;32m   4856\u001b[0m                 blocks = [make_block(values=blocks[0],\n\u001b[1;32m-> 4857\u001b[1;33m                                      placement=slice(0, len(axes[0])))]\n\u001b[0m\u001b[0;32m   4858\u001b[0m \u001b[1;33m\u001b[0m\u001b[0m\n",
      "\u001b[1;32m~\\AppData\\Local\\Continuum\\anaconda3\\lib\\site-packages\\pandas\\core\\internals.py\u001b[0m in \u001b[0;36mmake_block\u001b[1;34m(values, placement, klass, ndim, dtype, fastpath)\u001b[0m\n\u001b[0;32m   3204\u001b[0m \u001b[1;33m\u001b[0m\u001b[0m\n\u001b[1;32m-> 3205\u001b[1;33m     \u001b[1;32mreturn\u001b[0m \u001b[0mklass\u001b[0m\u001b[1;33m(\u001b[0m\u001b[0mvalues\u001b[0m\u001b[1;33m,\u001b[0m \u001b[0mndim\u001b[0m\u001b[1;33m=\u001b[0m\u001b[0mndim\u001b[0m\u001b[1;33m,\u001b[0m \u001b[0mplacement\u001b[0m\u001b[1;33m=\u001b[0m\u001b[0mplacement\u001b[0m\u001b[1;33m)\u001b[0m\u001b[1;33m\u001b[0m\u001b[0m\n\u001b[0m\u001b[0;32m   3206\u001b[0m \u001b[1;33m\u001b[0m\u001b[0m\n",
      "\u001b[1;32m~\\AppData\\Local\\Continuum\\anaconda3\\lib\\site-packages\\pandas\\core\\internals.py\u001b[0m in \u001b[0;36m__init__\u001b[1;34m(self, values, placement, ndim)\u001b[0m\n\u001b[0;32m    124\u001b[0m                 \u001b[1;34m'Wrong number of items passed {val}, placement implies '\u001b[0m\u001b[1;33m\u001b[0m\u001b[0m\n\u001b[1;32m--> 125\u001b[1;33m                 '{mgr}'.format(val=len(self.values), mgr=len(self.mgr_locs)))\n\u001b[0m\u001b[0;32m    126\u001b[0m \u001b[1;33m\u001b[0m\u001b[0m\n",
      "\u001b[1;31mValueError\u001b[0m: Wrong number of items passed 13, placement implies 1",
      "\nDuring handling of the above exception, another exception occurred:\n",
      "\u001b[1;31mValueError\u001b[0m                                Traceback (most recent call last)",
      "\u001b[1;32m<ipython-input-10-ef9749ace3db>\u001b[0m in \u001b[0;36m<module>\u001b[1;34m()\u001b[0m\n\u001b[1;32m----> 1\u001b[1;33m \u001b[0mdf\u001b[0m \u001b[1;33m=\u001b[0m \u001b[0mpd\u001b[0m\u001b[1;33m.\u001b[0m\u001b[0mDataFrame\u001b[0m\u001b[1;33m(\u001b[0m\u001b[0mboston\u001b[0m\u001b[1;33m.\u001b[0m\u001b[0mdata\u001b[0m\u001b[1;33m,\u001b[0m \u001b[0mcolumns\u001b[0m \u001b[1;33m=\u001b[0m \u001b[1;33m[\u001b[0m\u001b[1;34m'CHAS'\u001b[0m\u001b[1;33m]\u001b[0m\u001b[1;33m)\u001b[0m\u001b[1;33m\u001b[0m\u001b[0m\n\u001b[0m",
      "\u001b[1;32m~\\AppData\\Local\\Continuum\\anaconda3\\lib\\site-packages\\pandas\\core\\frame.py\u001b[0m in \u001b[0;36m__init__\u001b[1;34m(self, data, index, columns, dtype, copy)\u001b[0m\n\u001b[0;32m    377\u001b[0m             \u001b[1;32melse\u001b[0m\u001b[1;33m:\u001b[0m\u001b[1;33m\u001b[0m\u001b[0m\n\u001b[0;32m    378\u001b[0m                 mgr = self._init_ndarray(data, index, columns, dtype=dtype,\n\u001b[1;32m--> 379\u001b[1;33m                                          copy=copy)\n\u001b[0m\u001b[0;32m    380\u001b[0m         \u001b[1;32melif\u001b[0m \u001b[0misinstance\u001b[0m\u001b[1;33m(\u001b[0m\u001b[0mdata\u001b[0m\u001b[1;33m,\u001b[0m \u001b[1;33m(\u001b[0m\u001b[0mlist\u001b[0m\u001b[1;33m,\u001b[0m \u001b[0mtypes\u001b[0m\u001b[1;33m.\u001b[0m\u001b[0mGeneratorType\u001b[0m\u001b[1;33m)\u001b[0m\u001b[1;33m)\u001b[0m\u001b[1;33m:\u001b[0m\u001b[1;33m\u001b[0m\u001b[0m\n\u001b[0;32m    381\u001b[0m             \u001b[1;32mif\u001b[0m \u001b[0misinstance\u001b[0m\u001b[1;33m(\u001b[0m\u001b[0mdata\u001b[0m\u001b[1;33m,\u001b[0m \u001b[0mtypes\u001b[0m\u001b[1;33m.\u001b[0m\u001b[0mGeneratorType\u001b[0m\u001b[1;33m)\u001b[0m\u001b[1;33m:\u001b[0m\u001b[1;33m\u001b[0m\u001b[0m\n",
      "\u001b[1;32m~\\AppData\\Local\\Continuum\\anaconda3\\lib\\site-packages\\pandas\\core\\frame.py\u001b[0m in \u001b[0;36m_init_ndarray\u001b[1;34m(self, values, index, columns, dtype, copy)\u001b[0m\n\u001b[0;32m    534\u001b[0m             \u001b[0mvalues\u001b[0m \u001b[1;33m=\u001b[0m \u001b[0mmaybe_infer_to_datetimelike\u001b[0m\u001b[1;33m(\u001b[0m\u001b[0mvalues\u001b[0m\u001b[1;33m)\u001b[0m\u001b[1;33m\u001b[0m\u001b[0m\n\u001b[0;32m    535\u001b[0m \u001b[1;33m\u001b[0m\u001b[0m\n\u001b[1;32m--> 536\u001b[1;33m         \u001b[1;32mreturn\u001b[0m \u001b[0mcreate_block_manager_from_blocks\u001b[0m\u001b[1;33m(\u001b[0m\u001b[1;33m[\u001b[0m\u001b[0mvalues\u001b[0m\u001b[1;33m]\u001b[0m\u001b[1;33m,\u001b[0m \u001b[1;33m[\u001b[0m\u001b[0mcolumns\u001b[0m\u001b[1;33m,\u001b[0m \u001b[0mindex\u001b[0m\u001b[1;33m]\u001b[0m\u001b[1;33m)\u001b[0m\u001b[1;33m\u001b[0m\u001b[0m\n\u001b[0m\u001b[0;32m    537\u001b[0m \u001b[1;33m\u001b[0m\u001b[0m\n\u001b[0;32m    538\u001b[0m     \u001b[1;33m@\u001b[0m\u001b[0mproperty\u001b[0m\u001b[1;33m\u001b[0m\u001b[0m\n",
      "\u001b[1;32m~\\AppData\\Local\\Continuum\\anaconda3\\lib\\site-packages\\pandas\\core\\internals.py\u001b[0m in \u001b[0;36mcreate_block_manager_from_blocks\u001b[1;34m(blocks, axes)\u001b[0m\n\u001b[0;32m   4864\u001b[0m         \u001b[0mblocks\u001b[0m \u001b[1;33m=\u001b[0m \u001b[1;33m[\u001b[0m\u001b[0mgetattr\u001b[0m\u001b[1;33m(\u001b[0m\u001b[0mb\u001b[0m\u001b[1;33m,\u001b[0m \u001b[1;34m'values'\u001b[0m\u001b[1;33m,\u001b[0m \u001b[0mb\u001b[0m\u001b[1;33m)\u001b[0m \u001b[1;32mfor\u001b[0m \u001b[0mb\u001b[0m \u001b[1;32min\u001b[0m \u001b[0mblocks\u001b[0m\u001b[1;33m]\u001b[0m\u001b[1;33m\u001b[0m\u001b[0m\n\u001b[0;32m   4865\u001b[0m         \u001b[0mtot_items\u001b[0m \u001b[1;33m=\u001b[0m \u001b[0msum\u001b[0m\u001b[1;33m(\u001b[0m\u001b[0mb\u001b[0m\u001b[1;33m.\u001b[0m\u001b[0mshape\u001b[0m\u001b[1;33m[\u001b[0m\u001b[1;36m0\u001b[0m\u001b[1;33m]\u001b[0m \u001b[1;32mfor\u001b[0m \u001b[0mb\u001b[0m \u001b[1;32min\u001b[0m \u001b[0mblocks\u001b[0m\u001b[1;33m)\u001b[0m\u001b[1;33m\u001b[0m\u001b[0m\n\u001b[1;32m-> 4866\u001b[1;33m         \u001b[0mconstruction_error\u001b[0m\u001b[1;33m(\u001b[0m\u001b[0mtot_items\u001b[0m\u001b[1;33m,\u001b[0m \u001b[0mblocks\u001b[0m\u001b[1;33m[\u001b[0m\u001b[1;36m0\u001b[0m\u001b[1;33m]\u001b[0m\u001b[1;33m.\u001b[0m\u001b[0mshape\u001b[0m\u001b[1;33m[\u001b[0m\u001b[1;36m1\u001b[0m\u001b[1;33m:\u001b[0m\u001b[1;33m]\u001b[0m\u001b[1;33m,\u001b[0m \u001b[0maxes\u001b[0m\u001b[1;33m,\u001b[0m \u001b[0me\u001b[0m\u001b[1;33m)\u001b[0m\u001b[1;33m\u001b[0m\u001b[0m\n\u001b[0m\u001b[0;32m   4867\u001b[0m \u001b[1;33m\u001b[0m\u001b[0m\n\u001b[0;32m   4868\u001b[0m \u001b[1;33m\u001b[0m\u001b[0m\n",
      "\u001b[1;32m~\\AppData\\Local\\Continuum\\anaconda3\\lib\\site-packages\\pandas\\core\\internals.py\u001b[0m in \u001b[0;36mconstruction_error\u001b[1;34m(tot_items, block_shape, axes, e)\u001b[0m\n\u001b[0;32m   4841\u001b[0m         \u001b[1;32mraise\u001b[0m \u001b[0mValueError\u001b[0m\u001b[1;33m(\u001b[0m\u001b[1;34m\"Empty data passed with indices specified.\"\u001b[0m\u001b[1;33m)\u001b[0m\u001b[1;33m\u001b[0m\u001b[0m\n\u001b[0;32m   4842\u001b[0m     raise ValueError(\"Shape of passed values is {0}, indices imply {1}\".format(\n\u001b[1;32m-> 4843\u001b[1;33m         passed, implied))\n\u001b[0m\u001b[0;32m   4844\u001b[0m \u001b[1;33m\u001b[0m\u001b[0m\n\u001b[0;32m   4845\u001b[0m \u001b[1;33m\u001b[0m\u001b[0m\n",
      "\u001b[1;31mValueError\u001b[0m: Shape of passed values is (13, 506), indices imply (1, 506)"
     ]
    }
   ],
   "source": [
    "df = pd.DataFrame(boston.data, columns = ['CHAS'])"
   ]
  },
  {
   "cell_type": "code",
   "execution_count": 11,
   "metadata": {},
   "outputs": [
    {
     "ename": "NameError",
     "evalue": "name 'df' is not defined",
     "output_type": "error",
     "traceback": [
      "\u001b[1;31m---------------------------------------------------------------------------\u001b[0m",
      "\u001b[1;31mNameError\u001b[0m                                 Traceback (most recent call last)",
      "\u001b[1;32m<ipython-input-11-ef6e08af5a41>\u001b[0m in \u001b[0;36m<module>\u001b[1;34m()\u001b[0m\n\u001b[1;32m----> 1\u001b[1;33m \u001b[0mdf\u001b[0m\u001b[1;33m[\u001b[0m\u001b[1;34m'target'\u001b[0m\u001b[1;33m]\u001b[0m \u001b[1;33m=\u001b[0m \u001b[0mboston\u001b[0m\u001b[1;33m.\u001b[0m\u001b[0mtarget\u001b[0m\u001b[1;33m\u001b[0m\u001b[0m\n\u001b[0m",
      "\u001b[1;31mNameError\u001b[0m: name 'df' is not defined"
     ]
    }
   ],
   "source": [
    "df['target'] = boston.target"
   ]
  },
  {
   "cell_type": "code",
   "execution_count": 12,
   "metadata": {},
   "outputs": [
    {
     "ename": "NameError",
     "evalue": "name 'df' is not defined",
     "output_type": "error",
     "traceback": [
      "\u001b[1;31m---------------------------------------------------------------------------\u001b[0m",
      "\u001b[1;31mNameError\u001b[0m                                 Traceback (most recent call last)",
      "\u001b[1;32m<ipython-input-12-7ed0097d7e9e>\u001b[0m in \u001b[0;36m<module>\u001b[1;34m()\u001b[0m\n\u001b[1;32m----> 1\u001b[1;33m \u001b[0mdf\u001b[0m\u001b[1;33m\u001b[0m\u001b[0m\n\u001b[0m",
      "\u001b[1;31mNameError\u001b[0m: name 'df' is not defined"
     ]
    }
   ],
   "source": [
    "df"
   ]
  },
  {
   "cell_type": "code",
   "execution_count": 13,
   "metadata": {},
   "outputs": [
    {
     "ename": "NameError",
     "evalue": "name 'df' is not defined",
     "output_type": "error",
     "traceback": [
      "\u001b[1;31m---------------------------------------------------------------------------\u001b[0m",
      "\u001b[1;31mNameError\u001b[0m                                 Traceback (most recent call last)",
      "\u001b[1;32m<ipython-input-13-e26db7016016>\u001b[0m in \u001b[0;36m<module>\u001b[1;34m()\u001b[0m\n\u001b[0;32m      1\u001b[0m \u001b[0max\u001b[0m\u001b[1;33m,\u001b[0m \u001b[0mfig\u001b[0m \u001b[1;33m=\u001b[0m \u001b[0mplt\u001b[0m\u001b[1;33m.\u001b[0m\u001b[0msubplots\u001b[0m\u001b[1;33m(\u001b[0m\u001b[0mfigsize\u001b[0m \u001b[1;33m=\u001b[0m \u001b[1;33m(\u001b[0m\u001b[1;36m16\u001b[0m\u001b[1;33m,\u001b[0m \u001b[1;36m10\u001b[0m\u001b[1;33m)\u001b[0m\u001b[1;33m)\u001b[0m\u001b[1;33m\u001b[0m\u001b[0m\n\u001b[1;32m----> 2\u001b[1;33m \u001b[0msns\u001b[0m\u001b[1;33m.\u001b[0m\u001b[0mheatmap\u001b[0m\u001b[1;33m(\u001b[0m\u001b[0mdf\u001b[0m\u001b[1;33m.\u001b[0m\u001b[0mcorr\u001b[0m\u001b[1;33m(\u001b[0m\u001b[1;33m)\u001b[0m\u001b[1;33m,\u001b[0m \u001b[0mannot\u001b[0m\u001b[1;33m=\u001b[0m \u001b[1;32mTrue\u001b[0m\u001b[1;33m,\u001b[0m \u001b[0mcmap\u001b[0m \u001b[1;33m=\u001b[0m \u001b[1;34m'RdYlGn'\u001b[0m\u001b[1;33m)\u001b[0m\u001b[1;33m\u001b[0m\u001b[0m\n\u001b[0m\u001b[0;32m      3\u001b[0m \u001b[0mplt\u001b[0m\u001b[1;33m.\u001b[0m\u001b[0mshow\u001b[0m\u001b[1;33m(\u001b[0m\u001b[1;33m)\u001b[0m\u001b[1;33m\u001b[0m\u001b[0m\n",
      "\u001b[1;31mNameError\u001b[0m: name 'df' is not defined"
     ]
    }
   ],
   "source": [
    "ax, fig = plt.subplots(figsize = (16, 10))\n",
    "sns.heatmap(df.corr(), annot= True, cmap = 'RdYlGn')\n",
    "plt.show()"
   ]
  },
  {
   "cell_type": "code",
   "execution_count": 20,
   "metadata": {},
   "outputs": [
    {
     "ename": "SyntaxError",
     "evalue": "invalid syntax (<ipython-input-20-95e07916f357>, line 6)",
     "output_type": "error",
     "traceback": [
      "\u001b[1;36m  File \u001b[1;32m\"<ipython-input-20-95e07916f357>\"\u001b[1;36m, line \u001b[1;32m6\u001b[0m\n\u001b[1;33m    plt.hist((x, normed=True, bins=30), (y, normed=True, bins=30))\u001b[0m\n\u001b[1;37m                       ^\u001b[0m\n\u001b[1;31mSyntaxError\u001b[0m\u001b[1;31m:\u001b[0m invalid syntax\n"
     ]
    }
   ],
   "source": [
    "import matplotlib.pyplot as plt\n",
    "import numpy as np\n",
    "%matplotlib inline\n",
    "x = df['NOX']\n",
    "y = df['target']\n",
    "plt.hist((x, normed=True, bins=30), (y, normed=True, bins=30))\n",
    "plt.ylabel('Nitric Oxides')"
   ]
  },
  {
   "cell_type": "code",
   "execution_count": 14,
   "metadata": {},
   "outputs": [
    {
     "ename": "NameError",
     "evalue": "name 'df' is not defined",
     "output_type": "error",
     "traceback": [
      "\u001b[1;31m---------------------------------------------------------------------------\u001b[0m",
      "\u001b[1;31mNameError\u001b[0m                                 Traceback (most recent call last)",
      "\u001b[1;32m<ipython-input-14-4053905ff4a7>\u001b[0m in \u001b[0;36m<module>\u001b[1;34m()\u001b[0m\n\u001b[0;32m     11\u001b[0m \u001b[1;33m\u001b[0m\u001b[0m\n\u001b[0;32m     12\u001b[0m \u001b[1;31m# Load the Boston housing dataset\u001b[0m\u001b[1;33m\u001b[0m\u001b[1;33m\u001b[0m\u001b[0m\n\u001b[1;32m---> 13\u001b[1;33m \u001b[0mprices\u001b[0m \u001b[1;33m=\u001b[0m \u001b[0mdf\u001b[0m\u001b[1;33m[\u001b[0m\u001b[1;34m'target'\u001b[0m\u001b[1;33m]\u001b[0m\u001b[1;33m\u001b[0m\u001b[0m\n\u001b[0m\u001b[0;32m     14\u001b[0m \u001b[0mfeatures\u001b[0m \u001b[1;33m=\u001b[0m \u001b[0mdf\u001b[0m\u001b[1;33m.\u001b[0m\u001b[0mdrop\u001b[0m\u001b[1;33m(\u001b[0m\u001b[1;34m'target'\u001b[0m\u001b[1;33m,\u001b[0m \u001b[0maxis\u001b[0m \u001b[1;33m=\u001b[0m \u001b[1;36m1\u001b[0m\u001b[1;33m)\u001b[0m\u001b[1;33m\u001b[0m\u001b[0m\n\u001b[0;32m     15\u001b[0m \u001b[1;33m\u001b[0m\u001b[0m\n",
      "\u001b[1;31mNameError\u001b[0m: name 'df' is not defined"
     ]
    }
   ],
   "source": [
    "# Import libraries necessary for this project\n",
    "import numpy as np\n",
    "import pandas as pd\n",
    "from sklearn.model_selection import ShuffleSplit\n",
    "\n",
    "# Import supplementary visualizations code visuals.py\n",
    "\n",
    "\n",
    "# Pretty display for notebooks\n",
    "%matplotlib inline\n",
    "\n",
    "# Load the Boston housing dataset\n",
    "prices = df['target']\n",
    "features = df.drop('target', axis = 1)\n",
    "    \n",
    "# Success\n",
    "print(\"Boston housing dataset has {} data points with {} variables each.\".format(*df.shape))"
   ]
  },
  {
   "cell_type": "code",
   "execution_count": 15,
   "metadata": {},
   "outputs": [
    {
     "ename": "NameError",
     "evalue": "name 'prices' is not defined",
     "output_type": "error",
     "traceback": [
      "\u001b[1;31m---------------------------------------------------------------------------\u001b[0m",
      "\u001b[1;31mNameError\u001b[0m                                 Traceback (most recent call last)",
      "\u001b[1;32m<ipython-input-15-686b6841e557>\u001b[0m in \u001b[0;36m<module>\u001b[1;34m()\u001b[0m\n\u001b[0;32m      1\u001b[0m \u001b[1;31m# Minimum price of the data\u001b[0m\u001b[1;33m\u001b[0m\u001b[1;33m\u001b[0m\u001b[0m\n\u001b[1;32m----> 2\u001b[1;33m \u001b[0mminimum_price\u001b[0m \u001b[1;33m=\u001b[0m \u001b[0mnp\u001b[0m\u001b[1;33m.\u001b[0m\u001b[0mamin\u001b[0m\u001b[1;33m(\u001b[0m\u001b[0mprices\u001b[0m\u001b[1;33m)\u001b[0m\u001b[1;33m\u001b[0m\u001b[0m\n\u001b[0m\u001b[0;32m      3\u001b[0m \u001b[1;33m\u001b[0m\u001b[0m\n\u001b[0;32m      4\u001b[0m \u001b[1;31m# Maximum price of the data\u001b[0m\u001b[1;33m\u001b[0m\u001b[1;33m\u001b[0m\u001b[0m\n\u001b[0;32m      5\u001b[0m \u001b[0mmaximum_price\u001b[0m \u001b[1;33m=\u001b[0m \u001b[0mnp\u001b[0m\u001b[1;33m.\u001b[0m\u001b[0mamax\u001b[0m\u001b[1;33m(\u001b[0m\u001b[0mprices\u001b[0m\u001b[1;33m)\u001b[0m\u001b[1;33m\u001b[0m\u001b[0m\n",
      "\u001b[1;31mNameError\u001b[0m: name 'prices' is not defined"
     ]
    }
   ],
   "source": [
    "# Minimum price of the data\n",
    "minimum_price = np.amin(prices)\n",
    "\n",
    "# Maximum price of the data\n",
    "maximum_price = np.amax(prices)\n",
    "\n",
    "# Mean price of the data\n",
    "mean_price = np.mean(prices)\n",
    "\n",
    "# Median price of the data\n",
    "median_price = np.median(prices)\n",
    "\n",
    "# Standard deviation of prices of the data\n",
    "std_price = np.std(prices)\n",
    "\n",
    "# Show the calculated statistics\n",
    "print(\"Statistics for Boston housing dataset(in thousands):\\n\")\n",
    "print(\"Minimum price: ${:,.2f}\".format(minimum_price)) \n",
    "print(\"Maximum price: ${:,.2f}\".format(maximum_price))\n",
    "print(\"Mean price: ${:,.2f}\".format(mean_price))\n",
    "print(\"Median price ${:,.2f}\".format(median_price))\n",
    "print(\"Standard deviation of prices: ${:,.2f}\".format(std_price))"
   ]
  },
  {
   "cell_type": "code",
   "execution_count": 31,
   "metadata": {},
   "outputs": [
    {
     "name": "stderr",
     "output_type": "stream",
     "text": [
      "UsageError: unrecognized arguments: Calculate and show pairplot\n"
     ]
    }
   ],
   "source": [
    "import matplotlib.pyplot as plt\n",
    "import seaborn as sns\n",
    "%matplotlib inline# Calculate and show pairplot\n",
    "sns.pairplot(df, size=2.5)\n",
    "plt.tight_layout()\n",
    "plt.show()"
   ]
  },
  {
   "cell_type": "code",
   "execution_count": 40,
   "metadata": {},
   "outputs": [
    {
     "ename": "KeyError",
     "evalue": "'NOX'",
     "output_type": "error",
     "traceback": [
      "\u001b[1;31m---------------------------------------------------------------------------\u001b[0m",
      "\u001b[1;31mKeyError\u001b[0m                                  Traceback (most recent call last)",
      "\u001b[1;32m<ipython-input-40-6fc1d9a361dc>\u001b[0m in \u001b[0;36m<module>\u001b[1;34m()\u001b[0m\n\u001b[1;32m----> 1\u001b[1;33m \u001b[0mx\u001b[0m \u001b[1;33m=\u001b[0m \u001b[0mnp\u001b[0m\u001b[1;33m(\u001b[0m\u001b[0mboston\u001b[0m\u001b[1;33m[\u001b[0m\u001b[1;34m'NOX'\u001b[0m\u001b[1;33m]\u001b[0m\u001b[1;33m)\u001b[0m\u001b[1;33m\u001b[0m\u001b[0m\n\u001b[0m",
      "\u001b[1;31mKeyError\u001b[0m: 'NOX'"
     ]
    }
   ],
   "source": [
    "x = np(boston['NOX'])"
   ]
  },
  {
   "cell_type": "code",
   "execution_count": 1,
   "metadata": {},
   "outputs": [
    {
     "name": "stderr",
     "output_type": "stream",
     "text": [
      "C:\\Users\\gerardh\\AppData\\Local\\Continuum\\anaconda3\\lib\\site-packages\\h5py\\__init__.py:36: FutureWarning: Conversion of the second argument of issubdtype from `float` to `np.floating` is deprecated. In future, it will be treated as `np.float64 == np.dtype(float).type`.\n",
      "  from ._conv import register_converters as _register_converters\n",
      "Using TensorFlow backend.\n",
      "C:\\Users\\gerardh\\AppData\\Local\\Continuum\\anaconda3\\lib\\site-packages\\tensorflow\\python\\framework\\dtypes.py:526: FutureWarning: Passing (type, 1) or '1type' as a synonym of type is deprecated; in a future version of numpy, it will be understood as (type, (1,)) / '(1,)type'.\n",
      "  _np_qint8 = np.dtype([(\"qint8\", np.int8, 1)])\n",
      "C:\\Users\\gerardh\\AppData\\Local\\Continuum\\anaconda3\\lib\\site-packages\\tensorflow\\python\\framework\\dtypes.py:527: FutureWarning: Passing (type, 1) or '1type' as a synonym of type is deprecated; in a future version of numpy, it will be understood as (type, (1,)) / '(1,)type'.\n",
      "  _np_quint8 = np.dtype([(\"quint8\", np.uint8, 1)])\n",
      "C:\\Users\\gerardh\\AppData\\Local\\Continuum\\anaconda3\\lib\\site-packages\\tensorflow\\python\\framework\\dtypes.py:528: FutureWarning: Passing (type, 1) or '1type' as a synonym of type is deprecated; in a future version of numpy, it will be understood as (type, (1,)) / '(1,)type'.\n",
      "  _np_qint16 = np.dtype([(\"qint16\", np.int16, 1)])\n",
      "C:\\Users\\gerardh\\AppData\\Local\\Continuum\\anaconda3\\lib\\site-packages\\tensorflow\\python\\framework\\dtypes.py:529: FutureWarning: Passing (type, 1) or '1type' as a synonym of type is deprecated; in a future version of numpy, it will be understood as (type, (1,)) / '(1,)type'.\n",
      "  _np_quint16 = np.dtype([(\"quint16\", np.uint16, 1)])\n",
      "C:\\Users\\gerardh\\AppData\\Local\\Continuum\\anaconda3\\lib\\site-packages\\tensorflow\\python\\framework\\dtypes.py:530: FutureWarning: Passing (type, 1) or '1type' as a synonym of type is deprecated; in a future version of numpy, it will be understood as (type, (1,)) / '(1,)type'.\n",
      "  _np_qint32 = np.dtype([(\"qint32\", np.int32, 1)])\n",
      "C:\\Users\\gerardh\\AppData\\Local\\Continuum\\anaconda3\\lib\\site-packages\\tensorflow\\python\\framework\\dtypes.py:535: FutureWarning: Passing (type, 1) or '1type' as a synonym of type is deprecated; in a future version of numpy, it will be understood as (type, (1,)) / '(1,)type'.\n",
      "  np_resource = np.dtype([(\"resource\", np.ubyte, 1)])\n"
     ]
    }
   ],
   "source": [
    "import keras as kr"
   ]
  },
  {
   "cell_type": "code",
   "execution_count": 15,
   "metadata": {
    "collapsed": true
   },
   "outputs": [],
   "source": [
    "import pandas as pd\n",
    "import numpy as np"
   ]
  },
  {
   "cell_type": "code",
   "execution_count": 16,
   "metadata": {},
   "outputs": [
    {
     "ename": "TypeError",
     "evalue": "__init__() got an unexpected keyword argument 'delim_whitespace'",
     "output_type": "error",
     "traceback": [
      "\u001b[1;31m---------------------------------------------------------------------------\u001b[0m",
      "\u001b[1;31mTypeError\u001b[0m                                 Traceback (most recent call last)",
      "\u001b[1;32m<ipython-input-16-f9893de40037>\u001b[0m in \u001b[0;36m<module>\u001b[1;34m()\u001b[0m\n\u001b[0;32m      1\u001b[0m \u001b[1;32mfrom\u001b[0m \u001b[0msklearn\u001b[0m\u001b[1;33m.\u001b[0m\u001b[0mdatasets\u001b[0m \u001b[1;32mimport\u001b[0m \u001b[0mload_boston\u001b[0m\u001b[1;33m\u001b[0m\u001b[0m\n\u001b[0;32m      2\u001b[0m \u001b[0mboston_dataset\u001b[0m \u001b[1;33m=\u001b[0m \u001b[0mload_boston\u001b[0m\u001b[1;33m(\u001b[0m\u001b[1;33m)\u001b[0m\u001b[1;33m\u001b[0m\u001b[0m\n\u001b[1;32m----> 3\u001b[1;33m \u001b[0mdf\u001b[0m \u001b[1;33m=\u001b[0m \u001b[0mpd\u001b[0m\u001b[1;33m.\u001b[0m\u001b[0mDataFrame\u001b[0m\u001b[1;33m(\u001b[0m\u001b[0mboston_dataset\u001b[0m\u001b[1;33m.\u001b[0m\u001b[0mdata\u001b[0m\u001b[1;33m,\u001b[0m \u001b[0mcolumns\u001b[0m\u001b[1;33m=\u001b[0m\u001b[0mboston_dataset\u001b[0m\u001b[1;33m.\u001b[0m\u001b[0mfeature_names\u001b[0m\u001b[1;33m,\u001b[0m \u001b[0mdelim_whitespace\u001b[0m\u001b[1;33m=\u001b[0m\u001b[1;32mTrue\u001b[0m\u001b[1;33m,\u001b[0m \u001b[0mheader\u001b[0m\u001b[1;33m=\u001b[0m\u001b[1;32mNone\u001b[0m\u001b[1;33m)\u001b[0m\u001b[1;33m\u001b[0m\u001b[0m\n\u001b[0m",
      "\u001b[1;31mTypeError\u001b[0m: __init__() got an unexpected keyword argument 'delim_whitespace'"
     ]
    }
   ],
   "source": [
    "from sklearn.datasets import load_boston\n",
    "boston_dataset = load_boston()\n",
    "df = pd.DataFrame(boston_dataset.data, columns=boston_dataset.feature_names, delim_whitespace=True, header=None)"
   ]
  },
  {
   "cell_type": "code",
   "execution_count": 17,
   "metadata": {},
   "outputs": [
    {
     "ename": "NameError",
     "evalue": "name 'df' is not defined",
     "output_type": "error",
     "traceback": [
      "\u001b[1;31m---------------------------------------------------------------------------\u001b[0m",
      "\u001b[1;31mNameError\u001b[0m                                 Traceback (most recent call last)",
      "\u001b[1;32m<ipython-input-17-79fdecb0950b>\u001b[0m in \u001b[0;36m<module>\u001b[1;34m()\u001b[0m\n\u001b[1;32m----> 1\u001b[1;33m \u001b[0mdf\u001b[0m\u001b[1;33m[\u001b[0m\u001b[1;34m'MEDV'\u001b[0m\u001b[1;33m]\u001b[0m \u001b[1;33m=\u001b[0m \u001b[0mboston_dataset\u001b[0m\u001b[1;33m.\u001b[0m\u001b[0mtarget\u001b[0m\u001b[1;33m\u001b[0m\u001b[0m\n\u001b[0m",
      "\u001b[1;31mNameError\u001b[0m: name 'df' is not defined"
     ]
    }
   ],
   "source": [
    "df['MEDV'] = boston_dataset.target"
   ]
  },
  {
   "cell_type": "code",
   "execution_count": 18,
   "metadata": {
    "scrolled": true
   },
   "outputs": [
    {
     "ename": "NameError",
     "evalue": "name 'df' is not defined",
     "output_type": "error",
     "traceback": [
      "\u001b[1;31m---------------------------------------------------------------------------\u001b[0m",
      "\u001b[1;31mNameError\u001b[0m                                 Traceback (most recent call last)",
      "\u001b[1;32m<ipython-input-18-7ed0097d7e9e>\u001b[0m in \u001b[0;36m<module>\u001b[1;34m()\u001b[0m\n\u001b[1;32m----> 1\u001b[1;33m \u001b[0mdf\u001b[0m\u001b[1;33m\u001b[0m\u001b[0m\n\u001b[0m",
      "\u001b[1;31mNameError\u001b[0m: name 'df' is not defined"
     ]
    }
   ],
   "source": [
    "df"
   ]
  },
  {
   "cell_type": "code",
   "execution_count": 19,
   "metadata": {
    "scrolled": true
   },
   "outputs": [
    {
     "ename": "NameError",
     "evalue": "name 'df' is not defined",
     "output_type": "error",
     "traceback": [
      "\u001b[1;31m---------------------------------------------------------------------------\u001b[0m",
      "\u001b[1;31mNameError\u001b[0m                                 Traceback (most recent call last)",
      "\u001b[1;32m<ipython-input-19-f7eca1985dd9>\u001b[0m in \u001b[0;36m<module>\u001b[1;34m()\u001b[0m\n\u001b[1;32m----> 1\u001b[1;33m \u001b[0minputs\u001b[0m \u001b[1;33m=\u001b[0m \u001b[0mdf\u001b[0m\u001b[1;33m[\u001b[0m\u001b[1;33m[\u001b[0m\u001b[1;34m'CHAS'\u001b[0m\u001b[1;33m,\u001b[0m \u001b[1;34m'RM'\u001b[0m\u001b[1;33m,\u001b[0m \u001b[1;34m'CRIM'\u001b[0m\u001b[1;33m]\u001b[0m\u001b[1;33m]\u001b[0m\u001b[1;33m\u001b[0m\u001b[0m\n\u001b[0m\u001b[0;32m      2\u001b[0m \u001b[0minputs\u001b[0m\u001b[1;33m\u001b[0m\u001b[0m\n",
      "\u001b[1;31mNameError\u001b[0m: name 'df' is not defined"
     ]
    }
   ],
   "source": [
    "inputs = df[['CHAS', 'RM', 'CRIM']]\n",
    "inputs"
   ]
  },
  {
   "cell_type": "code",
   "execution_count": 8,
   "metadata": {
    "scrolled": true
   },
   "outputs": [
    {
     "data": {
      "text/plain": [
       "0      24.0\n",
       "1      21.6\n",
       "2      34.7\n",
       "3      33.4\n",
       "4      36.2\n",
       "5      28.7\n",
       "6      22.9\n",
       "7      27.1\n",
       "8      16.5\n",
       "9      18.9\n",
       "10     15.0\n",
       "11     18.9\n",
       "12     21.7\n",
       "13     20.4\n",
       "14     18.2\n",
       "15     19.9\n",
       "16     23.1\n",
       "17     17.5\n",
       "18     20.2\n",
       "19     18.2\n",
       "20     13.6\n",
       "21     19.6\n",
       "22     15.2\n",
       "23     14.5\n",
       "24     15.6\n",
       "25     13.9\n",
       "26     16.6\n",
       "27     14.8\n",
       "28     18.4\n",
       "29     21.0\n",
       "       ... \n",
       "476    16.7\n",
       "477    12.0\n",
       "478    14.6\n",
       "479    21.4\n",
       "480    23.0\n",
       "481    23.7\n",
       "482    25.0\n",
       "483    21.8\n",
       "484    20.6\n",
       "485    21.2\n",
       "486    19.1\n",
       "487    20.6\n",
       "488    15.2\n",
       "489     7.0\n",
       "490     8.1\n",
       "491    13.6\n",
       "492    20.1\n",
       "493    21.8\n",
       "494    24.5\n",
       "495    23.1\n",
       "496    19.7\n",
       "497    18.3\n",
       "498    21.2\n",
       "499    17.5\n",
       "500    16.8\n",
       "501    22.4\n",
       "502    20.6\n",
       "503    23.9\n",
       "504    22.0\n",
       "505    11.9\n",
       "Name: MEDV, Length: 506, dtype: float64"
      ]
     },
     "execution_count": 8,
     "metadata": {},
     "output_type": "execute_result"
    }
   ],
   "source": [
    "output = df['MEDV']\n",
    "output"
   ]
  },
  {
   "cell_type": "code",
   "execution_count": 84,
   "metadata": {
    "collapsed": true
   },
   "outputs": [],
   "source": [
    "m = kr.models.Sequential()\n",
    "\n",
    "#m.add(kr.layers.Dense(10, input_dim=3, activation=\"linear\"))\n",
    "#m.add(kr.layers.Dense(30, input_dim=3, activation=\"sigmoid\"))\n",
    "m.add(kr.layers.Dense(13, input_dim=3, kernel_initializer=\"normal\", activation=\"relu\"))\n",
    "m.add(kr.layers.Dense(13, input_dim=3, kernel_initializer=\"normal\", activation=\"relu\"))\n",
    "m.add(kr.layers.Dense(13, input_dim=3, kernel_initializer=\"normal\", activation=\"relu\"))\n",
    "m.add(kr.layers.Dense(13, input_dim=3, kernel_initializer=\"normal\", activation=\"relu\"))\n",
    "m.add(kr.layers.Dense(13, input_dim=3, kernel_initializer=\"normal\", activation=\"relu\"))\n",
    "\n",
    "#m.compile(loss=\"mean_squared_error\", optimizer=\"adam\")\n",
    "m.compile(loss=\"mean_squared_error\", optimizer=\"adam\", metrics=['accuracy'])"
   ]
  },
  {
   "cell_type": "code",
   "execution_count": 85,
   "metadata": {
    "scrolled": true
   },
   "outputs": [
    {
     "ename": "ValueError",
     "evalue": "Error when checking target: expected dense_112 to have shape (13,) but got array with shape (1,)",
     "output_type": "error",
     "traceback": [
      "\u001b[1;31m---------------------------------------------------------------------------\u001b[0m",
      "\u001b[1;31mValueError\u001b[0m                                Traceback (most recent call last)",
      "\u001b[1;32m<ipython-input-85-9aa41117e34e>\u001b[0m in \u001b[0;36m<module>\u001b[1;34m()\u001b[0m\n\u001b[1;32m----> 1\u001b[1;33m \u001b[0mm\u001b[0m\u001b[1;33m.\u001b[0m\u001b[0mfit\u001b[0m\u001b[1;33m(\u001b[0m\u001b[0minputs\u001b[0m\u001b[1;33m,\u001b[0m \u001b[0moutput\u001b[0m\u001b[1;33m,\u001b[0m \u001b[0mepochs\u001b[0m\u001b[1;33m=\u001b[0m\u001b[1;36m100\u001b[0m\u001b[1;33m,\u001b[0m \u001b[0mbatch_size\u001b[0m\u001b[1;33m=\u001b[0m\u001b[1;36m10\u001b[0m\u001b[1;33m,\u001b[0m \u001b[0mverbose\u001b[0m\u001b[1;33m=\u001b[0m\u001b[1;36m1\u001b[0m\u001b[1;33m)\u001b[0m\u001b[1;33m\u001b[0m\u001b[0m\n\u001b[0m",
      "\u001b[1;32m~\\AppData\\Local\\Continuum\\anaconda3\\lib\\site-packages\\keras\\engine\\training.py\u001b[0m in \u001b[0;36mfit\u001b[1;34m(self, x, y, batch_size, epochs, verbose, callbacks, validation_split, validation_data, shuffle, class_weight, sample_weight, initial_epoch, steps_per_epoch, validation_steps, validation_freq, max_queue_size, workers, use_multiprocessing, **kwargs)\u001b[0m\n\u001b[0;32m   1152\u001b[0m             \u001b[0msample_weight\u001b[0m\u001b[1;33m=\u001b[0m\u001b[0msample_weight\u001b[0m\u001b[1;33m,\u001b[0m\u001b[1;33m\u001b[0m\u001b[0m\n\u001b[0;32m   1153\u001b[0m             \u001b[0mclass_weight\u001b[0m\u001b[1;33m=\u001b[0m\u001b[0mclass_weight\u001b[0m\u001b[1;33m,\u001b[0m\u001b[1;33m\u001b[0m\u001b[0m\n\u001b[1;32m-> 1154\u001b[1;33m             batch_size=batch_size)\n\u001b[0m\u001b[0;32m   1155\u001b[0m \u001b[1;33m\u001b[0m\u001b[0m\n\u001b[0;32m   1156\u001b[0m         \u001b[1;31m# Prepare validation data.\u001b[0m\u001b[1;33m\u001b[0m\u001b[1;33m\u001b[0m\u001b[0m\n",
      "\u001b[1;32m~\\AppData\\Local\\Continuum\\anaconda3\\lib\\site-packages\\keras\\engine\\training.py\u001b[0m in \u001b[0;36m_standardize_user_data\u001b[1;34m(self, x, y, sample_weight, class_weight, check_array_lengths, batch_size)\u001b[0m\n\u001b[0;32m    619\u001b[0m                 \u001b[0mfeed_output_shapes\u001b[0m\u001b[1;33m,\u001b[0m\u001b[1;33m\u001b[0m\u001b[0m\n\u001b[0;32m    620\u001b[0m                 \u001b[0mcheck_batch_axis\u001b[0m\u001b[1;33m=\u001b[0m\u001b[1;32mFalse\u001b[0m\u001b[1;33m,\u001b[0m  \u001b[1;31m# Don't enforce the batch size.\u001b[0m\u001b[1;33m\u001b[0m\u001b[0m\n\u001b[1;32m--> 621\u001b[1;33m                 exception_prefix='target')\n\u001b[0m\u001b[0;32m    622\u001b[0m \u001b[1;33m\u001b[0m\u001b[0m\n\u001b[0;32m    623\u001b[0m             \u001b[1;31m# Generate sample-wise weight values given the `sample_weight` and\u001b[0m\u001b[1;33m\u001b[0m\u001b[1;33m\u001b[0m\u001b[0m\n",
      "\u001b[1;32m~\\AppData\\Local\\Continuum\\anaconda3\\lib\\site-packages\\keras\\engine\\training_utils.py\u001b[0m in \u001b[0;36mstandardize_input_data\u001b[1;34m(data, names, shapes, check_batch_axis, exception_prefix)\u001b[0m\n\u001b[0;32m    143\u001b[0m                             \u001b[1;34m': expected '\u001b[0m \u001b[1;33m+\u001b[0m \u001b[0mnames\u001b[0m\u001b[1;33m[\u001b[0m\u001b[0mi\u001b[0m\u001b[1;33m]\u001b[0m \u001b[1;33m+\u001b[0m \u001b[1;34m' to have shape '\u001b[0m \u001b[1;33m+\u001b[0m\u001b[1;33m\u001b[0m\u001b[0m\n\u001b[0;32m    144\u001b[0m                             \u001b[0mstr\u001b[0m\u001b[1;33m(\u001b[0m\u001b[0mshape\u001b[0m\u001b[1;33m)\u001b[0m \u001b[1;33m+\u001b[0m \u001b[1;34m' but got array with shape '\u001b[0m \u001b[1;33m+\u001b[0m\u001b[1;33m\u001b[0m\u001b[0m\n\u001b[1;32m--> 145\u001b[1;33m                             str(data_shape))\n\u001b[0m\u001b[0;32m    146\u001b[0m     \u001b[1;32mreturn\u001b[0m \u001b[0mdata\u001b[0m\u001b[1;33m\u001b[0m\u001b[0m\n\u001b[0;32m    147\u001b[0m \u001b[1;33m\u001b[0m\u001b[0m\n",
      "\u001b[1;31mValueError\u001b[0m: Error when checking target: expected dense_112 to have shape (13,) but got array with shape (1,)"
     ]
    }
   ],
   "source": [
    "m.fit(inputs, output, epochs=100, batch_size=10, verbose=1)"
   ]
  },
  {
   "cell_type": "code",
   "execution_count": 53,
   "metadata": {
    "scrolled": true
   },
   "outputs": [
    {
     "data": {
      "text/plain": [
       "array([[26.994118 ],\n",
       "       [25.563202 ],\n",
       "       [32.55387  ],\n",
       "       [30.881802 ],\n",
       "       [32.23323  ],\n",
       "       [25.648794 ],\n",
       "       [21.688358 ],\n",
       "       [23.235432 ],\n",
       "       [17.997017 ],\n",
       "       [21.626    ],\n",
       "       [25.187914 ],\n",
       "       [21.66612  ],\n",
       "       [20.500017 ],\n",
       "       [20.977097 ],\n",
       "       [22.377527 ],\n",
       "       [19.871883 ],\n",
       "       [20.519764 ],\n",
       "       [21.26658  ],\n",
       "       [16.119356 ],\n",
       "       [18.784294 ],\n",
       "       [16.93924  ],\n",
       "       [20.976389 ],\n",
       "       [22.263062 ],\n",
       "       [19.424358 ],\n",
       "       [20.661356 ],\n",
       "       [17.481613 ],\n",
       "       [19.644894 ],\n",
       "       [21.662632 ],\n",
       "       [26.02308  ],\n",
       "       [27.412775 ],\n",
       "       [18.367281 ],\n",
       "       [21.486752 ],\n",
       "       [20.33873  ],\n",
       "       [18.238361 ],\n",
       "       [21.420778 ],\n",
       "       [20.918495 ],\n",
       "       [20.034494 ],\n",
       "       [20.117693 ],\n",
       "       [21.259617 ],\n",
       "       [27.18944  ],\n",
       "       [31.11663  ],\n",
       "       [28.83743  ],\n",
       "       [23.206295 ],\n",
       "       [23.609644 ],\n",
       "       [22.24472  ],\n",
       "       [18.49423  ],\n",
       "       [19.51293  ],\n",
       "       [21.879732 ],\n",
       "       [15.708518 ],\n",
       "       [17.712358 ],\n",
       "       [21.215471 ],\n",
       "       [22.664715 ],\n",
       "       [26.416756 ],\n",
       "       [21.542112 ],\n",
       "       [20.465008 ],\n",
       "       [33.114113 ],\n",
       "       [25.202808 ],\n",
       "       [29.220583 ],\n",
       "       [22.97872  ],\n",
       "       [20.87065  ],\n",
       "       [19.06902  ],\n",
       "       [21.25928  ],\n",
       "       [25.918285 ],\n",
       "       [28.763748 ],\n",
       "       [31.827946 ],\n",
       "       [24.329893 ],\n",
       "       [19.493334 ],\n",
       "       [20.383375 ],\n",
       "       [17.624548 ],\n",
       "       [20.468483 ],\n",
       "       [25.546288 ],\n",
       "       [21.209452 ],\n",
       "       [22.199364 ],\n",
       "       [23.936666 ],\n",
       "       [24.182894 ],\n",
       "       [24.310623 ],\n",
       "       [24.2458   ],\n",
       "       [22.917467 ],\n",
       "       [23.786304 ],\n",
       "       [20.351904 ],\n",
       "       [28.415718 ],\n",
       "       [27.419062 ],\n",
       "       [24.443888 ],\n",
       "       [23.159351 ],\n",
       "       [25.27087  ],\n",
       "       [27.525772 ],\n",
       "       [21.706682 ],\n",
       "       [22.73122  ],\n",
       "       [30.973064 ],\n",
       "       [31.618984 ],\n",
       "       [25.53308  ],\n",
       "       [25.417416 ],\n",
       "       [25.766207 ],\n",
       "       [23.576494 ],\n",
       "       [23.943327 ],\n",
       "       [27.49786  ],\n",
       "       [23.144062 ],\n",
       "       [40.1592   ],\n",
       "       [38.07354  ],\n",
       "       [34.605854 ],\n",
       "       [28.445879 ],\n",
       "       [28.935442 ],\n",
       "       [25.451805 ],\n",
       "       [22.9068   ],\n",
       "       [23.186874 ],\n",
       "       [20.138943 ],\n",
       "       [19.998451 ],\n",
       "       [22.802753 ],\n",
       "       [26.09089  ],\n",
       "       [23.783924 ],\n",
       "       [23.448063 ],\n",
       "       [28.32507  ],\n",
       "       [20.739166 ],\n",
       "       [22.475704 ],\n",
       "       [24.016518 ],\n",
       "       [20.891598 ],\n",
       "       [23.271486 ],\n",
       "       [21.787533 ],\n",
       "       [20.342686 ],\n",
       "       [18.97053  ],\n",
       "       [20.308983 ],\n",
       "       [21.606699 ],\n",
       "       [21.197206 ],\n",
       "       [20.190367 ],\n",
       "       [20.404068 ],\n",
       "       [21.452188 ],\n",
       "       [17.8079   ],\n",
       "       [18.605902 ],\n",
       "       [25.686363 ],\n",
       "       [17.822073 ],\n",
       "       [25.936768 ],\n",
       "       [23.997187 ],\n",
       "       [25.018948 ],\n",
       "       [19.858948 ],\n",
       "       [18.90235  ],\n",
       "       [24.690584 ],\n",
       "       [21.023561 ],\n",
       "       [25.896326 ],\n",
       "       [20.205946 ],\n",
       "       [22.955135 ],\n",
       "       [23.257032 ],\n",
       "       [11.775824 ],\n",
       "       [21.11492  ],\n",
       "       [17.506283 ],\n",
       "       [11.852381 ],\n",
       "       [21.012848 ],\n",
       "       [17.028147 ],\n",
       "       [11.464064 ],\n",
       "       [13.483585 ],\n",
       "       [16.878    ],\n",
       "       [21.603199 ],\n",
       "       [15.273833 ],\n",
       "       [15.565702 ],\n",
       "       [17.699871 ],\n",
       "       [25.04055  ],\n",
       "       [25.761017 ],\n",
       "       [14.2396965],\n",
       "       [29.502579 ],\n",
       "       [21.444853 ],\n",
       "       [25.347256 ],\n",
       "       [26.097124 ],\n",
       "       [33.75721  ],\n",
       "       [37.666172 ],\n",
       "       [42.370365 ],\n",
       "       [18.86009  ],\n",
       "       [20.593771 ],\n",
       "       [36.01367  ],\n",
       "       [19.317076 ],\n",
       "       [22.590393 ],\n",
       "       [23.107677 ],\n",
       "       [19.81869  ],\n",
       "       [19.043676 ],\n",
       "       [17.408478 ],\n",
       "       [25.537836 ],\n",
       "       [20.206327 ],\n",
       "       [26.74796  ],\n",
       "       [21.760513 ],\n",
       "       [24.5733   ],\n",
       "       [29.64381  ],\n",
       "       [30.729847 ],\n",
       "       [37.602898 ],\n",
       "       [22.950617 ],\n",
       "       [32.312157 ],\n",
       "       [26.916252 ],\n",
       "       [17.711735 ],\n",
       "       [23.034098 ],\n",
       "       [38.155    ],\n",
       "       [28.934652 ],\n",
       "       [26.85696  ],\n",
       "       [32.576836 ],\n",
       "       [30.478825 ],\n",
       "       [28.536484 ],\n",
       "       [32.515556 ],\n",
       "       [29.077679 ],\n",
       "       [27.267279 ],\n",
       "       [38.50215  ],\n",
       "       [33.46263  ],\n",
       "       [31.867096 ],\n",
       "       [33.34687  ],\n",
       "       [30.673763 ],\n",
       "       [32.10403  ],\n",
       "       [23.1112   ],\n",
       "       [36.261856 ],\n",
       "       [38.329475 ],\n",
       "       [39.826443 ],\n",
       "       [20.52815  ],\n",
       "       [24.70599  ],\n",
       "       [19.485569 ],\n",
       "       [24.88791  ],\n",
       "       [18.347223 ],\n",
       "       [23.94934  ],\n",
       "       [18.891916 ],\n",
       "       [22.563292 ],\n",
       "       [25.16215  ],\n",
       "       [15.83719  ],\n",
       "       [23.336449 ],\n",
       "       [23.298431 ],\n",
       "       [27.641354 ],\n",
       "       [23.870525 ],\n",
       "       [27.645506 ],\n",
       "       [32.593605 ],\n",
       "       [25.732096 ],\n",
       "       [31.82216  ],\n",
       "       [27.294579 ],\n",
       "       [41.77758  ],\n",
       "       [45.306213 ],\n",
       "       [39.91325  ],\n",
       "       [32.366127 ],\n",
       "       [36.96292  ],\n",
       "       [26.782358 ],\n",
       "       [21.33271  ],\n",
       "       [34.539112 ],\n",
       "       [42.21543  ],\n",
       "       [41.62063  ],\n",
       "       [30.62508  ],\n",
       "       [22.409033 ],\n",
       "       [29.769232 ],\n",
       "       [34.03767  ],\n",
       "       [26.14539  ],\n",
       "       [27.314213 ],\n",
       "       [29.994932 ],\n",
       "       [22.49092  ],\n",
       "       [24.994005 ],\n",
       "       [25.32954  ],\n",
       "       [17.623062 ],\n",
       "       [17.740015 ],\n",
       "       [22.618185 ],\n",
       "       [23.755909 ],\n",
       "       [25.711748 ],\n",
       "       [28.3678   ],\n",
       "       [26.21494  ],\n",
       "       [25.762165 ],\n",
       "       [30.530485 ],\n",
       "       [41.707417 ],\n",
       "       [22.599289 ],\n",
       "       [20.356613 ],\n",
       "       [34.912052 ],\n",
       "       [45.07389  ],\n",
       "       [33.697277 ],\n",
       "       [29.315859 ],\n",
       "       [32.65138  ],\n",
       "       [35.433586 ],\n",
       "       [42.74596  ],\n",
       "       [33.466614 ],\n",
       "       [32.67105  ],\n",
       "       [17.14898  ],\n",
       "       [30.742744 ],\n",
       "       [41.891327 ],\n",
       "       [34.995693 ],\n",
       "       [23.590115 ],\n",
       "       [20.19315  ],\n",
       "       [23.886143 ],\n",
       "       [26.686666 ],\n",
       "       [38.795795 ],\n",
       "       [31.021484 ],\n",
       "       [29.598564 ],\n",
       "       [35.347073 ],\n",
       "       [31.608612 ],\n",
       "       [26.15397  ],\n",
       "       [29.232527 ],\n",
       "       [38.05263  ],\n",
       "       [30.61292  ],\n",
       "       [38.46839  ],\n",
       "       [40.70418  ],\n",
       "       [31.679552 ],\n",
       "       [25.856739 ],\n",
       "       [23.753782 ],\n",
       "       [23.561167 ],\n",
       "       [24.570393 ],\n",
       "       [26.91657  ],\n",
       "       [29.640675 ],\n",
       "       [32.245678 ],\n",
       "       [27.517723 ],\n",
       "       [22.791834 ],\n",
       "       [21.657782 ],\n",
       "       [27.990189 ],\n",
       "       [26.771486 ],\n",
       "       [19.54626  ],\n",
       "       [24.860455 ],\n",
       "       [31.278826 ],\n",
       "       [29.735601 ],\n",
       "       [27.146154 ],\n",
       "       [26.279337 ],\n",
       "       [30.762041 ],\n",
       "       [33.018612 ],\n",
       "       [27.395012 ],\n",
       "       [34.643227 ],\n",
       "       [29.53709  ],\n",
       "       [27.528679 ],\n",
       "       [21.308737 ],\n",
       "       [12.15396  ],\n",
       "       [22.51408  ],\n",
       "       [21.811428 ],\n",
       "       [24.135283 ],\n",
       "       [26.94796  ],\n",
       "       [18.72349  ],\n",
       "       [20.753296 ],\n",
       "       [19.47592  ],\n",
       "       [25.205013 ],\n",
       "       [22.624756 ],\n",
       "       [25.646309 ],\n",
       "       [25.176708 ],\n",
       "       [21.972948 ],\n",
       "       [18.751673 ],\n",
       "       [25.532635 ],\n",
       "       [25.695457 ],\n",
       "       [24.567577 ],\n",
       "       [22.389206 ],\n",
       "       [20.288742 ],\n",
       "       [24.747845 ],\n",
       "       [22.943054 ],\n",
       "       [18.703735 ],\n",
       "       [21.854898 ],\n",
       "       [24.581589 ],\n",
       "       [24.519943 ],\n",
       "       [21.914408 ],\n",
       "       [20.288221 ],\n",
       "       [20.539196 ],\n",
       "       [22.123653 ],\n",
       "       [21.418339 ],\n",
       "       [21.256193 ],\n",
       "       [33.04332  ],\n",
       "       [26.676403 ],\n",
       "       [28.123512 ],\n",
       "       [29.757149 ],\n",
       "       [21.689884 ],\n",
       "       [20.578585 ],\n",
       "       [26.449743 ],\n",
       "       [27.555033 ],\n",
       "       [30.346899 ],\n",
       "       [26.223282 ],\n",
       "       [27.059425 ],\n",
       "       [20.4459   ],\n",
       "       [28.414642 ],\n",
       "       [18.2799   ],\n",
       "       [20.95853  ],\n",
       "       [24.55464  ],\n",
       "       [27.378956 ],\n",
       "       [27.250498 ],\n",
       "       [21.30178  ],\n",
       "       [23.0232   ],\n",
       "       [21.8036   ],\n",
       "       [16.297379 ],\n",
       "       [24.720747 ],\n",
       "       [41.1309   ],\n",
       "       [ 6.745449 ],\n",
       "       [13.874076 ],\n",
       "       [12.122572 ],\n",
       "       [15.575574 ],\n",
       "       [29.857246 ],\n",
       "       [30.958096 ],\n",
       "       [19.270012 ],\n",
       "       [24.18993  ],\n",
       "       [14.476294 ],\n",
       "       [12.673691 ],\n",
       "       [17.137516 ],\n",
       "       [16.97143  ],\n",
       "       [20.629215 ],\n",
       "       [15.496938 ],\n",
       "       [16.102997 ],\n",
       "       [13.937762 ],\n",
       "       [16.737381 ],\n",
       "       [16.93308  ],\n",
       "       [17.677933 ],\n",
       "       [12.976276 ],\n",
       "       [14.821404 ],\n",
       "       [13.070848 ],\n",
       "       [13.746841 ],\n",
       "       [14.273109 ],\n",
       "       [17.040648 ],\n",
       "       [19.3143   ],\n",
       "       [21.602406 ],\n",
       "       [14.736173 ],\n",
       "       [19.787828 ],\n",
       "       [16.171135 ],\n",
       "       [20.786667 ],\n",
       "       [23.343369 ],\n",
       "       [18.89514  ],\n",
       "       [13.27326  ],\n",
       "       [17.493074 ],\n",
       "       [14.785155 ],\n",
       "       [16.744812 ],\n",
       "       [19.557999 ],\n",
       "       [13.989078 ],\n",
       "       [13.286292 ],\n",
       "       [13.596673 ],\n",
       "       [12.535916 ],\n",
       "       [15.946041 ],\n",
       "       [18.536304 ],\n",
       "       [17.473078 ],\n",
       "       [13.410496 ],\n",
       "       [17.290625 ],\n",
       "       [13.536941 ],\n",
       "       [13.393028 ],\n",
       "       [12.7583685],\n",
       "       [16.346214 ],\n",
       "       [19.508688 ],\n",
       "       [13.806388 ],\n",
       "       [13.712152 ],\n",
       "       [18.781982 ],\n",
       "       [18.272095 ],\n",
       "       [20.647404 ],\n",
       "       [16.006943 ],\n",
       "       [21.076813 ],\n",
       "       [17.290491 ],\n",
       "       [15.854953 ],\n",
       "       [16.350065 ],\n",
       "       [13.824843 ],\n",
       "       [21.176117 ],\n",
       "       [19.742569 ],\n",
       "       [20.567474 ],\n",
       "       [20.479654 ],\n",
       "       [23.134058 ],\n",
       "       [23.545881 ],\n",
       "       [16.600998 ],\n",
       "       [18.796406 ],\n",
       "       [16.884714 ],\n",
       "       [16.2988   ],\n",
       "       [16.193407 ],\n",
       "       [17.113852 ],\n",
       "       [15.000851 ],\n",
       "       [19.434513 ],\n",
       "       [22.472263 ],\n",
       "       [19.451826 ],\n",
       "       [16.233501 ],\n",
       "       [18.727915 ],\n",
       "       [22.836695 ],\n",
       "       [18.739994 ],\n",
       "       [19.066645 ],\n",
       "       [22.008265 ],\n",
       "       [24.426834 ],\n",
       "       [24.601345 ],\n",
       "       [22.78109  ],\n",
       "       [25.200644 ],\n",
       "       [20.772837 ],\n",
       "       [23.78164  ],\n",
       "       [20.894606 ],\n",
       "       [19.213188 ],\n",
       "       [21.232376 ],\n",
       "       [21.195436 ],\n",
       "       [24.686916 ],\n",
       "       [22.498808 ],\n",
       "       [22.448212 ],\n",
       "       [23.880056 ],\n",
       "       [20.734745 ],\n",
       "       [18.278557 ],\n",
       "       [19.98148  ],\n",
       "       [20.840815 ],\n",
       "       [15.926455 ],\n",
       "       [15.909843 ],\n",
       "       [21.668953 ],\n",
       "       [21.79357  ],\n",
       "       [22.856121 ],\n",
       "       [26.042236 ],\n",
       "       [17.252266 ],\n",
       "       [21.898033 ],\n",
       "       [23.627672 ],\n",
       "       [14.995394 ],\n",
       "       [18.278967 ],\n",
       "       [16.547426 ],\n",
       "       [22.557999 ],\n",
       "       [25.031786 ],\n",
       "       [26.462257 ],\n",
       "       [18.12571  ],\n",
       "       [18.950495 ],\n",
       "       [22.101545 ],\n",
       "       [21.945498 ],\n",
       "       [20.638561 ],\n",
       "       [16.244692 ],\n",
       "       [15.852655 ],\n",
       "       [12.654494 ],\n",
       "       [21.412748 ],\n",
       "       [21.413965 ],\n",
       "       [18.73939  ],\n",
       "       [20.873634 ],\n",
       "       [18.377361 ],\n",
       "       [15.619215 ],\n",
       "       [19.592249 ],\n",
       "       [21.7737   ],\n",
       "       [17.384264 ],\n",
       "       [21.850815 ],\n",
       "       [27.184172 ],\n",
       "       [22.713276 ],\n",
       "       [30.69482  ],\n",
       "       [29.053492 ],\n",
       "       [21.849697 ]], dtype=float32)"
      ]
     },
     "execution_count": 53,
     "metadata": {},
     "output_type": "execute_result"
    }
   ],
   "source": [
    "m.predict(inputs)"
   ]
  },
  {
   "cell_type": "code",
   "execution_count": 54,
   "metadata": {
    "scrolled": true
   },
   "outputs": [
    {
     "name": "stderr",
     "output_type": "stream",
     "text": [
      "C:\\Users\\gerardh\\AppData\\Local\\Continuum\\anaconda3\\lib\\site-packages\\ipykernel_launcher.py:1: FutureWarning: Method .as_matrix will be removed in a future version. Use .values instead.\n",
      "  \"\"\"Entry point for launching an IPython kernel.\n"
     ]
    },
    {
     "data": {
      "text/plain": [
       "array([24. , 21.6, 34.7, 33.4, 36.2, 28.7, 22.9, 27.1, 16.5, 18.9, 15. ,\n",
       "       18.9, 21.7, 20.4, 18.2, 19.9, 23.1, 17.5, 20.2, 18.2, 13.6, 19.6,\n",
       "       15.2, 14.5, 15.6, 13.9, 16.6, 14.8, 18.4, 21. , 12.7, 14.5, 13.2,\n",
       "       13.1, 13.5, 18.9, 20. , 21. , 24.7, 30.8, 34.9, 26.6, 25.3, 24.7,\n",
       "       21.2, 19.3, 20. , 16.6, 14.4, 19.4, 19.7, 20.5, 25. , 23.4, 18.9,\n",
       "       35.4, 24.7, 31.6, 23.3, 19.6, 18.7, 16. , 22.2, 25. , 33. , 23.5,\n",
       "       19.4, 22. , 17.4, 20.9, 24.2, 21.7, 22.8, 23.4, 24.1, 21.4, 20. ,\n",
       "       20.8, 21.2, 20.3, 28. , 23.9, 24.8, 22.9, 23.9, 26.6, 22.5, 22.2,\n",
       "       23.6, 28.7, 22.6, 22. , 22.9, 25. , 20.6, 28.4, 21.4, 38.7, 43.8,\n",
       "       33.2, 27.5, 26.5, 18.6, 19.3, 20.1, 19.5, 19.5, 20.4, 19.8, 19.4,\n",
       "       21.7, 22.8, 18.8, 18.7, 18.5, 18.3, 21.2, 19.2, 20.4, 19.3, 22. ,\n",
       "       20.3, 20.5, 17.3, 18.8, 21.4, 15.7, 16.2, 18. , 14.3, 19.2, 19.6,\n",
       "       23. , 18.4, 15.6, 18.1, 17.4, 17.1, 13.3, 17.8, 14. , 14.4, 13.4,\n",
       "       15.6, 11.8, 13.8, 15.6, 14.6, 17.8, 15.4, 21.5, 19.6, 15.3, 19.4,\n",
       "       17. , 15.6, 13.1, 41.3, 24.3, 23.3, 27. , 50. , 50. , 50. , 22.7,\n",
       "       25. , 50. , 23.8, 23.8, 22.3, 17.4, 19.1, 23.1, 23.6, 22.6, 29.4,\n",
       "       23.2, 24.6, 29.9, 37.2, 39.8, 36.2, 37.9, 32.5, 26.4, 29.6, 50. ,\n",
       "       32. , 29.8, 34.9, 37. , 30.5, 36.4, 31.1, 29.1, 50. , 33.3, 30.3,\n",
       "       34.6, 34.9, 32.9, 24.1, 42.3, 48.5, 50. , 22.6, 24.4, 22.5, 24.4,\n",
       "       20. , 21.7, 19.3, 22.4, 28.1, 23.7, 25. , 23.3, 28.7, 21.5, 23. ,\n",
       "       26.7, 21.7, 27.5, 30.1, 44.8, 50. , 37.6, 31.6, 46.7, 31.5, 24.3,\n",
       "       31.7, 41.7, 48.3, 29. , 24. , 25.1, 31.5, 23.7, 23.3, 22. , 20.1,\n",
       "       22.2, 23.7, 17.6, 18.5, 24.3, 20.5, 24.5, 26.2, 24.4, 24.8, 29.6,\n",
       "       42.8, 21.9, 20.9, 44. , 50. , 36. , 30.1, 33.8, 43.1, 48.8, 31. ,\n",
       "       36.5, 22.8, 30.7, 50. , 43.5, 20.7, 21.1, 25.2, 24.4, 35.2, 32.4,\n",
       "       32. , 33.2, 33.1, 29.1, 35.1, 45.4, 35.4, 46. , 50. , 32.2, 22. ,\n",
       "       20.1, 23.2, 22.3, 24.8, 28.5, 37.3, 27.9, 23.9, 21.7, 28.6, 27.1,\n",
       "       20.3, 22.5, 29. , 24.8, 22. , 26.4, 33.1, 36.1, 28.4, 33.4, 28.2,\n",
       "       22.8, 20.3, 16.1, 22.1, 19.4, 21.6, 23.8, 16.2, 17.8, 19.8, 23.1,\n",
       "       21. , 23.8, 23.1, 20.4, 18.5, 25. , 24.6, 23. , 22.2, 19.3, 22.6,\n",
       "       19.8, 17.1, 19.4, 22.2, 20.7, 21.1, 19.5, 18.5, 20.6, 19. , 18.7,\n",
       "       32.7, 16.5, 23.9, 31.2, 17.5, 17.2, 23.1, 24.5, 26.6, 22.9, 24.1,\n",
       "       18.6, 30.1, 18.2, 20.6, 17.8, 21.7, 22.7, 22.6, 25. , 19.9, 20.8,\n",
       "       16.8, 21.9, 27.5, 21.9, 23.1, 50. , 50. , 50. , 50. , 50. , 13.8,\n",
       "       13.8, 15. , 13.9, 13.3, 13.1, 10.2, 10.4, 10.9, 11.3, 12.3,  8.8,\n",
       "        7.2, 10.5,  7.4, 10.2, 11.5, 15.1, 23.2,  9.7, 13.8, 12.7, 13.1,\n",
       "       12.5,  8.5,  5. ,  6.3,  5.6,  7.2, 12.1,  8.3,  8.5,  5. , 11.9,\n",
       "       27.9, 17.2, 27.5, 15. , 17.2, 17.9, 16.3,  7. ,  7.2,  7.5, 10.4,\n",
       "        8.8,  8.4, 16.7, 14.2, 20.8, 13.4, 11.7,  8.3, 10.2, 10.9, 11. ,\n",
       "        9.5, 14.5, 14.1, 16.1, 14.3, 11.7, 13.4,  9.6,  8.7,  8.4, 12.8,\n",
       "       10.5, 17.1, 18.4, 15.4, 10.8, 11.8, 14.9, 12.6, 14.1, 13. , 13.4,\n",
       "       15.2, 16.1, 17.8, 14.9, 14.1, 12.7, 13.5, 14.9, 20. , 16.4, 17.7,\n",
       "       19.5, 20.2, 21.4, 19.9, 19. , 19.1, 19.1, 20.1, 19.9, 19.6, 23.2,\n",
       "       29.8, 13.8, 13.3, 16.7, 12. , 14.6, 21.4, 23. , 23.7, 25. , 21.8,\n",
       "       20.6, 21.2, 19.1, 20.6, 15.2,  7. ,  8.1, 13.6, 20.1, 21.8, 24.5,\n",
       "       23.1, 19.7, 18.3, 21.2, 17.5, 16.8, 22.4, 20.6, 23.9, 22. , 11.9])"
      ]
     },
     "execution_count": 54,
     "metadata": {},
     "output_type": "execute_result"
    }
   ],
   "source": [
    "output.as_matrix()"
   ]
  },
  {
   "cell_type": "code",
   "execution_count": 55,
   "metadata": {
    "scrolled": true
   },
   "outputs": [
    {
     "data": {
      "text/plain": [
       "array([[27., 26., 33., 31., 32., 26., 22., 23., 18., 22., 25., 22., 21.,\n",
       "        21., 22., 20., 21., 21., 16., 19., 17., 21., 22., 19., 21., 17.,\n",
       "        20., 22., 26., 27., 18., 21., 20., 18., 21., 21., 20., 20., 21.,\n",
       "        27., 31., 29., 23., 24., 22., 18., 20., 22., 16., 18., 21., 23.,\n",
       "        26., 22., 20., 33., 25., 29., 23., 21., 19., 21., 26., 29., 32.,\n",
       "        24., 19., 20., 18., 20., 26., 21., 22., 24., 24., 24., 24., 23.,\n",
       "        24., 20., 28., 27., 24., 23., 25., 28., 22., 23., 31., 32., 26.,\n",
       "        25., 26., 24., 24., 27., 23., 40., 38., 35., 28., 29., 25., 23.,\n",
       "        23., 20., 20., 23., 26., 24., 23., 28., 21., 22., 24., 21., 23.,\n",
       "        22., 20., 19., 20., 22., 21., 20., 20., 21., 18., 19., 26., 18.,\n",
       "        26., 24., 25., 20., 19., 25., 21., 26., 20., 23., 23., 12., 21.,\n",
       "        18., 12., 21., 17., 11., 13., 17., 22., 15., 16., 18., 25., 26.,\n",
       "        14., 30., 21., 25., 26., 34., 38., 42., 19., 21., 36., 19., 23.,\n",
       "        23., 20., 19., 17., 26., 20., 27., 22., 25., 30., 31., 38., 23.,\n",
       "        32., 27., 18., 23., 38., 29., 27., 33., 30., 29., 33., 29., 27.,\n",
       "        39., 33., 32., 33., 31., 32., 23., 36., 38., 40., 21., 25., 19.,\n",
       "        25., 18., 24., 19., 23., 25., 16., 23., 23., 28., 24., 28., 33.,\n",
       "        26., 32., 27., 42., 45., 40., 32., 37., 27., 21., 35., 42., 42.,\n",
       "        31., 22., 30., 34., 26., 27., 30., 22., 25., 25., 18., 18., 23.,\n",
       "        24., 26., 28., 26., 26., 31., 42., 23., 20., 35., 45., 34., 29.,\n",
       "        33., 35., 43., 33., 33., 17., 31., 42., 35., 24., 20., 24., 27.,\n",
       "        39., 31., 30., 35., 32., 26., 29., 38., 31., 38., 41., 32., 26.,\n",
       "        24., 24., 25., 27., 30., 32., 28., 23., 22., 28., 27., 20., 25.,\n",
       "        31., 30., 27., 26., 31., 33., 27., 35., 30., 28., 21., 12., 23.,\n",
       "        22., 24., 27., 19., 21., 19., 25., 23., 26., 25., 22., 19., 26.,\n",
       "        26., 25., 22., 20., 25., 23., 19., 22., 25., 25., 22., 20., 21.,\n",
       "        22., 21., 21., 33., 27., 28., 30., 22., 21., 26., 28., 30., 26.,\n",
       "        27., 20., 28., 18., 21., 25., 27., 27., 21., 23., 22., 16., 25.,\n",
       "        41.,  7., 14., 12., 16., 30., 31., 19., 24., 14., 13., 17., 17.,\n",
       "        21., 15., 16., 14., 17., 17., 18., 13., 15., 13., 14., 14., 17.,\n",
       "        19., 22., 15., 20., 16., 21., 23., 19., 13., 17., 15., 17., 20.,\n",
       "        14., 13., 14., 13., 16., 19., 17., 13., 17., 14., 13., 13., 16.,\n",
       "        20., 14., 14., 19., 18., 21., 16., 21., 17., 16., 16., 14., 21.,\n",
       "        20., 21., 20., 23., 24., 17., 19., 17., 16., 16., 17., 15., 19.,\n",
       "        22., 19., 16., 19., 23., 19., 19., 22., 24., 25., 23., 25., 21.,\n",
       "        24., 21., 19., 21., 21., 25., 22., 22., 24., 21., 18., 20., 21.,\n",
       "        16., 16., 22., 22., 23., 26., 17., 22., 24., 15., 18., 17., 23.,\n",
       "        25., 26., 18., 19., 22., 22., 21., 16., 16., 13., 21., 21., 19.,\n",
       "        21., 18., 16., 20., 22., 17., 22., 27., 23., 31., 29., 22.]],\n",
       "      dtype=float32)"
      ]
     },
     "execution_count": 55,
     "metadata": {},
     "output_type": "execute_result"
    }
   ],
   "source": [
    "np.around(m.predict(inputs).T)"
   ]
  },
  {
   "cell_type": "code",
   "execution_count": 56,
   "metadata": {
    "scrolled": true
   },
   "outputs": [
    {
     "name": "stderr",
     "output_type": "stream",
     "text": [
      "C:\\Users\\gerardh\\AppData\\Local\\Continuum\\anaconda3\\lib\\site-packages\\ipykernel_launcher.py:1: FutureWarning: Method .as_matrix will be removed in a future version. Use .values instead.\n",
      "  \"\"\"Entry point for launching an IPython kernel.\n"
     ]
    },
    {
     "data": {
      "text/plain": [
       "array([[ 2.99411774e+00,  3.96320190e+00, -2.14612885e+00,\n",
       "        -2.51819839e+00, -3.96676941e+00, -3.05120583e+00,\n",
       "        -1.21164169e+00, -3.86456833e+00,  1.49701691e+00,\n",
       "         2.72599945e+00,  1.01879139e+01,  2.76612053e+00,\n",
       "        -1.19998283e+00,  5.77096558e-01,  4.17752724e+00,\n",
       "        -2.81166077e-02, -2.58023605e+00,  3.76658058e+00,\n",
       "        -4.08064384e+00,  5.84294128e-01,  3.33923950e+00,\n",
       "         1.37638893e+00,  7.06306152e+00,  4.92435837e+00,\n",
       "         5.06135597e+00,  3.58161316e+00,  3.04489365e+00,\n",
       "         6.86263199e+00,  7.62308083e+00,  6.41277504e+00,\n",
       "         5.66728096e+00,  6.98675156e+00,  7.13872986e+00,\n",
       "         5.13836136e+00,  7.92077827e+00,  2.01849518e+00,\n",
       "         3.44944000e-02, -8.82307053e-01, -3.44038315e+00,\n",
       "        -3.61056023e+00, -3.78336945e+00,  2.23742905e+00,\n",
       "        -2.09370499e+00, -1.09035606e+00,  1.04472046e+00,\n",
       "        -8.05769730e-01, -4.87070084e-01,  5.27973213e+00,\n",
       "         1.30851803e+00, -1.68764153e+00,  1.51547127e+00,\n",
       "         2.16471481e+00,  1.41675568e+00, -1.85788765e+00,\n",
       "         1.56500778e+00, -2.28588715e+00,  5.02808380e-01,\n",
       "        -2.37941704e+00, -3.21280289e-01,  1.27064934e+00,\n",
       "         3.69019318e-01,  5.25927925e+00,  3.71828537e+00,\n",
       "         3.76374817e+00, -1.17205429e+00,  8.29893112e-01,\n",
       "         9.33338165e-02, -1.61662483e+00,  2.24547958e-01,\n",
       "        -4.31517029e-01,  1.34628754e+00, -4.90548325e-01,\n",
       "        -6.00636292e-01,  5.36666489e-01,  8.28937531e-02,\n",
       "         2.91062317e+00,  4.24580002e+00,  2.11746712e+00,\n",
       "         2.58630447e+00,  5.19039154e-02,  4.15718079e-01,\n",
       "         3.51906166e+00, -3.56112289e-01,  2.59351349e-01,\n",
       "         1.37087021e+00,  9.25772095e-01, -7.93317795e-01,\n",
       "         5.31220245e-01,  7.37306442e+00,  2.91898422e+00,\n",
       "         2.93307915e+00,  3.41741562e+00,  2.86620674e+00,\n",
       "        -1.42350578e+00,  3.34332695e+00, -9.02140045e-01,\n",
       "         1.74406204e+00,  1.45919876e+00, -5.72646027e+00,\n",
       "         1.40585403e+00,  9.45878983e-01,  2.43544197e+00,\n",
       "         6.85180511e+00,  3.60679932e+00,  3.08687439e+00,\n",
       "         6.38942719e-01,  4.98451233e-01,  2.40275345e+00,\n",
       "         6.29089088e+00,  4.38392410e+00,  1.74806290e+00,\n",
       "         5.52506943e+00,  1.93916626e+00,  3.77570419e+00,\n",
       "         5.51651764e+00,  2.59159775e+00,  2.07148628e+00,\n",
       "         2.58753281e+00, -5.73143005e-02, -3.29470444e-01,\n",
       "        -1.69101715e+00,  1.30669899e+00,  6.97206497e-01,\n",
       "         2.89036674e+00,  1.60406799e+00,  5.21884918e-02,\n",
       "         2.10789948e+00,  2.40590172e+00,  7.68636322e+00,\n",
       "         3.52207298e+00,  6.73676758e+00,  4.39718666e+00,\n",
       "         2.01894760e+00,  1.45894775e+00,  3.30234947e+00,\n",
       "         6.59058418e+00,  3.62356148e+00,  8.79632607e+00,\n",
       "         6.90594597e+00,  5.15513535e+00,  9.25703239e+00,\n",
       "        -2.62417641e+00,  7.71491966e+00,  1.90628281e+00,\n",
       "         5.23807526e-02,  7.21284790e+00,  1.42814674e+00,\n",
       "        -3.13593636e+00, -4.31641464e+00,  1.47800026e+00,\n",
       "         1.03199005e-01, -4.32616673e+00,  2.65702438e-01,\n",
       "        -1.70012894e+00,  8.04055023e+00,  1.01610168e+01,\n",
       "         1.13969650e+00, -1.17974213e+01, -2.85514717e+00,\n",
       "         2.04725571e+00, -9.02875900e-01, -1.62427902e+01,\n",
       "        -1.23338280e+01, -7.62963486e+00, -3.83990974e+00,\n",
       "        -4.40622902e+00, -1.39863281e+01, -4.48292427e+00,\n",
       "        -1.20960693e+00,  8.07677460e-01,  2.41868935e+00,\n",
       "        -5.63236237e-02, -5.69152222e+00,  1.93783607e+00,\n",
       "        -2.39367256e+00, -2.65204086e+00, -1.43948669e+00,\n",
       "        -2.67005920e-02, -2.56189728e-01, -6.47015305e+00,\n",
       "        -2.19710236e+00, -1.32493832e+01, -5.58784332e+00,\n",
       "        -5.58374786e+00, -8.68826523e+00, -6.56590233e+00,\n",
       "        -1.18450012e+01, -3.06534767e+00, -2.94303970e+00,\n",
       "        -2.32316437e+00, -6.52117538e+00, -1.96351624e+00,\n",
       "        -3.88444366e+00, -2.02232132e+00, -1.83272133e+00,\n",
       "        -1.14978485e+01,  1.62631226e-01,  1.56709595e+00,\n",
       "        -1.25312958e+00, -4.22623672e+00, -7.95969391e-01,\n",
       "        -9.88799667e-01, -6.03814392e+00, -1.01705246e+01,\n",
       "        -1.01735573e+01, -2.07184944e+00,  3.05989838e-01,\n",
       "        -3.01443100e+00,  4.87910843e-01, -1.65277672e+00,\n",
       "         2.24934082e+00, -4.08083725e-01,  1.63291550e-01,\n",
       "        -2.93785057e+00, -7.86281033e+00, -1.66355133e+00,\n",
       "        -1.56860352e-03, -1.05864639e+00,  2.37052536e+00,\n",
       "         4.64550591e+00,  5.89360504e+00,  4.03209572e+00,\n",
       "         4.32216072e+00, -2.80542145e+00, -3.02241974e+00,\n",
       "        -4.69378662e+00,  2.31324997e+00,  7.66127014e-01,\n",
       "        -9.73707886e+00, -4.71764183e+00, -2.96728973e+00,\n",
       "         2.83911209e+00,  5.15431213e-01, -6.67937164e+00,\n",
       "         1.62508011e+00, -1.59096718e+00,  4.66923180e+00,\n",
       "         2.53767014e+00,  2.44538956e+00,  4.01421280e+00,\n",
       "         7.99493217e+00,  2.39091911e+00,  2.79400520e+00,\n",
       "         1.62954025e+00,  2.30621338e-02, -7.59984970e-01,\n",
       "        -1.68181496e+00,  3.25590897e+00,  1.21174812e+00,\n",
       "         2.16779976e+00,  1.81493912e+00,  9.62165070e-01,\n",
       "         9.30485153e-01, -1.09258347e+00,  6.99288940e-01,\n",
       "        -5.43386841e-01, -9.08794785e+00, -4.92610931e+00,\n",
       "        -2.30272293e+00, -7.84141159e-01, -1.14862137e+00,\n",
       "        -7.66641388e+00, -6.05403976e+00,  2.46661377e+00,\n",
       "        -3.82894897e+00, -5.65102081e+00,  4.27444458e-02,\n",
       "        -8.10867310e+00, -8.50430679e+00,  2.89011459e+00,\n",
       "        -9.06850433e-01, -1.31385727e+00,  2.28666649e+00,\n",
       "         3.59579544e+00, -1.37851562e+00, -2.40143585e+00,\n",
       "         2.14707260e+00, -1.49138794e+00, -2.94602928e+00,\n",
       "        -5.86747322e+00, -7.34736862e+00, -4.78707924e+00,\n",
       "        -7.53160858e+00, -9.29581833e+00, -5.20447922e-01,\n",
       "         3.85673904e+00,  3.65378227e+00,  3.61166763e-01,\n",
       "         2.27039261e+00,  2.11657066e+00,  1.14067459e+00,\n",
       "        -5.05432205e+00, -3.82276917e-01, -1.10816612e+00,\n",
       "        -4.22183990e-02, -6.09811401e-01, -3.28513718e-01,\n",
       "        -7.53739166e-01,  2.36045456e+00,  2.27882576e+00,\n",
       "         4.93560143e+00,  5.14615440e+00, -1.20663071e-01,\n",
       "        -2.33795891e+00, -3.08138809e+00, -1.00498810e+00,\n",
       "         1.24322662e+00,  1.33709030e+00,  4.72867889e+00,\n",
       "         1.00873680e+00, -3.94603977e+00,  4.14080048e-01,\n",
       "         2.41142807e+00,  2.53528252e+00,  3.14795990e+00,\n",
       "         2.52348976e+00,  2.95329590e+00, -3.24080276e-01,\n",
       "         2.10501328e+00,  1.62475586e+00,  1.84630890e+00,\n",
       "         2.07670822e+00,  1.57294807e+00,  2.51672745e-01,\n",
       "         5.32634735e-01,  1.09545746e+00,  1.56757736e+00,\n",
       "         1.89205933e-01,  9.88742065e-01,  2.14784470e+00,\n",
       "         3.14305420e+00,  1.60373535e+00,  2.45489845e+00,\n",
       "         2.38158875e+00,  3.81994324e+00,  8.14407730e-01,\n",
       "         7.88221359e-01,  2.03919601e+00,  1.52365341e+00,\n",
       "         2.41833878e+00,  2.55619316e+00,  3.43319702e-01,\n",
       "         1.01764030e+01,  4.22351227e+00, -1.44285126e+00,\n",
       "         4.18988419e+00,  3.37858467e+00,  3.34974327e+00,\n",
       "         3.05503273e+00,  3.74689903e+00,  3.32328186e+00,\n",
       "         2.95942535e+00,  1.84589996e+00, -1.68535767e+00,\n",
       "         7.98995972e-02,  3.58530426e-01,  6.75463982e+00,\n",
       "         5.67895584e+00,  4.55049782e+00, -1.29821930e+00,\n",
       "        -1.97680092e+00,  1.90360031e+00, -4.50262146e+00,\n",
       "         7.92074699e+00,  1.92309013e+01, -2.07545509e+01,\n",
       "        -8.02592411e+00, -1.09774281e+01, -3.44244261e+01,\n",
       "        -2.01427536e+01, -1.90419044e+01, -3.07299881e+01,\n",
       "        -2.58100700e+01,  6.76293564e-01, -1.12630920e+00,\n",
       "         2.13751602e+00,  3.07142982e+00,  7.32921524e+00,\n",
       "         2.39693775e+00,  5.90299683e+00,  3.53776226e+00,\n",
       "         5.83738098e+00,  5.63308067e+00,  5.37793274e+00,\n",
       "         4.17627640e+00,  7.62140446e+00,  2.57084846e+00,\n",
       "         6.34684143e+00,  4.07310944e+00,  5.54064751e+00,\n",
       "         4.21430054e+00, -1.59759445e+00,  5.03617268e+00,\n",
       "         5.98782845e+00,  3.47113495e+00,  7.68666687e+00,\n",
       "         1.08433685e+01,  1.03951397e+01,  8.27326012e+00,\n",
       "         1.11930744e+01,  9.18515530e+00,  9.54481201e+00,\n",
       "         7.45799866e+00,  5.68907757e+00,  4.78629208e+00,\n",
       "         8.59667301e+00,  6.35916328e-01, -1.19539589e+01,\n",
       "         1.33630447e+00, -1.00269222e+01, -1.58950424e+00,\n",
       "         9.06246185e-02, -4.36305943e+00, -2.90697174e+00,\n",
       "         5.75836849e+00,  9.14621429e+00,  1.20086880e+01,\n",
       "         3.40638790e+00,  4.91215153e+00,  1.03819824e+01,\n",
       "         1.57209473e+00,  6.44740372e+00, -4.79305725e+00,\n",
       "         7.67681274e+00,  5.59049110e+00,  7.55495281e+00,\n",
       "         6.15006523e+00,  2.92484341e+00,  1.01761169e+01,\n",
       "         1.02425690e+01,  6.06747437e+00,  6.37965431e+00,\n",
       "         7.03405800e+00,  9.24588127e+00,  4.90099792e+00,\n",
       "         5.39640579e+00,  7.28471413e+00,  7.59879951e+00,\n",
       "         7.79340706e+00,  4.31385155e+00,  4.50085068e+00,\n",
       "         2.33451309e+00,  4.07226334e+00,  4.05182610e+00,\n",
       "         5.43350143e+00,  6.92791481e+00,  7.93669472e+00,\n",
       "         6.13999405e+00,  4.96664467e+00,  9.00826454e+00,\n",
       "         1.10268341e+01,  9.40134506e+00,  6.68108978e+00,\n",
       "         7.40064354e+00,  5.87283669e+00,  9.68163910e+00,\n",
       "         8.19460564e+00,  5.71318817e+00,  6.33237610e+00,\n",
       "         1.19543648e+00,  8.28691635e+00,  4.79880791e+00,\n",
       "         2.94821167e+00,  3.68005638e+00, -6.65254974e-01,\n",
       "        -1.62144318e+00,  9.81479645e-01,  1.74081459e+00,\n",
       "        -3.17354546e+00, -4.19015656e+00,  1.76895294e+00,\n",
       "         2.19356956e+00, -3.43878937e-01, -3.75776367e+00,\n",
       "         3.45226593e+00,  8.59803314e+00,  6.92767220e+00,\n",
       "         2.99539375e+00,  3.67896690e+00, -4.85257378e+00,\n",
       "        -4.42001343e-01,  1.33178596e+00,  1.46225739e+00,\n",
       "        -3.67429047e+00, -1.64950523e+00,  9.01545334e-01,\n",
       "         2.84549751e+00,  3.85612488e-02,  1.04469185e+00,\n",
       "         8.85265541e+00,  4.55449429e+00,  7.81274834e+00,\n",
       "         1.31396523e+00, -3.06061058e+00, -3.62636566e+00,\n",
       "        -4.72263870e+00, -4.08078499e+00,  1.29224892e+00,\n",
       "         5.73700714e-01, -1.15736008e-01,  5.05081482e+00,\n",
       "         4.78417168e+00,  2.11327591e+00,  6.79482040e+00,\n",
       "         7.05349159e+00,  9.94969711e+00]])"
      ]
     },
     "execution_count": 56,
     "metadata": {},
     "output_type": "execute_result"
    }
   ],
   "source": [
    "m.predict(inputs).T - output.as_matrix()"
   ]
  },
  {
   "cell_type": "code",
   "execution_count": 57,
   "metadata": {},
   "outputs": [
    {
     "name": "stderr",
     "output_type": "stream",
     "text": [
      "C:\\Users\\gerardh\\AppData\\Local\\Continuum\\anaconda3\\lib\\site-packages\\ipykernel_launcher.py:2: FutureWarning: Method .as_matrix will be removed in a future version. Use .values instead.\n",
      "  \n"
     ]
    },
    {
     "data": {
      "text/plain": [
       "124.17312193026822"
      ]
     },
     "execution_count": 57,
     "metadata": {},
     "output_type": "execute_result"
    }
   ],
   "source": [
    "###difference between what the neuron is predicting and the actual values we told it to predict\n",
    "np.sqrt(np.sum((m.predict(inputs).T - output.as_matrix())**2))"
   ]
  },
  {
   "cell_type": "code",
   "execution_count": 2,
   "metadata": {},
   "outputs": [
    {
     "ename": "NameError",
     "evalue": "name 'np' is not defined",
     "output_type": "error",
     "traceback": [
      "\u001b[1;31m---------------------------------------------------------------------------\u001b[0m",
      "\u001b[1;31mNameError\u001b[0m                                 Traceback (most recent call last)",
      "\u001b[1;32m<ipython-input-2-43b3ba1999d2>\u001b[0m in \u001b[0;36m<module>\u001b[1;34m\u001b[0m\n\u001b[1;32m----> 1\u001b[1;33m \u001b[0mnp\u001b[0m\u001b[1;33m.\u001b[0m\u001b[0msqrt\u001b[0m\u001b[1;33m(\u001b[0m\u001b[0mnp\u001b[0m\u001b[1;33m.\u001b[0m\u001b[0msum\u001b[0m\u001b[1;33m(\u001b[0m\u001b[1;33m(\u001b[0m\u001b[0mm\u001b[0m\u001b[1;33m.\u001b[0m\u001b[0mpredict\u001b[0m\u001b[1;33m(\u001b[0m\u001b[0minputs\u001b[0m\u001b[1;33m)\u001b[0m\u001b[1;33m.\u001b[0m\u001b[0mT\u001b[0m \u001b[1;33m-\u001b[0m \u001b[0moutput\u001b[0m\u001b[1;33m.\u001b[0m\u001b[0mas_matrix\u001b[0m\u001b[1;33m(\u001b[0m\u001b[1;33m)\u001b[0m\u001b[1;33m)\u001b[0m\u001b[1;33m**\u001b[0m\u001b[1;36m2\u001b[0m\u001b[1;33m)\u001b[0m\u001b[1;33m)\u001b[0m\u001b[1;33m\u001b[0m\u001b[1;33m\u001b[0m\u001b[0m\n\u001b[0m",
      "\u001b[1;31mNameError\u001b[0m: name 'np' is not defined"
     ]
    }
   ],
   "source": [
    "np.sqrt(np.sum((m.predict(inputs).T - output.as_matrix())**2))"
   ]
  },
  {
   "cell_type": "code",
   "execution_count": 17,
   "metadata": {
    "collapsed": true
   },
   "outputs": [],
   "source": [
    "from sklearn.datasets import load_boston "
   ]
  },
  {
   "cell_type": "code",
   "execution_count": 21,
   "metadata": {
    "collapsed": true
   },
   "outputs": [],
   "source": [
    "boston_dataset = load_boston()\n",
    "df = pd.DataFrame(boston_dataset.data, columns=boston_dataset.feature_names)"
   ]
  },
  {
   "cell_type": "code",
   "execution_count": 27,
   "metadata": {
    "collapsed": true
   },
   "outputs": [],
   "source": [
    "df['MEDV'] = boston_dataset.target "
   ]
  },
  {
   "cell_type": "code",
   "execution_count": 28,
   "metadata": {},
   "outputs": [
    {
     "data": {
      "text/html": [
       "<div>\n",
       "<style scoped>\n",
       "    .dataframe tbody tr th:only-of-type {\n",
       "        vertical-align: middle;\n",
       "    }\n",
       "\n",
       "    .dataframe tbody tr th {\n",
       "        vertical-align: top;\n",
       "    }\n",
       "\n",
       "    .dataframe thead th {\n",
       "        text-align: right;\n",
       "    }\n",
       "</style>\n",
       "<table border=\"1\" class=\"dataframe\">\n",
       "  <thead>\n",
       "    <tr style=\"text-align: right;\">\n",
       "      <th></th>\n",
       "      <th>CRIM</th>\n",
       "      <th>ZN</th>\n",
       "      <th>INDUS</th>\n",
       "      <th>CHAS</th>\n",
       "      <th>NOX</th>\n",
       "      <th>RM</th>\n",
       "      <th>AGE</th>\n",
       "      <th>DIS</th>\n",
       "      <th>RAD</th>\n",
       "      <th>TAX</th>\n",
       "      <th>PTRATIO</th>\n",
       "      <th>B</th>\n",
       "      <th>LSTAT</th>\n",
       "      <th>MEDV</th>\n",
       "    </tr>\n",
       "  </thead>\n",
       "  <tbody>\n",
       "    <tr>\n",
       "      <td>0</td>\n",
       "      <td>0.00632</td>\n",
       "      <td>18.0</td>\n",
       "      <td>2.31</td>\n",
       "      <td>0.0</td>\n",
       "      <td>0.538</td>\n",
       "      <td>6.575</td>\n",
       "      <td>65.2</td>\n",
       "      <td>4.0900</td>\n",
       "      <td>1.0</td>\n",
       "      <td>296.0</td>\n",
       "      <td>15.3</td>\n",
       "      <td>396.90</td>\n",
       "      <td>4.98</td>\n",
       "      <td>24.0</td>\n",
       "    </tr>\n",
       "    <tr>\n",
       "      <td>1</td>\n",
       "      <td>0.02731</td>\n",
       "      <td>0.0</td>\n",
       "      <td>7.07</td>\n",
       "      <td>0.0</td>\n",
       "      <td>0.469</td>\n",
       "      <td>6.421</td>\n",
       "      <td>78.9</td>\n",
       "      <td>4.9671</td>\n",
       "      <td>2.0</td>\n",
       "      <td>242.0</td>\n",
       "      <td>17.8</td>\n",
       "      <td>396.90</td>\n",
       "      <td>9.14</td>\n",
       "      <td>21.6</td>\n",
       "    </tr>\n",
       "    <tr>\n",
       "      <td>2</td>\n",
       "      <td>0.02729</td>\n",
       "      <td>0.0</td>\n",
       "      <td>7.07</td>\n",
       "      <td>0.0</td>\n",
       "      <td>0.469</td>\n",
       "      <td>7.185</td>\n",
       "      <td>61.1</td>\n",
       "      <td>4.9671</td>\n",
       "      <td>2.0</td>\n",
       "      <td>242.0</td>\n",
       "      <td>17.8</td>\n",
       "      <td>392.83</td>\n",
       "      <td>4.03</td>\n",
       "      <td>34.7</td>\n",
       "    </tr>\n",
       "    <tr>\n",
       "      <td>3</td>\n",
       "      <td>0.03237</td>\n",
       "      <td>0.0</td>\n",
       "      <td>2.18</td>\n",
       "      <td>0.0</td>\n",
       "      <td>0.458</td>\n",
       "      <td>6.998</td>\n",
       "      <td>45.8</td>\n",
       "      <td>6.0622</td>\n",
       "      <td>3.0</td>\n",
       "      <td>222.0</td>\n",
       "      <td>18.7</td>\n",
       "      <td>394.63</td>\n",
       "      <td>2.94</td>\n",
       "      <td>33.4</td>\n",
       "    </tr>\n",
       "    <tr>\n",
       "      <td>4</td>\n",
       "      <td>0.06905</td>\n",
       "      <td>0.0</td>\n",
       "      <td>2.18</td>\n",
       "      <td>0.0</td>\n",
       "      <td>0.458</td>\n",
       "      <td>7.147</td>\n",
       "      <td>54.2</td>\n",
       "      <td>6.0622</td>\n",
       "      <td>3.0</td>\n",
       "      <td>222.0</td>\n",
       "      <td>18.7</td>\n",
       "      <td>396.90</td>\n",
       "      <td>5.33</td>\n",
       "      <td>36.2</td>\n",
       "    </tr>\n",
       "    <tr>\n",
       "      <td>...</td>\n",
       "      <td>...</td>\n",
       "      <td>...</td>\n",
       "      <td>...</td>\n",
       "      <td>...</td>\n",
       "      <td>...</td>\n",
       "      <td>...</td>\n",
       "      <td>...</td>\n",
       "      <td>...</td>\n",
       "      <td>...</td>\n",
       "      <td>...</td>\n",
       "      <td>...</td>\n",
       "      <td>...</td>\n",
       "      <td>...</td>\n",
       "      <td>...</td>\n",
       "    </tr>\n",
       "    <tr>\n",
       "      <td>501</td>\n",
       "      <td>0.06263</td>\n",
       "      <td>0.0</td>\n",
       "      <td>11.93</td>\n",
       "      <td>0.0</td>\n",
       "      <td>0.573</td>\n",
       "      <td>6.593</td>\n",
       "      <td>69.1</td>\n",
       "      <td>2.4786</td>\n",
       "      <td>1.0</td>\n",
       "      <td>273.0</td>\n",
       "      <td>21.0</td>\n",
       "      <td>391.99</td>\n",
       "      <td>9.67</td>\n",
       "      <td>22.4</td>\n",
       "    </tr>\n",
       "    <tr>\n",
       "      <td>502</td>\n",
       "      <td>0.04527</td>\n",
       "      <td>0.0</td>\n",
       "      <td>11.93</td>\n",
       "      <td>0.0</td>\n",
       "      <td>0.573</td>\n",
       "      <td>6.120</td>\n",
       "      <td>76.7</td>\n",
       "      <td>2.2875</td>\n",
       "      <td>1.0</td>\n",
       "      <td>273.0</td>\n",
       "      <td>21.0</td>\n",
       "      <td>396.90</td>\n",
       "      <td>9.08</td>\n",
       "      <td>20.6</td>\n",
       "    </tr>\n",
       "    <tr>\n",
       "      <td>503</td>\n",
       "      <td>0.06076</td>\n",
       "      <td>0.0</td>\n",
       "      <td>11.93</td>\n",
       "      <td>0.0</td>\n",
       "      <td>0.573</td>\n",
       "      <td>6.976</td>\n",
       "      <td>91.0</td>\n",
       "      <td>2.1675</td>\n",
       "      <td>1.0</td>\n",
       "      <td>273.0</td>\n",
       "      <td>21.0</td>\n",
       "      <td>396.90</td>\n",
       "      <td>5.64</td>\n",
       "      <td>23.9</td>\n",
       "    </tr>\n",
       "    <tr>\n",
       "      <td>504</td>\n",
       "      <td>0.10959</td>\n",
       "      <td>0.0</td>\n",
       "      <td>11.93</td>\n",
       "      <td>0.0</td>\n",
       "      <td>0.573</td>\n",
       "      <td>6.794</td>\n",
       "      <td>89.3</td>\n",
       "      <td>2.3889</td>\n",
       "      <td>1.0</td>\n",
       "      <td>273.0</td>\n",
       "      <td>21.0</td>\n",
       "      <td>393.45</td>\n",
       "      <td>6.48</td>\n",
       "      <td>22.0</td>\n",
       "    </tr>\n",
       "    <tr>\n",
       "      <td>505</td>\n",
       "      <td>0.04741</td>\n",
       "      <td>0.0</td>\n",
       "      <td>11.93</td>\n",
       "      <td>0.0</td>\n",
       "      <td>0.573</td>\n",
       "      <td>6.030</td>\n",
       "      <td>80.8</td>\n",
       "      <td>2.5050</td>\n",
       "      <td>1.0</td>\n",
       "      <td>273.0</td>\n",
       "      <td>21.0</td>\n",
       "      <td>396.90</td>\n",
       "      <td>7.88</td>\n",
       "      <td>11.9</td>\n",
       "    </tr>\n",
       "  </tbody>\n",
       "</table>\n",
       "<p>506 rows × 14 columns</p>\n",
       "</div>"
      ],
      "text/plain": [
       "        CRIM    ZN  INDUS  CHAS    NOX     RM   AGE     DIS  RAD    TAX  \\\n",
       "0    0.00632  18.0   2.31   0.0  0.538  6.575  65.2  4.0900  1.0  296.0   \n",
       "1    0.02731   0.0   7.07   0.0  0.469  6.421  78.9  4.9671  2.0  242.0   \n",
       "2    0.02729   0.0   7.07   0.0  0.469  7.185  61.1  4.9671  2.0  242.0   \n",
       "3    0.03237   0.0   2.18   0.0  0.458  6.998  45.8  6.0622  3.0  222.0   \n",
       "4    0.06905   0.0   2.18   0.0  0.458  7.147  54.2  6.0622  3.0  222.0   \n",
       "..       ...   ...    ...   ...    ...    ...   ...     ...  ...    ...   \n",
       "501  0.06263   0.0  11.93   0.0  0.573  6.593  69.1  2.4786  1.0  273.0   \n",
       "502  0.04527   0.0  11.93   0.0  0.573  6.120  76.7  2.2875  1.0  273.0   \n",
       "503  0.06076   0.0  11.93   0.0  0.573  6.976  91.0  2.1675  1.0  273.0   \n",
       "504  0.10959   0.0  11.93   0.0  0.573  6.794  89.3  2.3889  1.0  273.0   \n",
       "505  0.04741   0.0  11.93   0.0  0.573  6.030  80.8  2.5050  1.0  273.0   \n",
       "\n",
       "     PTRATIO       B  LSTAT  MEDV  \n",
       "0       15.3  396.90   4.98  24.0  \n",
       "1       17.8  396.90   9.14  21.6  \n",
       "2       17.8  392.83   4.03  34.7  \n",
       "3       18.7  394.63   2.94  33.4  \n",
       "4       18.7  396.90   5.33  36.2  \n",
       "..       ...     ...    ...   ...  \n",
       "501     21.0  391.99   9.67  22.4  \n",
       "502     21.0  396.90   9.08  20.6  \n",
       "503     21.0  396.90   5.64  23.9  \n",
       "504     21.0  393.45   6.48  22.0  \n",
       "505     21.0  396.90   7.88  11.9  \n",
       "\n",
       "[506 rows x 14 columns]"
      ]
     },
     "execution_count": 28,
     "metadata": {},
     "output_type": "execute_result"
    }
   ],
   "source": [
    "df"
   ]
  },
  {
   "cell_type": "code",
   "execution_count": 23,
   "metadata": {},
   "outputs": [
    {
     "data": {
      "text/plain": [
       "array([[6.3200e-03, 1.8000e+01, 2.3100e+00, ..., 1.5300e+01, 3.9690e+02,\n",
       "        4.9800e+00],\n",
       "       [2.7310e-02, 0.0000e+00, 7.0700e+00, ..., 1.7800e+01, 3.9690e+02,\n",
       "        9.1400e+00],\n",
       "       [2.7290e-02, 0.0000e+00, 7.0700e+00, ..., 1.7800e+01, 3.9283e+02,\n",
       "        4.0300e+00],\n",
       "       ...,\n",
       "       [6.0760e-02, 0.0000e+00, 1.1930e+01, ..., 2.1000e+01, 3.9690e+02,\n",
       "        5.6400e+00],\n",
       "       [1.0959e-01, 0.0000e+00, 1.1930e+01, ..., 2.1000e+01, 3.9345e+02,\n",
       "        6.4800e+00],\n",
       "       [4.7410e-02, 0.0000e+00, 1.1930e+01, ..., 2.1000e+01, 3.9690e+02,\n",
       "        7.8800e+00]])"
      ]
     },
     "execution_count": 23,
     "metadata": {},
     "output_type": "execute_result"
    }
   ],
   "source": [
    "\n",
    "X = df.iloc[:,0:13].values\n",
    "X"
   ]
  },
  {
   "cell_type": "code",
   "execution_count": 29,
   "metadata": {},
   "outputs": [
    {
     "data": {
      "text/plain": [
       "array([24. , 21.6, 34.7, 33.4, 36.2, 28.7, 22.9, 27.1, 16.5, 18.9, 15. ,\n",
       "       18.9, 21.7, 20.4, 18.2, 19.9, 23.1, 17.5, 20.2, 18.2, 13.6, 19.6,\n",
       "       15.2, 14.5, 15.6, 13.9, 16.6, 14.8, 18.4, 21. , 12.7, 14.5, 13.2,\n",
       "       13.1, 13.5, 18.9, 20. , 21. , 24.7, 30.8, 34.9, 26.6, 25.3, 24.7,\n",
       "       21.2, 19.3, 20. , 16.6, 14.4, 19.4, 19.7, 20.5, 25. , 23.4, 18.9,\n",
       "       35.4, 24.7, 31.6, 23.3, 19.6, 18.7, 16. , 22.2, 25. , 33. , 23.5,\n",
       "       19.4, 22. , 17.4, 20.9, 24.2, 21.7, 22.8, 23.4, 24.1, 21.4, 20. ,\n",
       "       20.8, 21.2, 20.3, 28. , 23.9, 24.8, 22.9, 23.9, 26.6, 22.5, 22.2,\n",
       "       23.6, 28.7, 22.6, 22. , 22.9, 25. , 20.6, 28.4, 21.4, 38.7, 43.8,\n",
       "       33.2, 27.5, 26.5, 18.6, 19.3, 20.1, 19.5, 19.5, 20.4, 19.8, 19.4,\n",
       "       21.7, 22.8, 18.8, 18.7, 18.5, 18.3, 21.2, 19.2, 20.4, 19.3, 22. ,\n",
       "       20.3, 20.5, 17.3, 18.8, 21.4, 15.7, 16.2, 18. , 14.3, 19.2, 19.6,\n",
       "       23. , 18.4, 15.6, 18.1, 17.4, 17.1, 13.3, 17.8, 14. , 14.4, 13.4,\n",
       "       15.6, 11.8, 13.8, 15.6, 14.6, 17.8, 15.4, 21.5, 19.6, 15.3, 19.4,\n",
       "       17. , 15.6, 13.1, 41.3, 24.3, 23.3, 27. , 50. , 50. , 50. , 22.7,\n",
       "       25. , 50. , 23.8, 23.8, 22.3, 17.4, 19.1, 23.1, 23.6, 22.6, 29.4,\n",
       "       23.2, 24.6, 29.9, 37.2, 39.8, 36.2, 37.9, 32.5, 26.4, 29.6, 50. ,\n",
       "       32. , 29.8, 34.9, 37. , 30.5, 36.4, 31.1, 29.1, 50. , 33.3, 30.3,\n",
       "       34.6, 34.9, 32.9, 24.1, 42.3, 48.5, 50. , 22.6, 24.4, 22.5, 24.4,\n",
       "       20. , 21.7, 19.3, 22.4, 28.1, 23.7, 25. , 23.3, 28.7, 21.5, 23. ,\n",
       "       26.7, 21.7, 27.5, 30.1, 44.8, 50. , 37.6, 31.6, 46.7, 31.5, 24.3,\n",
       "       31.7, 41.7, 48.3, 29. , 24. , 25.1, 31.5, 23.7, 23.3, 22. , 20.1,\n",
       "       22.2, 23.7, 17.6, 18.5, 24.3, 20.5, 24.5, 26.2, 24.4, 24.8, 29.6,\n",
       "       42.8, 21.9, 20.9, 44. , 50. , 36. , 30.1, 33.8, 43.1, 48.8, 31. ,\n",
       "       36.5, 22.8, 30.7, 50. , 43.5, 20.7, 21.1, 25.2, 24.4, 35.2, 32.4,\n",
       "       32. , 33.2, 33.1, 29.1, 35.1, 45.4, 35.4, 46. , 50. , 32.2, 22. ,\n",
       "       20.1, 23.2, 22.3, 24.8, 28.5, 37.3, 27.9, 23.9, 21.7, 28.6, 27.1,\n",
       "       20.3, 22.5, 29. , 24.8, 22. , 26.4, 33.1, 36.1, 28.4, 33.4, 28.2,\n",
       "       22.8, 20.3, 16.1, 22.1, 19.4, 21.6, 23.8, 16.2, 17.8, 19.8, 23.1,\n",
       "       21. , 23.8, 23.1, 20.4, 18.5, 25. , 24.6, 23. , 22.2, 19.3, 22.6,\n",
       "       19.8, 17.1, 19.4, 22.2, 20.7, 21.1, 19.5, 18.5, 20.6, 19. , 18.7,\n",
       "       32.7, 16.5, 23.9, 31.2, 17.5, 17.2, 23.1, 24.5, 26.6, 22.9, 24.1,\n",
       "       18.6, 30.1, 18.2, 20.6, 17.8, 21.7, 22.7, 22.6, 25. , 19.9, 20.8,\n",
       "       16.8, 21.9, 27.5, 21.9, 23.1, 50. , 50. , 50. , 50. , 50. , 13.8,\n",
       "       13.8, 15. , 13.9, 13.3, 13.1, 10.2, 10.4, 10.9, 11.3, 12.3,  8.8,\n",
       "        7.2, 10.5,  7.4, 10.2, 11.5, 15.1, 23.2,  9.7, 13.8, 12.7, 13.1,\n",
       "       12.5,  8.5,  5. ,  6.3,  5.6,  7.2, 12.1,  8.3,  8.5,  5. , 11.9,\n",
       "       27.9, 17.2, 27.5, 15. , 17.2, 17.9, 16.3,  7. ,  7.2,  7.5, 10.4,\n",
       "        8.8,  8.4, 16.7, 14.2, 20.8, 13.4, 11.7,  8.3, 10.2, 10.9, 11. ,\n",
       "        9.5, 14.5, 14.1, 16.1, 14.3, 11.7, 13.4,  9.6,  8.7,  8.4, 12.8,\n",
       "       10.5, 17.1, 18.4, 15.4, 10.8, 11.8, 14.9, 12.6, 14.1, 13. , 13.4,\n",
       "       15.2, 16.1, 17.8, 14.9, 14.1, 12.7, 13.5, 14.9, 20. , 16.4, 17.7,\n",
       "       19.5, 20.2, 21.4, 19.9, 19. , 19.1, 19.1, 20.1, 19.9, 19.6, 23.2,\n",
       "       29.8, 13.8, 13.3, 16.7, 12. , 14.6, 21.4, 23. , 23.7, 25. , 21.8,\n",
       "       20.6, 21.2, 19.1, 20.6, 15.2,  7. ,  8.1, 13.6, 20.1, 21.8, 24.5,\n",
       "       23.1, 19.7, 18.3, 21.2, 17.5, 16.8, 22.4, 20.6, 23.9, 22. , 11.9])"
      ]
     },
     "execution_count": 29,
     "metadata": {},
     "output_type": "execute_result"
    }
   ],
   "source": [
    "Y = df.iloc[:,13].values\n",
    "Y"
   ]
  },
  {
   "cell_type": "code",
   "execution_count": 30,
   "metadata": {},
   "outputs": [
    {
     "name": "stderr",
     "output_type": "stream",
     "text": [
      "Using TensorFlow backend.\n"
     ]
    }
   ],
   "source": [
    "from keras.models import Sequential\n",
    "from keras.layers import Dense"
   ]
  },
  {
   "cell_type": "code",
   "execution_count": 31,
   "metadata": {
    "scrolled": true
   },
   "outputs": [
    {
     "name": "stdout",
     "output_type": "stream",
     "text": [
      "Epoch 1/100\n",
      "506/506 [==============================] - 0s 508us/step - loss: 185.0876 - accuracy: 0.0099\n",
      "Epoch 2/100\n",
      "506/506 [==============================] - 0s 215us/step - loss: 86.6580 - accuracy: 0.0079\n",
      "Epoch 3/100\n",
      "506/506 [==============================] - 0s 237us/step - loss: 74.1094 - accuracy: 0.0059\n",
      "Epoch 4/100\n",
      "506/506 [==============================] - 0s 233us/step - loss: 68.6533 - accuracy: 0.0099\n",
      "Epoch 5/100\n",
      "506/506 [==============================] - 0s 245us/step - loss: 66.4283 - accuracy: 0.0099\n",
      "Epoch 6/100\n",
      "506/506 [==============================] - 0s 229us/step - loss: 62.5490 - accuracy: 0.0020\n",
      "Epoch 7/100\n",
      "506/506 [==============================] - 0s 237us/step - loss: 60.3823 - accuracy: 0.0079\n",
      "Epoch 8/100\n",
      "506/506 [==============================] - 0s 231us/step - loss: 58.1907 - accuracy: 0.0059\n",
      "Epoch 9/100\n",
      "506/506 [==============================] - 0s 235us/step - loss: 56.9308 - accuracy: 0.0020\n",
      "Epoch 10/100\n",
      "506/506 [==============================] - 0s 245us/step - loss: 56.6320 - accuracy: 0.0059\n",
      "Epoch 11/100\n",
      "506/506 [==============================] - 0s 219us/step - loss: 54.3757 - accuracy: 0.0040\n",
      "Epoch 12/100\n",
      "506/506 [==============================] - 0s 217us/step - loss: 53.2312 - accuracy: 0.0020\n",
      "Epoch 13/100\n",
      "506/506 [==============================] - 0s 229us/step - loss: 49.9298 - accuracy: 0.0079\n",
      "Epoch 14/100\n",
      "506/506 [==============================] - 0s 265us/step - loss: 49.2052 - accuracy: 0.0099\n",
      "Epoch 15/100\n",
      "506/506 [==============================] - 0s 304us/step - loss: 47.7675 - accuracy: 0.0099\n",
      "Epoch 16/100\n",
      "506/506 [==============================] - 0s 290us/step - loss: 45.3887 - accuracy: 0.0158\n",
      "Epoch 17/100\n",
      "506/506 [==============================] - 0s 229us/step - loss: 45.5464 - accuracy: 0.0079\n",
      "Epoch 18/100\n",
      "506/506 [==============================] - 0s 229us/step - loss: 44.1173 - accuracy: 0.0178\n",
      "Epoch 19/100\n",
      "506/506 [==============================] - 0s 221us/step - loss: 41.4363 - accuracy: 0.0059\n",
      "Epoch 20/100\n",
      "506/506 [==============================] - 0s 261us/step - loss: 39.3347 - accuracy: 0.0099\n",
      "Epoch 21/100\n",
      "506/506 [==============================] - 0s 253us/step - loss: 39.6636 - accuracy: 0.0099\n",
      "Epoch 22/100\n",
      "506/506 [==============================] - 0s 251us/step - loss: 38.5012 - accuracy: 0.0079\n",
      "Epoch 23/100\n",
      "506/506 [==============================] - 0s 225us/step - loss: 36.5334 - accuracy: 0.0119\n",
      "Epoch 24/100\n",
      "506/506 [==============================] - 0s 253us/step - loss: 36.8424 - accuracy: 0.0040\n",
      "Epoch 25/100\n",
      "506/506 [==============================] - 0s 229us/step - loss: 35.5151 - accuracy: 0.0138\n",
      "Epoch 26/100\n",
      "506/506 [==============================] - 0s 235us/step - loss: 34.4246 - accuracy: 0.0059\n",
      "Epoch 27/100\n",
      "506/506 [==============================] - 0s 243us/step - loss: 33.5180 - accuracy: 0.0079\n",
      "Epoch 28/100\n",
      "506/506 [==============================] - 0s 257us/step - loss: 32.4776 - accuracy: 0.0099\n",
      "Epoch 29/100\n",
      "506/506 [==============================] - 0s 247us/step - loss: 32.6638 - accuracy: 0.0099\n",
      "Epoch 30/100\n",
      "506/506 [==============================] - 0s 211us/step - loss: 30.7187 - accuracy: 0.0138\n",
      "Epoch 31/100\n",
      "506/506 [==============================] - 0s 237us/step - loss: 30.8778 - accuracy: 0.0059\n",
      "Epoch 32/100\n",
      "506/506 [==============================] - 0s 278us/step - loss: 30.5596 - accuracy: 0.0079\n",
      "Epoch 33/100\n",
      "506/506 [==============================] - 0s 212us/step - loss: 30.7663 - accuracy: 0.0079\n",
      "Epoch 34/100\n",
      "506/506 [==============================] - 0s 229us/step - loss: 30.7786 - accuracy: 0.0099\n",
      "Epoch 35/100\n",
      "506/506 [==============================] - 0s 209us/step - loss: 29.7330 - accuracy: 0.0138\n",
      "Epoch 36/100\n",
      "506/506 [==============================] - 0s 197us/step - loss: 29.4118 - accuracy: 0.0099\n",
      "Epoch 37/100\n",
      "506/506 [==============================] - 0s 195us/step - loss: 29.3403 - accuracy: 0.0099\n",
      "Epoch 38/100\n",
      "506/506 [==============================] - 0s 195us/step - loss: 31.3328 - accuracy: 0.0059\n",
      "Epoch 39/100\n",
      "506/506 [==============================] - 0s 197us/step - loss: 28.3903 - accuracy: 0.0079\n",
      "Epoch 40/100\n",
      "506/506 [==============================] - 0s 215us/step - loss: 27.8297 - accuracy: 0.0158\n",
      "Epoch 41/100\n",
      "506/506 [==============================] - 0s 195us/step - loss: 26.7383 - accuracy: 0.0138\n",
      "Epoch 42/100\n",
      "506/506 [==============================] - 0s 203us/step - loss: 26.4873 - accuracy: 0.0119\n",
      "Epoch 43/100\n",
      "506/506 [==============================] - 0s 197us/step - loss: 26.7669 - accuracy: 0.0119\n",
      "Epoch 44/100\n",
      "506/506 [==============================] - 0s 217us/step - loss: 26.2990 - accuracy: 0.0079\n",
      "Epoch 45/100\n",
      "506/506 [==============================] - 0s 211us/step - loss: 26.4361 - accuracy: 0.0158\n",
      "Epoch 46/100\n",
      "506/506 [==============================] - 0s 211us/step - loss: 25.5385 - accuracy: 0.0099\n",
      "Epoch 47/100\n",
      "506/506 [==============================] - 0s 217us/step - loss: 25.7479 - accuracy: 0.0119\n",
      "Epoch 48/100\n",
      "506/506 [==============================] - 0s 215us/step - loss: 26.2356 - accuracy: 0.0099\n",
      "Epoch 49/100\n",
      "506/506 [==============================] - 0s 211us/step - loss: 24.5108 - accuracy: 0.0099\n",
      "Epoch 50/100\n",
      "506/506 [==============================] - 0s 225us/step - loss: 24.5082 - accuracy: 0.0138\n",
      "Epoch 51/100\n",
      "506/506 [==============================] - 0s 199us/step - loss: 24.4755 - accuracy: 0.0178\n",
      "Epoch 52/100\n",
      "506/506 [==============================] - 0s 216us/step - loss: 23.6024 - accuracy: 0.0119\n",
      "Epoch 53/100\n",
      "506/506 [==============================] - 0s 203us/step - loss: 23.3697 - accuracy: 0.0158\n",
      "Epoch 54/100\n",
      "506/506 [==============================] - 0s 211us/step - loss: 23.7074 - accuracy: 0.0138\n",
      "Epoch 55/100\n",
      "506/506 [==============================] - 0s 201us/step - loss: 23.6293 - accuracy: 0.0119\n",
      "Epoch 56/100\n",
      "506/506 [==============================] - 0s 197us/step - loss: 23.2983 - accuracy: 0.0198\n",
      "Epoch 57/100\n",
      "506/506 [==============================] - 0s 215us/step - loss: 22.7495 - accuracy: 0.0237\n",
      "Epoch 58/100\n",
      "506/506 [==============================] - 0s 197us/step - loss: 22.7837 - accuracy: 0.0059\n",
      "Epoch 59/100\n",
      "506/506 [==============================] - 0s 199us/step - loss: 22.3174 - accuracy: 0.0059\n",
      "Epoch 60/100\n",
      "506/506 [==============================] - 0s 219us/step - loss: 22.3040 - accuracy: 0.0217\n",
      "Epoch 61/100\n",
      "506/506 [==============================] - 0s 217us/step - loss: 23.2304 - accuracy: 0.0138\n",
      "Epoch 62/100\n",
      "506/506 [==============================] - 0s 211us/step - loss: 23.2290 - accuracy: 0.0178\n",
      "Epoch 63/100\n",
      "506/506 [==============================] - 0s 203us/step - loss: 22.9799 - accuracy: 0.0158\n",
      "Epoch 64/100\n",
      "506/506 [==============================] - 0s 199us/step - loss: 23.8233 - accuracy: 0.0257\n",
      "Epoch 65/100\n",
      "506/506 [==============================] - 0s 199us/step - loss: 22.1527 - accuracy: 0.0217\n",
      "Epoch 66/100\n",
      "506/506 [==============================] - 0s 225us/step - loss: 21.4593 - accuracy: 0.0198\n",
      "Epoch 67/100\n",
      "506/506 [==============================] - 0s 219us/step - loss: 21.6105 - accuracy: 0.0079\n",
      "Epoch 68/100\n",
      "506/506 [==============================] - 0s 213us/step - loss: 21.0991 - accuracy: 0.0198\n",
      "Epoch 69/100\n",
      "506/506 [==============================] - 0s 217us/step - loss: 20.8628 - accuracy: 0.0198\n",
      "Epoch 70/100\n",
      "506/506 [==============================] - 0s 200us/step - loss: 21.5076 - accuracy: 0.0178\n",
      "Epoch 71/100\n",
      "506/506 [==============================] - 0s 218us/step - loss: 21.4376 - accuracy: 0.0178\n",
      "Epoch 72/100\n",
      "506/506 [==============================] - 0s 201us/step - loss: 20.3200 - accuracy: 0.0119\n",
      "Epoch 73/100\n",
      "506/506 [==============================] - 0s 216us/step - loss: 21.3588 - accuracy: 0.0178\n",
      "Epoch 74/100\n",
      "506/506 [==============================] - 0s 201us/step - loss: 21.2612 - accuracy: 0.0198\n",
      "Epoch 75/100\n",
      "506/506 [==============================] - 0s 221us/step - loss: 20.6412 - accuracy: 0.0217\n",
      "Epoch 76/100\n",
      "506/506 [==============================] - 0s 198us/step - loss: 22.5831 - accuracy: 0.0059\n",
      "Epoch 77/100\n",
      "506/506 [==============================] - 0s 205us/step - loss: 21.7614 - accuracy: 0.0217\n",
      "Epoch 78/100\n",
      "506/506 [==============================] - 0s 201us/step - loss: 20.6372 - accuracy: 0.0178\n",
      "Epoch 79/100\n"
     ]
    },
    {
     "name": "stdout",
     "output_type": "stream",
     "text": [
      "506/506 [==============================] - 0s 199us/step - loss: 19.1421 - accuracy: 0.0178\n",
      "Epoch 80/100\n",
      "506/506 [==============================] - 0s 193us/step - loss: 20.7141 - accuracy: 0.0217\n",
      "Epoch 81/100\n",
      "506/506 [==============================] - 0s 192us/step - loss: 21.6180 - accuracy: 0.0099\n",
      "Epoch 82/100\n",
      "506/506 [==============================] - 0s 193us/step - loss: 20.6519 - accuracy: 0.0099\n",
      "Epoch 83/100\n",
      "506/506 [==============================] - 0s 193us/step - loss: 21.1847 - accuracy: 0.0138\n",
      "Epoch 84/100\n",
      "506/506 [==============================] - 0s 192us/step - loss: 21.2270 - accuracy: 0.0079\n",
      "Epoch 85/100\n",
      "506/506 [==============================] - 0s 192us/step - loss: 20.7400 - accuracy: 0.0119\n",
      "Epoch 86/100\n",
      "506/506 [==============================] - 0s 193us/step - loss: 19.2195 - accuracy: 0.0138\n",
      "Epoch 87/100\n",
      "506/506 [==============================] - 0s 192us/step - loss: 19.3468 - accuracy: 0.0138\n",
      "Epoch 88/100\n",
      "506/506 [==============================] - 0s 197us/step - loss: 19.7419 - accuracy: 0.0138\n",
      "Epoch 89/100\n",
      "506/506 [==============================] - 0s 190us/step - loss: 20.2598 - accuracy: 0.0119\n",
      "Epoch 90/100\n",
      "506/506 [==============================] - 0s 195us/step - loss: 20.3086 - accuracy: 0.0119\n",
      "Epoch 91/100\n",
      "506/506 [==============================] - 0s 192us/step - loss: 19.9568 - accuracy: 0.0217\n",
      "Epoch 92/100\n",
      "506/506 [==============================] - 0s 192us/step - loss: 19.2149 - accuracy: 0.0158\n",
      "Epoch 93/100\n",
      "506/506 [==============================] - 0s 193us/step - loss: 19.2604 - accuracy: 0.0119\n",
      "Epoch 94/100\n",
      "506/506 [==============================] - 0s 201us/step - loss: 19.2757 - accuracy: 0.0158\n",
      "Epoch 95/100\n",
      "506/506 [==============================] - 0s 192us/step - loss: 18.5878 - accuracy: 0.0099\n",
      "Epoch 96/100\n",
      "506/506 [==============================] - 0s 203us/step - loss: 19.6844 - accuracy: 0.0237\n",
      "Epoch 97/100\n",
      "506/506 [==============================] - 0s 192us/step - loss: 18.8693 - accuracy: 0.0119\n",
      "Epoch 98/100\n",
      "506/506 [==============================] - 0s 211us/step - loss: 19.0856 - accuracy: 0.0119\n",
      "Epoch 99/100\n",
      "506/506 [==============================] - 0s 198us/step - loss: 18.8209 - accuracy: 0.0099\n",
      "Epoch 100/100\n",
      "506/506 [==============================] - 0s 195us/step - loss: 18.4232 - accuracy: 0.0178\n"
     ]
    },
    {
     "data": {
      "text/plain": [
       "<keras.callbacks.callbacks.History at 0x29f9a4d0088>"
      ]
     },
     "execution_count": 31,
     "metadata": {},
     "output_type": "execute_result"
    }
   ],
   "source": [
    "model = Sequential()\n",
    "model.add(Dense(13, input_dim=13, kernel_initializer='normal', activation='relu'))\n",
    "model.add(Dense(1, kernel_initializer='normal'))\n",
    "# Compile model asking for accuracy, too:\n",
    "model.compile(loss='mean_squared_error', optimizer='adam', metrics=['accuracy'])\n",
    "\n",
    "model.fit(X, Y,\n",
    "     batch_size=5,\n",
    "     epochs=100,\n",
    "     verbose=1)"
   ]
  },
  {
   "cell_type": "code",
   "execution_count": 32,
   "metadata": {},
   "outputs": [
    {
     "data": {
      "text/plain": [
       "[17.42553353592341, 0.013833992183208466]"
      ]
     },
     "execution_count": 32,
     "metadata": {},
     "output_type": "execute_result"
    }
   ],
   "source": [
    "score = model.evaluate(X, Y, verbose=0)\n",
    "score"
   ]
  },
  {
   "cell_type": "code",
   "execution_count": 33,
   "metadata": {
    "collapsed": true
   },
   "outputs": [],
   "source": [
    "def binary_accuracy(y_true, y_pred):\n",
    "    return K.mean(K.equal(y_true, K.round(y_pred)), axis=-1)"
   ]
  },
  {
   "cell_type": "code",
   "execution_count": 34,
   "metadata": {},
   "outputs": [
    {
     "data": {
      "text/plain": [
       "array([0.01383399])"
      ]
     },
     "execution_count": 34,
     "metadata": {},
     "output_type": "execute_result"
    }
   ],
   "source": [
    "y_pred = model.predict(X)\n",
    "l = len(Y)\n",
    "acc = sum([np.round(y_pred[i])==Y[i] for i in range(l)])/l\n",
    "acc"
   ]
  },
  {
   "cell_type": "code",
   "execution_count": 35,
   "metadata": {
    "collapsed": true
   },
   "outputs": [],
   "source": [
    "from matplotlib import pyplot as plt"
   ]
  },
  {
   "cell_type": "code",
   "execution_count": 36,
   "metadata": {},
   "outputs": [
    {
     "ename": "NameError",
     "evalue": "name 'hist' is not defined",
     "output_type": "error",
     "traceback": [
      "\u001b[1;31m---------------------------------------------------------------------------\u001b[0m",
      "\u001b[1;31mNameError\u001b[0m                                 Traceback (most recent call last)",
      "\u001b[1;32m<ipython-input-36-84d24d69b6e4>\u001b[0m in \u001b[0;36m<module>\u001b[1;34m\u001b[0m\n\u001b[1;32m----> 1\u001b[1;33m \u001b[0mplt\u001b[0m\u001b[1;33m.\u001b[0m\u001b[0mplot\u001b[0m\u001b[1;33m(\u001b[0m\u001b[0mhist\u001b[0m\u001b[1;33m.\u001b[0m\u001b[0mhistory\u001b[0m\u001b[1;33m[\u001b[0m\u001b[1;34m'acc'\u001b[0m\u001b[1;33m]\u001b[0m\u001b[1;33m)\u001b[0m\u001b[1;33m\u001b[0m\u001b[1;33m\u001b[0m\u001b[0m\n\u001b[0m\u001b[0;32m      2\u001b[0m \u001b[0mplt\u001b[0m\u001b[1;33m.\u001b[0m\u001b[0mplot\u001b[0m\u001b[1;33m(\u001b[0m\u001b[0mhist\u001b[0m\u001b[1;33m.\u001b[0m\u001b[0mhistory\u001b[0m\u001b[1;33m[\u001b[0m\u001b[1;34m'val_acc'\u001b[0m\u001b[1;33m]\u001b[0m\u001b[1;33m)\u001b[0m\u001b[1;33m\u001b[0m\u001b[1;33m\u001b[0m\u001b[0m\n\u001b[0;32m      3\u001b[0m \u001b[0mplt\u001b[0m\u001b[1;33m.\u001b[0m\u001b[0mtitle\u001b[0m\u001b[1;33m(\u001b[0m\u001b[1;34m'Model accuracy'\u001b[0m\u001b[1;33m)\u001b[0m\u001b[1;33m\u001b[0m\u001b[1;33m\u001b[0m\u001b[0m\n\u001b[0;32m      4\u001b[0m \u001b[0mplt\u001b[0m\u001b[1;33m.\u001b[0m\u001b[0mylabel\u001b[0m\u001b[1;33m(\u001b[0m\u001b[1;34m'Accuracy'\u001b[0m\u001b[1;33m)\u001b[0m\u001b[1;33m\u001b[0m\u001b[1;33m\u001b[0m\u001b[0m\n\u001b[0;32m      5\u001b[0m \u001b[0mplt\u001b[0m\u001b[1;33m.\u001b[0m\u001b[0mxlabel\u001b[0m\u001b[1;33m(\u001b[0m\u001b[1;34m'Epoch'\u001b[0m\u001b[1;33m)\u001b[0m\u001b[1;33m\u001b[0m\u001b[1;33m\u001b[0m\u001b[0m\n",
      "\u001b[1;31mNameError\u001b[0m: name 'hist' is not defined"
     ]
    }
   ],
   "source": [
    "plt.plot(hist.history['acc'])\n",
    "plt.plot(hist.history['val_acc'])\n",
    "plt.title('Model accuracy')\n",
    "plt.ylabel('Accuracy')\n",
    "plt.xlabel('Epoch')\n",
    "plt.legend(['Train', 'Val'], loc='lower right')\n",
    "plt.show()"
   ]
  },
  {
   "cell_type": "code",
   "execution_count": 41,
   "metadata": {},
   "outputs": [
    {
     "name": "stdout",
     "output_type": "stream",
     "text": [
      "Downloading data from https://s3.amazonaws.com/keras-datasets/boston_housing.npz\n",
      "57344/57026 [==============================] - 0s 4us/step\n"
     ]
    }
   ],
   "source": [
    "from keras.datasets import boston_housing\n",
    "\n",
    "(train_data, train_targets), (test_data, test_targets) = boston_housing.load_data()"
   ]
  },
  {
   "cell_type": "code",
   "execution_count": 42,
   "metadata": {},
   "outputs": [
    {
     "name": "stdout",
     "output_type": "stream",
     "text": [
      "Training data : (404, 13)\n",
      "Test data : (102, 13)\n",
      "Training sample : [  1.23247   0.        8.14      0.        0.538     6.142    91.7\n",
      "   3.9769    4.      307.       21.      396.9      18.72   ]\n",
      "Training target sample : 15.2\n"
     ]
    }
   ],
   "source": [
    "print(f'Training data : {train_data.shape}')\n",
    "print(f'Test data : {test_data.shape}')\n",
    "print(f'Training sample : {train_data[0]}')\n",
    "print(f'Training target sample : {train_targets[0]}')"
   ]
  },
  {
   "cell_type": "markdown",
   "metadata": {},
   "source": [
    "## Preparing the data"
   ]
  },
  {
   "cell_type": "code",
   "execution_count": 43,
   "metadata": {
    "collapsed": true
   },
   "outputs": [],
   "source": [
    "mean = train_data.mean(axis=0)\n",
    "train_data -= mean\n",
    "std = train_data.std(axis=0)\n",
    "train_data /= std\n",
    "\n",
    "test_data -= mean\n",
    "test_data /= std"
   ]
  },
  {
   "cell_type": "markdown",
   "metadata": {},
   "source": [
    "## Building the network"
   ]
  },
  {
   "cell_type": "code",
   "execution_count": 44,
   "metadata": {
    "collapsed": true
   },
   "outputs": [],
   "source": [
    "from keras import models\n",
    "from keras import layers\n",
    "\n",
    "def build_model():\n",
    "    model = models.Sequential()\n",
    "    model.add(layers.Dense(64, activation='relu', input_shape=(train_data.shape[1],)))\n",
    "    model.add(layers.Dense(64, activation='relu'))\n",
    "    model.add(layers.Dense(1))\n",
    "\n",
    "    model.compile(optimizer='rmsprop',\n",
    "              loss='mse',\n",
    "              metrics=['mae'])\n",
    "    return model"
   ]
  },
  {
   "cell_type": "markdown",
   "metadata": {},
   "source": [
    "## K-fold validation"
   ]
  },
  {
   "cell_type": "code",
   "execution_count": 45,
   "metadata": {},
   "outputs": [
    {
     "name": "stdout",
     "output_type": "stream",
     "text": [
      "Processing fold # 0\n",
      "Processing fold # 1\n",
      "Processing fold # 2\n",
      "Processing fold # 3\n"
     ]
    }
   ],
   "source": [
    "k = 4\n",
    "num_val_samples = len(train_data) // k\n",
    "num_epochs = 100\n",
    "all_scores = []\n",
    "\n",
    "for i in range(k):\n",
    "    print(f'Processing fold # {i}')\n",
    "    val_data = train_data[i * num_val_samples: (i+1) * num_val_samples]\n",
    "    val_targets = train_targets[i * num_val_samples: (i+1) * num_val_samples]\n",
    "    \n",
    "    partial_train_data = np.concatenate(\n",
    "                            [train_data[:i * num_val_samples],\n",
    "                            train_data[(i+1) * num_val_samples:]],\n",
    "                            axis=0)\n",
    "    partial_train_targets = np.concatenate(\n",
    "                            [train_targets[:i * num_val_samples],\n",
    "                            train_targets[(i+1)*num_val_samples:]],\n",
    "                            axis=0)\n",
    "    model = build_model()\n",
    "    model.fit(partial_train_data,\n",
    "              partial_train_targets,\n",
    "              epochs=num_epochs,\n",
    "              batch_size=1,\n",
    "              verbose=0)\n",
    "    val_mse, val_mae = model.evaluate(val_data, val_targets, verbose=0)\n",
    "    all_scores.append(val_mae)\n"
   ]
  },
  {
   "cell_type": "code",
   "execution_count": 47,
   "metadata": {},
   "outputs": [
    {
     "name": "stdout",
     "output_type": "stream",
     "text": [
      "all_scores : [2.7037034034729004, 2.107163190841675, 2.6224045753479004, 2.3437278270721436]\n",
      "mean all scores : 2.444249749183655\n"
     ]
    }
   ],
   "source": [
    "print(f'all_scores : {all_scores}')\n",
    "print(f'mean all scores : {np.mean(all_scores)}')"
   ]
  },
  {
   "cell_type": "code",
   "execution_count": 48,
   "metadata": {},
   "outputs": [
    {
     "name": "stdout",
     "output_type": "stream",
     "text": [
      "102/102 [==============================] - 0s 206us/step\n"
     ]
    }
   ],
   "source": [
    "model = build_model()\n",
    "model.fit(train_data, train_targets, epochs=80, batch_size=16, verbose=0)\n",
    "test_mse_score, test_mae_score = model.evaluate(test_data, test_targets)"
   ]
  },
  {
   "cell_type": "code",
   "execution_count": 49,
   "metadata": {},
   "outputs": [
    {
     "data": {
      "text/plain": [
       "2.7515878677368164"
      ]
     },
     "execution_count": 49,
     "metadata": {},
     "output_type": "execute_result"
    }
   ],
   "source": [
    "test_mae_score"
   ]
  },
  {
   "cell_type": "code",
   "execution_count": 90,
   "metadata": {},
   "outputs": [
    {
     "data": {
      "text/plain": [
       "array([[6.3200e-03, 1.8000e+01, 2.3100e+00, ..., 1.5300e+01, 3.9690e+02,\n",
       "        4.9800e+00],\n",
       "       [2.7310e-02, 0.0000e+00, 7.0700e+00, ..., 1.7800e+01, 3.9690e+02,\n",
       "        9.1400e+00],\n",
       "       [2.7290e-02, 0.0000e+00, 7.0700e+00, ..., 1.7800e+01, 3.9283e+02,\n",
       "        4.0300e+00],\n",
       "       ...,\n",
       "       [6.0760e-02, 0.0000e+00, 1.1930e+01, ..., 2.1000e+01, 3.9690e+02,\n",
       "        5.6400e+00],\n",
       "       [1.0959e-01, 0.0000e+00, 1.1930e+01, ..., 2.1000e+01, 3.9345e+02,\n",
       "        6.4800e+00],\n",
       "       [4.7410e-02, 0.0000e+00, 1.1930e+01, ..., 2.1000e+01, 3.9690e+02,\n",
       "        7.8800e+00]])"
      ]
     },
     "execution_count": 90,
     "metadata": {},
     "output_type": "execute_result"
    }
   ],
   "source": [
    "X = df.iloc[:,0:13].values\n",
    "X"
   ]
  },
  {
   "cell_type": "code",
   "execution_count": 91,
   "metadata": {},
   "outputs": [
    {
     "data": {
      "text/plain": [
       "array([24. , 21.6, 34.7, 33.4, 36.2, 28.7, 22.9, 27.1, 16.5, 18.9, 15. ,\n",
       "       18.9, 21.7, 20.4, 18.2, 19.9, 23.1, 17.5, 20.2, 18.2, 13.6, 19.6,\n",
       "       15.2, 14.5, 15.6, 13.9, 16.6, 14.8, 18.4, 21. , 12.7, 14.5, 13.2,\n",
       "       13.1, 13.5, 18.9, 20. , 21. , 24.7, 30.8, 34.9, 26.6, 25.3, 24.7,\n",
       "       21.2, 19.3, 20. , 16.6, 14.4, 19.4, 19.7, 20.5, 25. , 23.4, 18.9,\n",
       "       35.4, 24.7, 31.6, 23.3, 19.6, 18.7, 16. , 22.2, 25. , 33. , 23.5,\n",
       "       19.4, 22. , 17.4, 20.9, 24.2, 21.7, 22.8, 23.4, 24.1, 21.4, 20. ,\n",
       "       20.8, 21.2, 20.3, 28. , 23.9, 24.8, 22.9, 23.9, 26.6, 22.5, 22.2,\n",
       "       23.6, 28.7, 22.6, 22. , 22.9, 25. , 20.6, 28.4, 21.4, 38.7, 43.8,\n",
       "       33.2, 27.5, 26.5, 18.6, 19.3, 20.1, 19.5, 19.5, 20.4, 19.8, 19.4,\n",
       "       21.7, 22.8, 18.8, 18.7, 18.5, 18.3, 21.2, 19.2, 20.4, 19.3, 22. ,\n",
       "       20.3, 20.5, 17.3, 18.8, 21.4, 15.7, 16.2, 18. , 14.3, 19.2, 19.6,\n",
       "       23. , 18.4, 15.6, 18.1, 17.4, 17.1, 13.3, 17.8, 14. , 14.4, 13.4,\n",
       "       15.6, 11.8, 13.8, 15.6, 14.6, 17.8, 15.4, 21.5, 19.6, 15.3, 19.4,\n",
       "       17. , 15.6, 13.1, 41.3, 24.3, 23.3, 27. , 50. , 50. , 50. , 22.7,\n",
       "       25. , 50. , 23.8, 23.8, 22.3, 17.4, 19.1, 23.1, 23.6, 22.6, 29.4,\n",
       "       23.2, 24.6, 29.9, 37.2, 39.8, 36.2, 37.9, 32.5, 26.4, 29.6, 50. ,\n",
       "       32. , 29.8, 34.9, 37. , 30.5, 36.4, 31.1, 29.1, 50. , 33.3, 30.3,\n",
       "       34.6, 34.9, 32.9, 24.1, 42.3, 48.5, 50. , 22.6, 24.4, 22.5, 24.4,\n",
       "       20. , 21.7, 19.3, 22.4, 28.1, 23.7, 25. , 23.3, 28.7, 21.5, 23. ,\n",
       "       26.7, 21.7, 27.5, 30.1, 44.8, 50. , 37.6, 31.6, 46.7, 31.5, 24.3,\n",
       "       31.7, 41.7, 48.3, 29. , 24. , 25.1, 31.5, 23.7, 23.3, 22. , 20.1,\n",
       "       22.2, 23.7, 17.6, 18.5, 24.3, 20.5, 24.5, 26.2, 24.4, 24.8, 29.6,\n",
       "       42.8, 21.9, 20.9, 44. , 50. , 36. , 30.1, 33.8, 43.1, 48.8, 31. ,\n",
       "       36.5, 22.8, 30.7, 50. , 43.5, 20.7, 21.1, 25.2, 24.4, 35.2, 32.4,\n",
       "       32. , 33.2, 33.1, 29.1, 35.1, 45.4, 35.4, 46. , 50. , 32.2, 22. ,\n",
       "       20.1, 23.2, 22.3, 24.8, 28.5, 37.3, 27.9, 23.9, 21.7, 28.6, 27.1,\n",
       "       20.3, 22.5, 29. , 24.8, 22. , 26.4, 33.1, 36.1, 28.4, 33.4, 28.2,\n",
       "       22.8, 20.3, 16.1, 22.1, 19.4, 21.6, 23.8, 16.2, 17.8, 19.8, 23.1,\n",
       "       21. , 23.8, 23.1, 20.4, 18.5, 25. , 24.6, 23. , 22.2, 19.3, 22.6,\n",
       "       19.8, 17.1, 19.4, 22.2, 20.7, 21.1, 19.5, 18.5, 20.6, 19. , 18.7,\n",
       "       32.7, 16.5, 23.9, 31.2, 17.5, 17.2, 23.1, 24.5, 26.6, 22.9, 24.1,\n",
       "       18.6, 30.1, 18.2, 20.6, 17.8, 21.7, 22.7, 22.6, 25. , 19.9, 20.8,\n",
       "       16.8, 21.9, 27.5, 21.9, 23.1, 50. , 50. , 50. , 50. , 50. , 13.8,\n",
       "       13.8, 15. , 13.9, 13.3, 13.1, 10.2, 10.4, 10.9, 11.3, 12.3,  8.8,\n",
       "        7.2, 10.5,  7.4, 10.2, 11.5, 15.1, 23.2,  9.7, 13.8, 12.7, 13.1,\n",
       "       12.5,  8.5,  5. ,  6.3,  5.6,  7.2, 12.1,  8.3,  8.5,  5. , 11.9,\n",
       "       27.9, 17.2, 27.5, 15. , 17.2, 17.9, 16.3,  7. ,  7.2,  7.5, 10.4,\n",
       "        8.8,  8.4, 16.7, 14.2, 20.8, 13.4, 11.7,  8.3, 10.2, 10.9, 11. ,\n",
       "        9.5, 14.5, 14.1, 16.1, 14.3, 11.7, 13.4,  9.6,  8.7,  8.4, 12.8,\n",
       "       10.5, 17.1, 18.4, 15.4, 10.8, 11.8, 14.9, 12.6, 14.1, 13. , 13.4,\n",
       "       15.2, 16.1, 17.8, 14.9, 14.1, 12.7, 13.5, 14.9, 20. , 16.4, 17.7,\n",
       "       19.5, 20.2, 21.4, 19.9, 19. , 19.1, 19.1, 20.1, 19.9, 19.6, 23.2,\n",
       "       29.8, 13.8, 13.3, 16.7, 12. , 14.6, 21.4, 23. , 23.7, 25. , 21.8,\n",
       "       20.6, 21.2, 19.1, 20.6, 15.2,  7. ,  8.1, 13.6, 20.1, 21.8, 24.5,\n",
       "       23.1, 19.7, 18.3, 21.2, 17.5, 16.8, 22.4, 20.6, 23.9, 22. , 11.9])"
      ]
     },
     "execution_count": 91,
     "metadata": {},
     "output_type": "execute_result"
    }
   ],
   "source": [
    "Y = df.iloc[:,13].values\n",
    "Y"
   ]
  },
  {
   "cell_type": "code",
   "execution_count": 93,
   "metadata": {
    "collapsed": true
   },
   "outputs": [],
   "source": [
    "from keras.models import Sequential\n",
    "from keras.layers import Dense"
   ]
  },
  {
   "cell_type": "code",
   "execution_count": 94,
   "metadata": {},
   "outputs": [
    {
     "name": "stdout",
     "output_type": "stream",
     "text": [
      "Epoch 1/100\n",
      "506/506 [==============================] - 1s 1ms/step - loss: 201.0550 - accuracy: 0.0040\n",
      "Epoch 2/100\n",
      "506/506 [==============================] - 0s 499us/step - loss: 90.3587 - accuracy: 0.0099\n",
      "Epoch 3/100\n",
      "506/506 [==============================] - 0s 539us/step - loss: 75.3167 - accuracy: 0.0158\n",
      "Epoch 4/100\n",
      "506/506 [==============================] - 0s 534us/step - loss: 70.3445 - accuracy: 0.0138\n",
      "Epoch 5/100\n",
      "506/506 [==============================] - 0s 587us/step - loss: 64.9320 - accuracy: 0.0040\n",
      "Epoch 6/100\n",
      "506/506 [==============================] - 0s 568us/step - loss: 62.7500 - accuracy: 0.0079\n",
      "Epoch 7/100\n",
      "506/506 [==============================] - 0s 534us/step - loss: 60.3115 - accuracy: 0.0059\n",
      "Epoch 8/100\n",
      "506/506 [==============================] - 0s 553us/step - loss: 57.3647 - accuracy: 0.0158\n",
      "Epoch 9/100\n",
      "506/506 [==============================] - 0s 598us/step - loss: 55.2052 - accuracy: 0.0059\n",
      "Epoch 10/100\n",
      "506/506 [==============================] - 0s 529us/step - loss: 53.5333 - accuracy: 0.0119\n",
      "Epoch 11/100\n",
      "506/506 [==============================] - 0s 519us/step - loss: 53.2357 - accuracy: 0.0099\n",
      "Epoch 12/100\n",
      "506/506 [==============================] - 0s 608us/step - loss: 51.5645 - accuracy: 0.0059\n",
      "Epoch 13/100\n",
      "506/506 [==============================] - 0s 553us/step - loss: 48.5519 - accuracy: 0.0158\n",
      "Epoch 14/100\n",
      "506/506 [==============================] - 0s 563us/step - loss: 46.7392 - accuracy: 0.0040\n",
      "Epoch 15/100\n",
      "506/506 [==============================] - 0s 543us/step - loss: 44.8108 - accuracy: 0.0158\n",
      "Epoch 16/100\n",
      "506/506 [==============================] - 0s 539us/step - loss: 44.0324 - accuracy: 0.0020\n",
      "Epoch 17/100\n",
      "506/506 [==============================] - 0s 544us/step - loss: 41.1331 - accuracy: 0.0119\n",
      "Epoch 18/100\n",
      "506/506 [==============================] - 0s 534us/step - loss: 39.7702 - accuracy: 0.0138\n",
      "Epoch 19/100\n",
      "506/506 [==============================] - 0s 558us/step - loss: 38.5743 - accuracy: 0.0138\n",
      "Epoch 20/100\n",
      "506/506 [==============================] - 0s 548us/step - loss: 37.3336 - accuracy: 0.0217\n",
      "Epoch 21/100\n",
      "506/506 [==============================] - 0s 568us/step - loss: 34.9175 - accuracy: 0.0079\n",
      "Epoch 22/100\n",
      "506/506 [==============================] - 0s 696us/step - loss: 35.3782 - accuracy: 0.0138\n",
      "Epoch 23/100\n",
      "506/506 [==============================] - 0s 573us/step - loss: 33.7852 - accuracy: 0.0099\n",
      "Epoch 24/100\n",
      "506/506 [==============================] - 0s 544us/step - loss: 32.9689 - accuracy: 0.0178\n",
      "Epoch 25/100\n",
      "506/506 [==============================] - 0s 563us/step - loss: 32.8242 - accuracy: 0.0079\n",
      "Epoch 26/100\n",
      "506/506 [==============================] - 0s 568us/step - loss: 32.2108 - accuracy: 0.0059\n",
      "Epoch 27/100\n",
      "506/506 [==============================] - 0s 558us/step - loss: 31.8643 - accuracy: 0.0099\n",
      "Epoch 28/100\n",
      "506/506 [==============================] - 0s 567us/step - loss: 29.9509 - accuracy: 0.0119\n",
      "Epoch 29/100\n",
      "506/506 [==============================] - 0s 553us/step - loss: 31.0764 - accuracy: 0.0099\n",
      "Epoch 30/100\n",
      "506/506 [==============================] - 0s 572us/step - loss: 30.7196 - accuracy: 0.0099\n",
      "Epoch 31/100\n",
      "506/506 [==============================] - 0s 603us/step - loss: 29.0005 - accuracy: 0.0119\n",
      "Epoch 32/100\n",
      "506/506 [==============================] - 0s 636us/step - loss: 28.0546 - accuracy: 0.0158ETA: 0s - loss: 30.8353 - accuracy: 0.015\n",
      "Epoch 33/100\n",
      "506/506 [==============================] - 0s 548us/step - loss: 28.4810 - accuracy: 0.0099\n",
      "Epoch 34/100\n",
      "506/506 [==============================] - 0s 544us/step - loss: 27.3494 - accuracy: 0.0138\n",
      "Epoch 35/100\n",
      "506/506 [==============================] - 0s 534us/step - loss: 27.3533 - accuracy: 0.0119\n",
      "Epoch 36/100\n",
      "506/506 [==============================] - 0s 568us/step - loss: 27.7257 - accuracy: 0.0178\n",
      "Epoch 37/100\n",
      "506/506 [==============================] - 0s 672us/step - loss: 26.2955 - accuracy: 0.0079\n",
      "Epoch 38/100\n",
      "506/506 [==============================] - 0s 548us/step - loss: 26.3839 - accuracy: 0.0158\n",
      "Epoch 39/100\n",
      "506/506 [==============================] - 0s 534us/step - loss: 26.8996 - accuracy: 0.0079\n",
      "Epoch 40/100\n",
      "506/506 [==============================] - 0s 548us/step - loss: 25.0136 - accuracy: 0.0119\n",
      "Epoch 41/100\n",
      "506/506 [==============================] - 0s 563us/step - loss: 25.3549 - accuracy: 0.0138\n",
      "Epoch 42/100\n",
      "506/506 [==============================] - 0s 543us/step - loss: 24.8103 - accuracy: 0.0198\n",
      "Epoch 43/100\n",
      "506/506 [==============================] - 0s 642us/step - loss: 23.9033 - accuracy: 0.0198\n",
      "Epoch 44/100\n",
      "506/506 [==============================] - 0s 548us/step - loss: 23.9472 - accuracy: 0.0178\n",
      "Epoch 45/100\n",
      "506/506 [==============================] - 0s 524us/step - loss: 23.8136 - accuracy: 0.0079\n",
      "Epoch 46/100\n",
      "506/506 [==============================] - 0s 519us/step - loss: 23.5302 - accuracy: 0.0099\n",
      "Epoch 47/100\n",
      "506/506 [==============================] - 0s 558us/step - loss: 22.7166 - accuracy: 0.0178\n",
      "Epoch 48/100\n",
      "506/506 [==============================] - 0s 494us/step - loss: 22.4523 - accuracy: 0.0079\n",
      "Epoch 49/100\n",
      "506/506 [==============================] - 0s 568us/step - loss: 22.2830 - accuracy: 0.0138\n",
      "Epoch 50/100\n",
      "506/506 [==============================] - 0s 514us/step - loss: 22.3974 - accuracy: 0.0119\n",
      "Epoch 51/100\n",
      "506/506 [==============================] - 0s 548us/step - loss: 22.7076 - accuracy: 0.0099\n",
      "Epoch 52/100\n",
      "506/506 [==============================] - 0s 558us/step - loss: 21.5474 - accuracy: 0.0099\n",
      "Epoch 53/100\n",
      "506/506 [==============================] - 0s 553us/step - loss: 23.0348 - accuracy: 0.0158\n",
      "Epoch 54/100\n",
      "506/506 [==============================] - 0s 543us/step - loss: 21.4293 - accuracy: 0.0099\n",
      "Epoch 55/100\n",
      "506/506 [==============================] - 0s 641us/step - loss: 21.1786 - accuracy: 0.0158\n",
      "Epoch 56/100\n",
      "506/506 [==============================] - 0s 822us/step - loss: 21.1309 - accuracy: 0.0138\n",
      "Epoch 57/100\n",
      "506/506 [==============================] - 0s 563us/step - loss: 21.4328 - accuracy: 0.0059\n",
      "Epoch 58/100\n",
      "506/506 [==============================] - 0s 519us/step - loss: 20.8056 - accuracy: 0.0119\n",
      "Epoch 59/100\n",
      "506/506 [==============================] - 0s 568us/step - loss: 20.2456 - accuracy: 0.0158\n",
      "Epoch 60/100\n",
      "506/506 [==============================] - 0s 593us/step - loss: 19.9848 - accuracy: 0.0059\n",
      "Epoch 61/100\n",
      "506/506 [==============================] - 0s 534us/step - loss: 19.7223 - accuracy: 0.0158\n",
      "Epoch 62/100\n",
      "506/506 [==============================] - 0s 568us/step - loss: 20.1082 - accuracy: 0.0119\n",
      "Epoch 63/100\n",
      "506/506 [==============================] - 0s 588us/step - loss: 19.2135 - accuracy: 0.0178\n",
      "Epoch 64/100\n",
      "506/506 [==============================] - 0s 593us/step - loss: 20.2691 - accuracy: 0.0217\n",
      "Epoch 65/100\n",
      "506/506 [==============================] - 0s 553us/step - loss: 19.8653 - accuracy: 0.0099\n",
      "Epoch 66/100\n",
      "506/506 [==============================] - 0s 563us/step - loss: 19.7273 - accuracy: 0.0178\n",
      "Epoch 67/100\n",
      "506/506 [==============================] - 0s 568us/step - loss: 20.6725 - accuracy: 0.0198\n",
      "Epoch 68/100\n",
      "506/506 [==============================] - 0s 494us/step - loss: 19.8786 - accuracy: 0.0099\n",
      "Epoch 69/100\n",
      "506/506 [==============================] - 0s 553us/step - loss: 19.7477 - accuracy: 0.0119\n",
      "Epoch 70/100\n",
      "506/506 [==============================] - 0s 780us/step - loss: 21.7132 - accuracy: 0.0099\n",
      "Epoch 71/100\n",
      "506/506 [==============================] - 0s 573us/step - loss: 19.1550 - accuracy: 0.0158\n",
      "Epoch 72/100\n",
      "506/506 [==============================] - 0s 514us/step - loss: 18.4918 - accuracy: 0.0217\n",
      "Epoch 73/100\n",
      "506/506 [==============================] - 0s 509us/step - loss: 19.8165 - accuracy: 0.0178\n",
      "Epoch 74/100\n",
      "506/506 [==============================] - 0s 553us/step - loss: 18.8124 - accuracy: 0.0178\n",
      "Epoch 75/100\n",
      "506/506 [==============================] - 0s 726us/step - loss: 18.3187 - accuracy: 0.0198\n",
      "Epoch 76/100\n",
      "506/506 [==============================] - 0s 558us/step - loss: 19.3499 - accuracy: 0.0198\n",
      "Epoch 77/100\n",
      "506/506 [==============================] - 0s 543us/step - loss: 19.7833 - accuracy: 0.0079\n",
      "Epoch 78/100\n",
      "506/506 [==============================] - 0s 534us/step - loss: 19.2389 - accuracy: 0.0119\n",
      "Epoch 79/100\n",
      "506/506 [==============================] - 0s 435us/step - loss: 18.6199 - accuracy: 0.0178\n",
      "Epoch 80/100\n",
      "506/506 [==============================] - 0s 400us/step - loss: 18.7461 - accuracy: 0.0158\n",
      "Epoch 81/100\n",
      "506/506 [==============================] - 0s 395us/step - loss: 17.9715 - accuracy: 0.0119\n",
      "Epoch 82/100\n",
      "506/506 [==============================] - 0s 390us/step - loss: 19.1741 - accuracy: 0.0217\n",
      "Epoch 83/100\n",
      "506/506 [==============================] - 0s 385us/step - loss: 17.6902 - accuracy: 0.0198\n",
      "Epoch 84/100\n",
      "506/506 [==============================] - 0s 346us/step - loss: 19.4734 - accuracy: 0.0158\n",
      "Epoch 85/100\n",
      "506/506 [==============================] - 0s 488us/step - loss: 18.7136 - accuracy: 0.0158\n",
      "Epoch 86/100\n",
      "506/506 [==============================] - 0s 440us/step - loss: 17.5212 - accuracy: 0.0119\n",
      "Epoch 87/100\n",
      "506/506 [==============================] - 0s 578us/step - loss: 17.6549 - accuracy: 0.0079\n",
      "Epoch 88/100\n",
      "506/506 [==============================] - 0s 425us/step - loss: 17.8133 - accuracy: 0.0079\n",
      "Epoch 89/100\n",
      "506/506 [==============================] - 0s 405us/step - loss: 18.4878 - accuracy: 0.0237\n",
      "Epoch 90/100\n",
      "506/506 [==============================] - 0s 351us/step - loss: 19.5029 - accuracy: 0.0138\n",
      "Epoch 91/100\n",
      "506/506 [==============================] - 0s 435us/step - loss: 18.6165 - accuracy: 0.0138\n",
      "Epoch 92/100\n",
      "506/506 [==============================] - 0s 450us/step - loss: 18.9545 - accuracy: 0.0059\n",
      "Epoch 93/100\n",
      "506/506 [==============================] - 0s 435us/step - loss: 17.9534 - accuracy: 0.0138\n",
      "Epoch 94/100\n",
      "506/506 [==============================] - 0s 415us/step - loss: 18.9709 - accuracy: 0.0138\n",
      "Epoch 95/100\n",
      "506/506 [==============================] - 0s 455us/step - loss: 18.8596 - accuracy: 0.0198\n",
      "Epoch 96/100\n",
      "506/506 [==============================] - 0s 395us/step - loss: 17.8814 - accuracy: 0.0119\n",
      "Epoch 97/100\n",
      "506/506 [==============================] - 0s 395us/step - loss: 18.7906 - accuracy: 0.0119\n",
      "Epoch 98/100\n",
      "506/506 [==============================] - 0s 356us/step - loss: 19.0996 - accuracy: 0.0158\n",
      "Epoch 99/100\n",
      "506/506 [==============================] - 0s 410us/step - loss: 17.7552 - accuracy: 0.0217\n",
      "Epoch 100/100\n",
      "506/506 [==============================] - 0s 410us/step - loss: 18.7456 - accuracy: 0.0178\n"
     ]
    },
    {
     "data": {
      "text/plain": [
       "<keras.callbacks.callbacks.History at 0x23280ba8>"
      ]
     },
     "execution_count": 94,
     "metadata": {},
     "output_type": "execute_result"
    }
   ],
   "source": [
    "model = Sequential()\n",
    "model.add(Dense(13, input_dim=13, kernel_initializer='normal', activation='relu'))\n",
    "model.add(Dense(1, kernel_initializer='normal'))\n",
    "# Compile model asking for accuracy, too:\n",
    "model.compile(loss='mean_squared_error', optimizer='adam', metrics=['accuracy'])\n",
    "\n",
    "model.fit(X, Y,\n",
    "     batch_size=5,\n",
    "     epochs=100,\n",
    "     verbose=1)"
   ]
  },
  {
   "cell_type": "code",
   "execution_count": 95,
   "metadata": {},
   "outputs": [
    {
     "data": {
      "text/plain": [
       "[15.883681466928113, 0.013833992183208466]"
      ]
     },
     "execution_count": 95,
     "metadata": {},
     "output_type": "execute_result"
    }
   ],
   "source": [
    "score = model.evaluate(X, Y, verbose=0)\n",
    "score"
   ]
  },
  {
   "cell_type": "code",
   "execution_count": 96,
   "metadata": {
    "collapsed": true
   },
   "outputs": [],
   "source": [
    "def binary_accuracy(y_true, y_pred):\n",
    "    return K.mean(K.equal(y_true, K.round(y_pred)), axis=-1)"
   ]
  },
  {
   "cell_type": "code",
   "execution_count": 97,
   "metadata": {},
   "outputs": [
    {
     "data": {
      "text/plain": [
       "array([0.01383399])"
      ]
     },
     "execution_count": 97,
     "metadata": {},
     "output_type": "execute_result"
    }
   ],
   "source": [
    "y_pred = model.predict(X)\n",
    "l = len(Y)\n",
    "acc = sum([np.round(y_pred[i])==Y[i] for i in range(l)])/l\n",
    "acc"
   ]
  },
  {
   "cell_type": "code",
   "execution_count": 101,
   "metadata": {
    "collapsed": true
   },
   "outputs": [],
   "source": [
    "from matplotlib import pyplot as plt"
   ]
  },
  {
   "cell_type": "code",
   "execution_count": 102,
   "metadata": {},
   "outputs": [
    {
     "ename": "NameError",
     "evalue": "name 'hist' is not defined",
     "output_type": "error",
     "traceback": [
      "\u001b[1;31m---------------------------------------------------------------------------\u001b[0m",
      "\u001b[1;31mNameError\u001b[0m                                 Traceback (most recent call last)",
      "\u001b[1;32m<ipython-input-102-ad13f78e1055>\u001b[0m in \u001b[0;36m<module>\u001b[1;34m()\u001b[0m\n\u001b[1;32m----> 1\u001b[1;33m \u001b[0mplt\u001b[0m\u001b[1;33m.\u001b[0m\u001b[0mplot\u001b[0m\u001b[1;33m(\u001b[0m\u001b[0mhist\u001b[0m\u001b[1;33m.\u001b[0m\u001b[0mhistory\u001b[0m\u001b[1;33m[\u001b[0m\u001b[1;34m'acc'\u001b[0m\u001b[1;33m]\u001b[0m\u001b[1;33m)\u001b[0m\u001b[1;33m\u001b[0m\u001b[0m\n\u001b[0m\u001b[0;32m      2\u001b[0m \u001b[0mplt\u001b[0m\u001b[1;33m.\u001b[0m\u001b[0mplot\u001b[0m\u001b[1;33m(\u001b[0m\u001b[0mhist\u001b[0m\u001b[1;33m.\u001b[0m\u001b[0mhistory\u001b[0m\u001b[1;33m[\u001b[0m\u001b[1;34m'val_acc'\u001b[0m\u001b[1;33m]\u001b[0m\u001b[1;33m)\u001b[0m\u001b[1;33m\u001b[0m\u001b[0m\n\u001b[0;32m      3\u001b[0m \u001b[0mplt\u001b[0m\u001b[1;33m.\u001b[0m\u001b[0mtitle\u001b[0m\u001b[1;33m(\u001b[0m\u001b[1;34m'Model accuracy'\u001b[0m\u001b[1;33m)\u001b[0m\u001b[1;33m\u001b[0m\u001b[0m\n\u001b[0;32m      4\u001b[0m \u001b[0mplt\u001b[0m\u001b[1;33m.\u001b[0m\u001b[0mylabel\u001b[0m\u001b[1;33m(\u001b[0m\u001b[1;34m'Accuracy'\u001b[0m\u001b[1;33m)\u001b[0m\u001b[1;33m\u001b[0m\u001b[0m\n\u001b[0;32m      5\u001b[0m \u001b[0mplt\u001b[0m\u001b[1;33m.\u001b[0m\u001b[0mxlabel\u001b[0m\u001b[1;33m(\u001b[0m\u001b[1;34m'Epoch'\u001b[0m\u001b[1;33m)\u001b[0m\u001b[1;33m\u001b[0m\u001b[0m\n",
      "\u001b[1;31mNameError\u001b[0m: name 'hist' is not defined"
     ]
    }
   ],
   "source": [
    "plt.plot(hist.history['acc'])\n",
    "plt.plot(hist.history['val_acc'])\n",
    "plt.title('Model accuracy')\n",
    "plt.ylabel('Accuracy')\n",
    "plt.xlabel('Epoch')\n",
    "plt.legend(['Train', 'Val'], loc='lower right')\n",
    "plt.show()"
   ]
  },
  {
   "cell_type": "code",
   "execution_count": 20,
   "metadata": {},
   "outputs": [
    {
     "name": "stderr",
     "output_type": "stream",
     "text": [
      "C:\\Users\\gerardh\\AppData\\Local\\Continuum\\anaconda3\\lib\\site-packages\\h5py\\__init__.py:36: FutureWarning: Conversion of the second argument of issubdtype from `float` to `np.floating` is deprecated. In future, it will be treated as `np.float64 == np.dtype(float).type`.\n",
      "  from ._conv import register_converters as _register_converters\n",
      "Using TensorFlow backend.\n",
      "C:\\Users\\gerardh\\AppData\\Local\\Continuum\\anaconda3\\lib\\site-packages\\tensorflow\\python\\framework\\dtypes.py:526: FutureWarning: Passing (type, 1) or '1type' as a synonym of type is deprecated; in a future version of numpy, it will be understood as (type, (1,)) / '(1,)type'.\n",
      "  _np_qint8 = np.dtype([(\"qint8\", np.int8, 1)])\n",
      "C:\\Users\\gerardh\\AppData\\Local\\Continuum\\anaconda3\\lib\\site-packages\\tensorflow\\python\\framework\\dtypes.py:527: FutureWarning: Passing (type, 1) or '1type' as a synonym of type is deprecated; in a future version of numpy, it will be understood as (type, (1,)) / '(1,)type'.\n",
      "  _np_quint8 = np.dtype([(\"quint8\", np.uint8, 1)])\n",
      "C:\\Users\\gerardh\\AppData\\Local\\Continuum\\anaconda3\\lib\\site-packages\\tensorflow\\python\\framework\\dtypes.py:528: FutureWarning: Passing (type, 1) or '1type' as a synonym of type is deprecated; in a future version of numpy, it will be understood as (type, (1,)) / '(1,)type'.\n",
      "  _np_qint16 = np.dtype([(\"qint16\", np.int16, 1)])\n",
      "C:\\Users\\gerardh\\AppData\\Local\\Continuum\\anaconda3\\lib\\site-packages\\tensorflow\\python\\framework\\dtypes.py:529: FutureWarning: Passing (type, 1) or '1type' as a synonym of type is deprecated; in a future version of numpy, it will be understood as (type, (1,)) / '(1,)type'.\n",
      "  _np_quint16 = np.dtype([(\"quint16\", np.uint16, 1)])\n",
      "C:\\Users\\gerardh\\AppData\\Local\\Continuum\\anaconda3\\lib\\site-packages\\tensorflow\\python\\framework\\dtypes.py:530: FutureWarning: Passing (type, 1) or '1type' as a synonym of type is deprecated; in a future version of numpy, it will be understood as (type, (1,)) / '(1,)type'.\n",
      "  _np_qint32 = np.dtype([(\"qint32\", np.int32, 1)])\n",
      "C:\\Users\\gerardh\\AppData\\Local\\Continuum\\anaconda3\\lib\\site-packages\\tensorflow\\python\\framework\\dtypes.py:535: FutureWarning: Passing (type, 1) or '1type' as a synonym of type is deprecated; in a future version of numpy, it will be understood as (type, (1,)) / '(1,)type'.\n",
      "  np_resource = np.dtype([(\"resource\", np.ubyte, 1)])\n"
     ]
    }
   ],
   "source": [
    "import keras as kr\n",
    "import pandas as pd\n",
    "import numpy as np\n",
    "import sklearn.preprocessing as pre\n",
    "import sklearn.model_selection as mod\n",
    "import sklearn.decomposition as dec"
   ]
  },
  {
   "cell_type": "code",
   "execution_count": 21,
   "metadata": {
    "collapsed": true
   },
   "outputs": [],
   "source": [
    "from sklearn.datasets import load_boston"
   ]
  },
  {
   "cell_type": "code",
   "execution_count": 24,
   "metadata": {},
   "outputs": [
    {
     "ename": "AttributeError",
     "evalue": "load_boston",
     "output_type": "error",
     "traceback": [
      "\u001b[1;31m---------------------------------------------------------------------------\u001b[0m",
      "\u001b[1;31mKeyError\u001b[0m                                  Traceback (most recent call last)",
      "\u001b[1;32m~\\AppData\\Local\\Continuum\\anaconda3\\lib\\site-packages\\sklearn\\utils\\__init__.py\u001b[0m in \u001b[0;36m__getattr__\u001b[1;34m(self, key)\u001b[0m\n\u001b[0;32m    104\u001b[0m         \u001b[1;32mtry\u001b[0m\u001b[1;33m:\u001b[0m\u001b[1;33m\u001b[0m\u001b[0m\n\u001b[1;32m--> 105\u001b[1;33m             \u001b[1;32mreturn\u001b[0m \u001b[0mself\u001b[0m\u001b[1;33m[\u001b[0m\u001b[0mkey\u001b[0m\u001b[1;33m]\u001b[0m\u001b[1;33m\u001b[0m\u001b[0m\n\u001b[0m\u001b[0;32m    106\u001b[0m         \u001b[1;32mexcept\u001b[0m \u001b[0mKeyError\u001b[0m\u001b[1;33m:\u001b[0m\u001b[1;33m\u001b[0m\u001b[0m\n",
      "\u001b[1;31mKeyError\u001b[0m: 'load_boston'",
      "\nDuring handling of the above exception, another exception occurred:\n",
      "\u001b[1;31mAttributeError\u001b[0m                            Traceback (most recent call last)",
      "\u001b[1;32m<ipython-input-24-c9459c0c4686>\u001b[0m in \u001b[0;36m<module>\u001b[1;34m()\u001b[0m\n\u001b[1;32m----> 1\u001b[1;33m \u001b[0mdf\u001b[0m \u001b[1;33m=\u001b[0m \u001b[0mpd\u001b[0m\u001b[1;33m.\u001b[0m\u001b[0mDataFrame\u001b[0m\u001b[1;33m(\u001b[0m\u001b[0mdf\u001b[0m\u001b[1;33m.\u001b[0m\u001b[0mload_boston\u001b[0m\u001b[1;33m)\u001b[0m\u001b[1;33m\u001b[0m\u001b[0m\n\u001b[0m\u001b[0;32m      2\u001b[0m \u001b[0mdf\u001b[0m\u001b[1;33m.\u001b[0m\u001b[0mcolumns\u001b[0m \u001b[1;33m=\u001b[0m \u001b[0mdf\u001b[0m\u001b[1;33m.\u001b[0m\u001b[0mfeature_names\u001b[0m\u001b[1;33m\u001b[0m\u001b[0m\n",
      "\u001b[1;32m~\\AppData\\Local\\Continuum\\anaconda3\\lib\\site-packages\\sklearn\\utils\\__init__.py\u001b[0m in \u001b[0;36m__getattr__\u001b[1;34m(self, key)\u001b[0m\n\u001b[0;32m    105\u001b[0m             \u001b[1;32mreturn\u001b[0m \u001b[0mself\u001b[0m\u001b[1;33m[\u001b[0m\u001b[0mkey\u001b[0m\u001b[1;33m]\u001b[0m\u001b[1;33m\u001b[0m\u001b[0m\n\u001b[0;32m    106\u001b[0m         \u001b[1;32mexcept\u001b[0m \u001b[0mKeyError\u001b[0m\u001b[1;33m:\u001b[0m\u001b[1;33m\u001b[0m\u001b[0m\n\u001b[1;32m--> 107\u001b[1;33m             \u001b[1;32mraise\u001b[0m \u001b[0mAttributeError\u001b[0m\u001b[1;33m(\u001b[0m\u001b[0mkey\u001b[0m\u001b[1;33m)\u001b[0m\u001b[1;33m\u001b[0m\u001b[0m\n\u001b[0m\u001b[0;32m    108\u001b[0m \u001b[1;33m\u001b[0m\u001b[0m\n\u001b[0;32m    109\u001b[0m     \u001b[1;32mdef\u001b[0m \u001b[0m__setstate__\u001b[0m\u001b[1;33m(\u001b[0m\u001b[0mself\u001b[0m\u001b[1;33m,\u001b[0m \u001b[0mstate\u001b[0m\u001b[1;33m)\u001b[0m\u001b[1;33m:\u001b[0m\u001b[1;33m\u001b[0m\u001b[0m\n",
      "\u001b[1;31mAttributeError\u001b[0m: load_boston"
     ]
    }
   ],
   "source": [
    "df = pd.DataFrame(df.load_boston)\n",
    "df.columns = df.feature_names"
   ]
  },
  {
   "cell_type": "code",
   "execution_count": 25,
   "metadata": {},
   "outputs": [
    {
     "data": {
      "text/plain": [
       "{'DESCR': \".. _boston_dataset:\\n\\nBoston house prices dataset\\n---------------------------\\n\\n**Data Set Characteristics:**  \\n\\n    :Number of Instances: 506 \\n\\n    :Number of Attributes: 13 numeric/categorical predictive. Median Value (attribute 14) is usually the target.\\n\\n    :Attribute Information (in order):\\n        - CRIM     per capita crime rate by town\\n        - ZN       proportion of residential land zoned for lots over 25,000 sq.ft.\\n        - INDUS    proportion of non-retail business acres per town\\n        - CHAS     Charles River dummy variable (= 1 if tract bounds river; 0 otherwise)\\n        - NOX      nitric oxides concentration (parts per 10 million)\\n        - RM       average number of rooms per dwelling\\n        - AGE      proportion of owner-occupied units built prior to 1940\\n        - DIS      weighted distances to five Boston employment centres\\n        - RAD      index of accessibility to radial highways\\n        - TAX      full-value property-tax rate per $10,000\\n        - PTRATIO  pupil-teacher ratio by town\\n        - B        1000(Bk - 0.63)^2 where Bk is the proportion of blacks by town\\n        - LSTAT    % lower status of the population\\n        - MEDV     Median value of owner-occupied homes in $1000's\\n\\n    :Missing Attribute Values: None\\n\\n    :Creator: Harrison, D. and Rubinfeld, D.L.\\n\\nThis is a copy of UCI ML housing dataset.\\nhttps://archive.ics.uci.edu/ml/machine-learning-databases/housing/\\n\\n\\nThis dataset was taken from the StatLib library which is maintained at Carnegie Mellon University.\\n\\nThe Boston house-price data of Harrison, D. and Rubinfeld, D.L. 'Hedonic\\nprices and the demand for clean air', J. Environ. Economics & Management,\\nvol.5, 81-102, 1978.   Used in Belsley, Kuh & Welsch, 'Regression diagnostics\\n...', Wiley, 1980.   N.B. Various transformations are used in the table on\\npages 244-261 of the latter.\\n\\nThe Boston house-price data has been used in many machine learning papers that address regression\\nproblems.   \\n     \\n.. topic:: References\\n\\n   - Belsley, Kuh & Welsch, 'Regression diagnostics: Identifying Influential Data and Sources of Collinearity', Wiley, 1980. 244-261.\\n   - Quinlan,R. (1993). Combining Instance-Based and Model-Based Learning. In Proceedings on the Tenth International Conference of Machine Learning, 236-243, University of Massachusetts, Amherst. Morgan Kaufmann.\\n\",\n",
       " 'data': array([[6.3200e-03, 1.8000e+01, 2.3100e+00, ..., 1.5300e+01, 3.9690e+02,\n",
       "         4.9800e+00],\n",
       "        [2.7310e-02, 0.0000e+00, 7.0700e+00, ..., 1.7800e+01, 3.9690e+02,\n",
       "         9.1400e+00],\n",
       "        [2.7290e-02, 0.0000e+00, 7.0700e+00, ..., 1.7800e+01, 3.9283e+02,\n",
       "         4.0300e+00],\n",
       "        ...,\n",
       "        [6.0760e-02, 0.0000e+00, 1.1930e+01, ..., 2.1000e+01, 3.9690e+02,\n",
       "         5.6400e+00],\n",
       "        [1.0959e-01, 0.0000e+00, 1.1930e+01, ..., 2.1000e+01, 3.9345e+02,\n",
       "         6.4800e+00],\n",
       "        [4.7410e-02, 0.0000e+00, 1.1930e+01, ..., 2.1000e+01, 3.9690e+02,\n",
       "         7.8800e+00]]),\n",
       " 'feature_names': array(['CRIM', 'ZN', 'INDUS', 'CHAS', 'NOX', 'RM', 'AGE', 'DIS', 'RAD',\n",
       "        'TAX', 'PTRATIO', 'B', 'LSTAT'], dtype='<U7'),\n",
       " 'filename': 'C:\\\\Users\\\\gerardh\\\\AppData\\\\Local\\\\Continuum\\\\anaconda3\\\\lib\\\\site-packages\\\\sklearn\\\\datasets\\\\data\\\\boston_house_prices.csv',\n",
       " 'target': array([24. , 21.6, 34.7, 33.4, 36.2, 28.7, 22.9, 27.1, 16.5, 18.9, 15. ,\n",
       "        18.9, 21.7, 20.4, 18.2, 19.9, 23.1, 17.5, 20.2, 18.2, 13.6, 19.6,\n",
       "        15.2, 14.5, 15.6, 13.9, 16.6, 14.8, 18.4, 21. , 12.7, 14.5, 13.2,\n",
       "        13.1, 13.5, 18.9, 20. , 21. , 24.7, 30.8, 34.9, 26.6, 25.3, 24.7,\n",
       "        21.2, 19.3, 20. , 16.6, 14.4, 19.4, 19.7, 20.5, 25. , 23.4, 18.9,\n",
       "        35.4, 24.7, 31.6, 23.3, 19.6, 18.7, 16. , 22.2, 25. , 33. , 23.5,\n",
       "        19.4, 22. , 17.4, 20.9, 24.2, 21.7, 22.8, 23.4, 24.1, 21.4, 20. ,\n",
       "        20.8, 21.2, 20.3, 28. , 23.9, 24.8, 22.9, 23.9, 26.6, 22.5, 22.2,\n",
       "        23.6, 28.7, 22.6, 22. , 22.9, 25. , 20.6, 28.4, 21.4, 38.7, 43.8,\n",
       "        33.2, 27.5, 26.5, 18.6, 19.3, 20.1, 19.5, 19.5, 20.4, 19.8, 19.4,\n",
       "        21.7, 22.8, 18.8, 18.7, 18.5, 18.3, 21.2, 19.2, 20.4, 19.3, 22. ,\n",
       "        20.3, 20.5, 17.3, 18.8, 21.4, 15.7, 16.2, 18. , 14.3, 19.2, 19.6,\n",
       "        23. , 18.4, 15.6, 18.1, 17.4, 17.1, 13.3, 17.8, 14. , 14.4, 13.4,\n",
       "        15.6, 11.8, 13.8, 15.6, 14.6, 17.8, 15.4, 21.5, 19.6, 15.3, 19.4,\n",
       "        17. , 15.6, 13.1, 41.3, 24.3, 23.3, 27. , 50. , 50. , 50. , 22.7,\n",
       "        25. , 50. , 23.8, 23.8, 22.3, 17.4, 19.1, 23.1, 23.6, 22.6, 29.4,\n",
       "        23.2, 24.6, 29.9, 37.2, 39.8, 36.2, 37.9, 32.5, 26.4, 29.6, 50. ,\n",
       "        32. , 29.8, 34.9, 37. , 30.5, 36.4, 31.1, 29.1, 50. , 33.3, 30.3,\n",
       "        34.6, 34.9, 32.9, 24.1, 42.3, 48.5, 50. , 22.6, 24.4, 22.5, 24.4,\n",
       "        20. , 21.7, 19.3, 22.4, 28.1, 23.7, 25. , 23.3, 28.7, 21.5, 23. ,\n",
       "        26.7, 21.7, 27.5, 30.1, 44.8, 50. , 37.6, 31.6, 46.7, 31.5, 24.3,\n",
       "        31.7, 41.7, 48.3, 29. , 24. , 25.1, 31.5, 23.7, 23.3, 22. , 20.1,\n",
       "        22.2, 23.7, 17.6, 18.5, 24.3, 20.5, 24.5, 26.2, 24.4, 24.8, 29.6,\n",
       "        42.8, 21.9, 20.9, 44. , 50. , 36. , 30.1, 33.8, 43.1, 48.8, 31. ,\n",
       "        36.5, 22.8, 30.7, 50. , 43.5, 20.7, 21.1, 25.2, 24.4, 35.2, 32.4,\n",
       "        32. , 33.2, 33.1, 29.1, 35.1, 45.4, 35.4, 46. , 50. , 32.2, 22. ,\n",
       "        20.1, 23.2, 22.3, 24.8, 28.5, 37.3, 27.9, 23.9, 21.7, 28.6, 27.1,\n",
       "        20.3, 22.5, 29. , 24.8, 22. , 26.4, 33.1, 36.1, 28.4, 33.4, 28.2,\n",
       "        22.8, 20.3, 16.1, 22.1, 19.4, 21.6, 23.8, 16.2, 17.8, 19.8, 23.1,\n",
       "        21. , 23.8, 23.1, 20.4, 18.5, 25. , 24.6, 23. , 22.2, 19.3, 22.6,\n",
       "        19.8, 17.1, 19.4, 22.2, 20.7, 21.1, 19.5, 18.5, 20.6, 19. , 18.7,\n",
       "        32.7, 16.5, 23.9, 31.2, 17.5, 17.2, 23.1, 24.5, 26.6, 22.9, 24.1,\n",
       "        18.6, 30.1, 18.2, 20.6, 17.8, 21.7, 22.7, 22.6, 25. , 19.9, 20.8,\n",
       "        16.8, 21.9, 27.5, 21.9, 23.1, 50. , 50. , 50. , 50. , 50. , 13.8,\n",
       "        13.8, 15. , 13.9, 13.3, 13.1, 10.2, 10.4, 10.9, 11.3, 12.3,  8.8,\n",
       "         7.2, 10.5,  7.4, 10.2, 11.5, 15.1, 23.2,  9.7, 13.8, 12.7, 13.1,\n",
       "        12.5,  8.5,  5. ,  6.3,  5.6,  7.2, 12.1,  8.3,  8.5,  5. , 11.9,\n",
       "        27.9, 17.2, 27.5, 15. , 17.2, 17.9, 16.3,  7. ,  7.2,  7.5, 10.4,\n",
       "         8.8,  8.4, 16.7, 14.2, 20.8, 13.4, 11.7,  8.3, 10.2, 10.9, 11. ,\n",
       "         9.5, 14.5, 14.1, 16.1, 14.3, 11.7, 13.4,  9.6,  8.7,  8.4, 12.8,\n",
       "        10.5, 17.1, 18.4, 15.4, 10.8, 11.8, 14.9, 12.6, 14.1, 13. , 13.4,\n",
       "        15.2, 16.1, 17.8, 14.9, 14.1, 12.7, 13.5, 14.9, 20. , 16.4, 17.7,\n",
       "        19.5, 20.2, 21.4, 19.9, 19. , 19.1, 19.1, 20.1, 19.9, 19.6, 23.2,\n",
       "        29.8, 13.8, 13.3, 16.7, 12. , 14.6, 21.4, 23. , 23.7, 25. , 21.8,\n",
       "        20.6, 21.2, 19.1, 20.6, 15.2,  7. ,  8.1, 13.6, 20.1, 21.8, 24.5,\n",
       "        23.1, 19.7, 18.3, 21.2, 17.5, 16.8, 22.4, 20.6, 23.9, 22. , 11.9])}"
      ]
     },
     "execution_count": 25,
     "metadata": {},
     "output_type": "execute_result"
    }
   ],
   "source": [
    "load_boston()"
   ]
  },
  {
   "cell_type": "code",
   "execution_count": null,
   "metadata": {
    "collapsed": true
   },
   "outputs": [],
   "source": []
  }
 ],
 "metadata": {
  "kernelspec": {
   "display_name": "Python 3",
   "language": "python",
   "name": "python3"
  },
  "language_info": {
   "codemirror_mode": {
    "name": "ipython",
    "version": 3
   },
   "file_extension": ".py",
   "mimetype": "text/x-python",
   "name": "python",
   "nbconvert_exporter": "python",
   "pygments_lexer": "ipython3",
   "version": "3.6.3"
  }
 },
 "nbformat": 4,
 "nbformat_minor": 2
}
